{
  "nbformat": 4,
  "nbformat_minor": 0,
  "metadata": {
    "colab": {
      "name": "Absenteesim_at_work.ipynb",
      "provenance": [],
      "authorship_tag": "ABX9TyOXVogC9nlZ5LVgRCVoANol",
      "include_colab_link": true
    },
    "kernelspec": {
      "name": "python3",
      "display_name": "Python 3"
    },
    "language_info": {
      "name": "python"
    }
  },
  "cells": [
    {
      "cell_type": "markdown",
      "metadata": {
        "id": "view-in-github",
        "colab_type": "text"
      },
      "source": [
        "<a href=\"https://colab.research.google.com/github/ravi260372/Data_Science_Python/blob/main/Absenteesim_at_work.ipynb\" target=\"_parent\"><img src=\"https://colab.research.google.com/assets/colab-badge.svg\" alt=\"Open In Colab\"/></a>"
      ]
    },
    {
      "cell_type": "markdown",
      "metadata": {
        "id": "MC0olp8NHb8j"
      },
      "source": [
        "# Business Understanding\n",
        "This is a data set from the University of California Irvine machine learning repository. This data was created by PhD students in Brazil attending Universidade Nove de Julho working on their thesis. In a brief explanation of the data as the UCI repo web page states in the data’s abstract: “The database was created with records of absenteeism at work from July 2007 to July 2010 at a courier company in Brazil.”  \n",
        "The task at hand is to build a \"predictive model\" to forecast \"Absenteeism\""
      ]
    },
    {
      "cell_type": "markdown",
      "metadata": {
        "id": "IB_Ob6_MI7vU"
      },
      "source": [
        "# Data Understanding\n",
        "\n",
        "## Import and Clean Data"
      ]
    },
    {
      "cell_type": "code",
      "metadata": {
        "id": "30nOfKYpJJKd"
      },
      "source": [
        "# import libraries\n",
        "import pandas as pd\n",
        "import matplotlib.pyplot as plt\n",
        "import seaborn as sns\n",
        "import numpy as np\n",
        "%matplotlib inline\n",
        "plt.style.use('fivethirtyeight')\n",
        "import warnings\n",
        "warnings.filterwarnings(\"ignore\")"
      ],
      "execution_count": 93,
      "outputs": []
    },
    {
      "cell_type": "code",
      "metadata": {
        "colab": {
          "resources": {
            "http://localhost:8080/nbextensions/google.colab/files.js": {
              "data": "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",
              "ok": true,
              "headers": [
                [
                  "content-type",
                  "application/javascript"
                ]
              ],
              "status": 200,
              "status_text": ""
            }
          },
          "base_uri": "https://localhost:8080/",
          "height": 91
        },
        "id": "mfqNh_pbJenH",
        "outputId": "e1e478ca-a8e3-4469-c1e8-cc0d03a7a99c"
      },
      "source": [
        "# load datafile in workspace\n",
        "from google.colab import files\n",
        "uploaded = files.upload()\n",
        "for fn in uploaded.keys():\n",
        "  print('User uploaded file \"{name}\" with length {length} bytes'.format(\n",
        "      name=fn, length=len(uploaded[fn])))"
      ],
      "execution_count": 94,
      "outputs": [
        {
          "output_type": "display_data",
          "data": {
            "text/html": [
              "\n",
              "     <input type=\"file\" id=\"files-66ffcaac-b37b-4690-a7f8-1908a666ac25\" name=\"files[]\" multiple disabled\n",
              "        style=\"border:none\" />\n",
              "     <output id=\"result-66ffcaac-b37b-4690-a7f8-1908a666ac25\">\n",
              "      Upload widget is only available when the cell has been executed in the\n",
              "      current browser session. Please rerun this cell to enable.\n",
              "      </output>\n",
              "      <script src=\"/nbextensions/google.colab/files.js\"></script> "
            ],
            "text/plain": [
              "<IPython.core.display.HTML object>"
            ]
          },
          "metadata": {
            "tags": []
          }
        },
        {
          "output_type": "stream",
          "text": [
            "Saving Absenteeism.csv to Absenteeism (2).csv\n",
            "User uploaded file \"Absenteeism.csv\" with length 46712 bytes\n"
          ],
          "name": "stdout"
        }
      ]
    },
    {
      "cell_type": "code",
      "metadata": {
        "colab": {
          "base_uri": "https://localhost:8080/",
          "height": 663
        },
        "id": "1mVjadfmJssC",
        "outputId": "40f3c36f-576b-456b-ffe0-18d330c6387b"
      },
      "source": [
        "# load the data into a dataframe and inspect a few rows\n",
        "df = pd.read_csv(\"Absenteeism.csv\" , header = 0, delimiter = \",\") ## 1st row is the header and data is \"comma separated\"\n",
        "df.sample(5).T"
      ],
      "execution_count": 136,
      "outputs": [
        {
          "output_type": "execute_result",
          "data": {
            "text/html": [
              "<div>\n",
              "<style scoped>\n",
              "    .dataframe tbody tr th:only-of-type {\n",
              "        vertical-align: middle;\n",
              "    }\n",
              "\n",
              "    .dataframe tbody tr th {\n",
              "        vertical-align: top;\n",
              "    }\n",
              "\n",
              "    .dataframe thead th {\n",
              "        text-align: right;\n",
              "    }\n",
              "</style>\n",
              "<table border=\"1\" class=\"dataframe\">\n",
              "  <thead>\n",
              "    <tr style=\"text-align: right;\">\n",
              "      <th></th>\n",
              "      <th>314</th>\n",
              "      <th>48</th>\n",
              "      <th>305</th>\n",
              "      <th>168</th>\n",
              "      <th>438</th>\n",
              "    </tr>\n",
              "  </thead>\n",
              "  <tbody>\n",
              "    <tr>\n",
              "      <th>ID</th>\n",
              "      <td>22</td>\n",
              "      <td>20</td>\n",
              "      <td>5</td>\n",
              "      <td>11</td>\n",
              "      <td>34</td>\n",
              "    </tr>\n",
              "    <tr>\n",
              "      <th>Reason for absence</th>\n",
              "      <td>1</td>\n",
              "      <td>22</td>\n",
              "      <td>23</td>\n",
              "      <td>6</td>\n",
              "      <td>28</td>\n",
              "    </tr>\n",
              "    <tr>\n",
              "      <th>Month of absence</th>\n",
              "      <td>10</td>\n",
              "      <td>9</td>\n",
              "      <td>10</td>\n",
              "      <td>3</td>\n",
              "      <td>5</td>\n",
              "    </tr>\n",
              "    <tr>\n",
              "      <th>Day of the week</th>\n",
              "      <td>4</td>\n",
              "      <td>6</td>\n",
              "      <td>2</td>\n",
              "      <td>5</td>\n",
              "      <td>2</td>\n",
              "    </tr>\n",
              "    <tr>\n",
              "      <th>Seasons</th>\n",
              "      <td>4</td>\n",
              "      <td>1</td>\n",
              "      <td>4</td>\n",
              "      <td>2</td>\n",
              "      <td>3</td>\n",
              "    </tr>\n",
              "    <tr>\n",
              "      <th>Transportation expense</th>\n",
              "      <td>179</td>\n",
              "      <td>260</td>\n",
              "      <td>235</td>\n",
              "      <td>289</td>\n",
              "      <td>118</td>\n",
              "    </tr>\n",
              "    <tr>\n",
              "      <th>Distance from Residence to Work</th>\n",
              "      <td>26</td>\n",
              "      <td>50</td>\n",
              "      <td>20</td>\n",
              "      <td>36</td>\n",
              "      <td>10</td>\n",
              "    </tr>\n",
              "    <tr>\n",
              "      <th>Service time</th>\n",
              "      <td>9</td>\n",
              "      <td>11</td>\n",
              "      <td>13</td>\n",
              "      <td>13</td>\n",
              "      <td>10</td>\n",
              "    </tr>\n",
              "    <tr>\n",
              "      <th>Age</th>\n",
              "      <td>30</td>\n",
              "      <td>36</td>\n",
              "      <td>43</td>\n",
              "      <td>33</td>\n",
              "      <td>37</td>\n",
              "    </tr>\n",
              "    <tr>\n",
              "      <th>Work load Average/day</th>\n",
              "      <td>265,017</td>\n",
              "      <td>241,476</td>\n",
              "      <td>265,017</td>\n",
              "      <td>343,253</td>\n",
              "      <td>246,074</td>\n",
              "    </tr>\n",
              "    <tr>\n",
              "      <th>Hit target</th>\n",
              "      <td>88</td>\n",
              "      <td>92</td>\n",
              "      <td>88</td>\n",
              "      <td>95</td>\n",
              "      <td>99</td>\n",
              "    </tr>\n",
              "    <tr>\n",
              "      <th>Disciplinary failure</th>\n",
              "      <td>0</td>\n",
              "      <td>0</td>\n",
              "      <td>0</td>\n",
              "      <td>0</td>\n",
              "      <td>0</td>\n",
              "    </tr>\n",
              "    <tr>\n",
              "      <th>Education</th>\n",
              "      <td>3</td>\n",
              "      <td>1</td>\n",
              "      <td>1</td>\n",
              "      <td>1</td>\n",
              "      <td>1</td>\n",
              "    </tr>\n",
              "    <tr>\n",
              "      <th>Son</th>\n",
              "      <td>0</td>\n",
              "      <td>4</td>\n",
              "      <td>1</td>\n",
              "      <td>2</td>\n",
              "      <td>0</td>\n",
              "    </tr>\n",
              "    <tr>\n",
              "      <th>Social drinker</th>\n",
              "      <td>0</td>\n",
              "      <td>1</td>\n",
              "      <td>1</td>\n",
              "      <td>1</td>\n",
              "      <td>0</td>\n",
              "    </tr>\n",
              "    <tr>\n",
              "      <th>Social smoker</th>\n",
              "      <td>0</td>\n",
              "      <td>0</td>\n",
              "      <td>0</td>\n",
              "      <td>0</td>\n",
              "      <td>0</td>\n",
              "    </tr>\n",
              "    <tr>\n",
              "      <th>Pet</th>\n",
              "      <td>0</td>\n",
              "      <td>0</td>\n",
              "      <td>0</td>\n",
              "      <td>1</td>\n",
              "      <td>0</td>\n",
              "    </tr>\n",
              "    <tr>\n",
              "      <th>Weight</th>\n",
              "      <td>56</td>\n",
              "      <td>65</td>\n",
              "      <td>106</td>\n",
              "      <td>90</td>\n",
              "      <td>83</td>\n",
              "    </tr>\n",
              "    <tr>\n",
              "      <th>Height</th>\n",
              "      <td>171</td>\n",
              "      <td>168</td>\n",
              "      <td>167</td>\n",
              "      <td>172</td>\n",
              "      <td>172</td>\n",
              "    </tr>\n",
              "    <tr>\n",
              "      <th>Body mass index</th>\n",
              "      <td>19</td>\n",
              "      <td>23</td>\n",
              "      <td>38</td>\n",
              "      <td>30</td>\n",
              "      <td>28</td>\n",
              "    </tr>\n",
              "    <tr>\n",
              "      <th>Absenteeism time in hours</th>\n",
              "      <td>5</td>\n",
              "      <td>8</td>\n",
              "      <td>2</td>\n",
              "      <td>8</td>\n",
              "      <td>1</td>\n",
              "    </tr>\n",
              "  </tbody>\n",
              "</table>\n",
              "</div>"
            ],
            "text/plain": [
              "                                     314      48       305      168      438\n",
              "ID                                    22       20        5       11       34\n",
              "Reason for absence                     1       22       23        6       28\n",
              "Month of absence                      10        9       10        3        5\n",
              "Day of the week                        4        6        2        5        2\n",
              "Seasons                                4        1        4        2        3\n",
              "Transportation expense               179      260      235      289      118\n",
              "Distance from Residence to Work       26       50       20       36       10\n",
              "Service time                           9       11       13       13       10\n",
              "Age                                   30       36       43       33       37\n",
              "Work load Average/day            265,017  241,476  265,017  343,253  246,074\n",
              "Hit target                            88       92       88       95       99\n",
              "Disciplinary failure                   0        0        0        0        0\n",
              "Education                              3        1        1        1        1\n",
              "Son                                    0        4        1        2        0\n",
              "Social drinker                         0        1        1        1        0\n",
              "Social smoker                          0        0        0        0        0\n",
              "Pet                                    0        0        0        1        0\n",
              "Weight                                56       65      106       90       83\n",
              "Height                               171      168      167      172      172\n",
              "Body mass index                       19       23       38       30       28\n",
              "Absenteeism time in hours              5        8        2        8        1"
            ]
          },
          "metadata": {
            "tags": []
          },
          "execution_count": 136
        }
      ]
    },
    {
      "cell_type": "markdown",
      "metadata": {
        "id": "fFst3ehUKIL-"
      },
      "source": [
        "One of the column \"Work load Average/day\" has forward slash and we are replacing to avoid unnecessary errors in future.   \n",
        "We strip the '/' , replace it with \"\" and convert this column to float"
      ]
    },
    {
      "cell_type": "code",
      "metadata": {
        "colab": {
          "base_uri": "https://localhost:8080/",
          "height": 663
        },
        "id": "likBcKPMKJtT",
        "outputId": "14a0042c-dad2-4f6d-c64e-b24b764c9dd5"
      },
      "source": [
        "# cleaning column name\n",
        "df.columns = df.columns.str.replace('/', 'per').str.strip()\n",
        "df['Work load Averageperday'] = df['Work load Averageperday'].str.replace(\",\",\"\").astype(float)\n",
        "df.sample(1).T"
      ],
      "execution_count": 137,
      "outputs": [
        {
          "output_type": "execute_result",
          "data": {
            "text/html": [
              "<div>\n",
              "<style scoped>\n",
              "    .dataframe tbody tr th:only-of-type {\n",
              "        vertical-align: middle;\n",
              "    }\n",
              "\n",
              "    .dataframe tbody tr th {\n",
              "        vertical-align: top;\n",
              "    }\n",
              "\n",
              "    .dataframe thead th {\n",
              "        text-align: right;\n",
              "    }\n",
              "</style>\n",
              "<table border=\"1\" class=\"dataframe\">\n",
              "  <thead>\n",
              "    <tr style=\"text-align: right;\">\n",
              "      <th></th>\n",
              "      <th>360</th>\n",
              "    </tr>\n",
              "  </thead>\n",
              "  <tbody>\n",
              "    <tr>\n",
              "      <th>ID</th>\n",
              "      <td>14.0</td>\n",
              "    </tr>\n",
              "    <tr>\n",
              "      <th>Reason for absence</th>\n",
              "      <td>23.0</td>\n",
              "    </tr>\n",
              "    <tr>\n",
              "      <th>Month of absence</th>\n",
              "      <td>1.0</td>\n",
              "    </tr>\n",
              "    <tr>\n",
              "      <th>Day of the week</th>\n",
              "      <td>2.0</td>\n",
              "    </tr>\n",
              "    <tr>\n",
              "      <th>Seasons</th>\n",
              "      <td>2.0</td>\n",
              "    </tr>\n",
              "    <tr>\n",
              "      <th>Transportation expense</th>\n",
              "      <td>155.0</td>\n",
              "    </tr>\n",
              "    <tr>\n",
              "      <th>Distance from Residence to Work</th>\n",
              "      <td>12.0</td>\n",
              "    </tr>\n",
              "    <tr>\n",
              "      <th>Service time</th>\n",
              "      <td>14.0</td>\n",
              "    </tr>\n",
              "    <tr>\n",
              "      <th>Age</th>\n",
              "      <td>34.0</td>\n",
              "    </tr>\n",
              "    <tr>\n",
              "      <th>Work load Averageperday</th>\n",
              "      <td>330061.0</td>\n",
              "    </tr>\n",
              "    <tr>\n",
              "      <th>Hit target</th>\n",
              "      <td>100.0</td>\n",
              "    </tr>\n",
              "    <tr>\n",
              "      <th>Disciplinary failure</th>\n",
              "      <td>0.0</td>\n",
              "    </tr>\n",
              "    <tr>\n",
              "      <th>Education</th>\n",
              "      <td>1.0</td>\n",
              "    </tr>\n",
              "    <tr>\n",
              "      <th>Son</th>\n",
              "      <td>2.0</td>\n",
              "    </tr>\n",
              "    <tr>\n",
              "      <th>Social drinker</th>\n",
              "      <td>1.0</td>\n",
              "    </tr>\n",
              "    <tr>\n",
              "      <th>Social smoker</th>\n",
              "      <td>0.0</td>\n",
              "    </tr>\n",
              "    <tr>\n",
              "      <th>Pet</th>\n",
              "      <td>0.0</td>\n",
              "    </tr>\n",
              "    <tr>\n",
              "      <th>Weight</th>\n",
              "      <td>95.0</td>\n",
              "    </tr>\n",
              "    <tr>\n",
              "      <th>Height</th>\n",
              "      <td>196.0</td>\n",
              "    </tr>\n",
              "    <tr>\n",
              "      <th>Body mass index</th>\n",
              "      <td>25.0</td>\n",
              "    </tr>\n",
              "    <tr>\n",
              "      <th>Absenteeism time in hours</th>\n",
              "      <td>2.0</td>\n",
              "    </tr>\n",
              "  </tbody>\n",
              "</table>\n",
              "</div>"
            ],
            "text/plain": [
              "                                      360\n",
              "ID                                   14.0\n",
              "Reason for absence                   23.0\n",
              "Month of absence                      1.0\n",
              "Day of the week                       2.0\n",
              "Seasons                               2.0\n",
              "Transportation expense              155.0\n",
              "Distance from Residence to Work      12.0\n",
              "Service time                         14.0\n",
              "Age                                  34.0\n",
              "Work load Averageperday          330061.0\n",
              "Hit target                          100.0\n",
              "Disciplinary failure                  0.0\n",
              "Education                             1.0\n",
              "Son                                   2.0\n",
              "Social drinker                        1.0\n",
              "Social smoker                         0.0\n",
              "Pet                                   0.0\n",
              "Weight                               95.0\n",
              "Height                              196.0\n",
              "Body mass index                      25.0\n",
              "Absenteeism time in hours             2.0"
            ]
          },
          "metadata": {
            "tags": []
          },
          "execution_count": 137
        }
      ]
    },
    {
      "cell_type": "markdown",
      "metadata": {
        "id": "zWTP-QRGPDrb"
      },
      "source": [
        "### Missing Values , Unique Counts"
      ]
    },
    {
      "cell_type": "code",
      "metadata": {
        "colab": {
          "base_uri": "https://localhost:8080/",
          "height": 663
        },
        "id": "gaYdCLeGKyt1",
        "outputId": "256ce721-41eb-4ac8-89a6-77a355ea5363"
      },
      "source": [
        "# Tabular view of Data {shape of data, the type of data , the missing values , unique counts , % Missing}\n",
        "# Creating the Data Dictionary with first column being datatype.\n",
        "Data_dict = pd.DataFrame(df.dtypes)\n",
        "# Identifying unique values . For this I've used nunique() which returns unique elements in the object.\n",
        "Data_dict['UniqueVal'] = df.nunique()\n",
        "# Identifying the missing values from the dataset.\n",
        "Data_dict['MissingVal'] = df.isnull().sum()\n",
        "# Percentage of Missing Values\n",
        "Data_dict['Percent Missing'] = round(df.isnull().sum()/len(df)*100, 2)\n",
        "# identifying count of the variable.\n",
        "Data_dict['Count'] = df.count()\n",
        "# Renaming the first column using rename()\n",
        "Data_dict = Data_dict.rename(columns = {0:'DataType'})\n",
        "Data_dict"
      ],
      "execution_count": 138,
      "outputs": [
        {
          "output_type": "execute_result",
          "data": {
            "text/html": [
              "<div>\n",
              "<style scoped>\n",
              "    .dataframe tbody tr th:only-of-type {\n",
              "        vertical-align: middle;\n",
              "    }\n",
              "\n",
              "    .dataframe tbody tr th {\n",
              "        vertical-align: top;\n",
              "    }\n",
              "\n",
              "    .dataframe thead th {\n",
              "        text-align: right;\n",
              "    }\n",
              "</style>\n",
              "<table border=\"1\" class=\"dataframe\">\n",
              "  <thead>\n",
              "    <tr style=\"text-align: right;\">\n",
              "      <th></th>\n",
              "      <th>DataType</th>\n",
              "      <th>UniqueVal</th>\n",
              "      <th>MissingVal</th>\n",
              "      <th>Percent Missing</th>\n",
              "      <th>Count</th>\n",
              "    </tr>\n",
              "  </thead>\n",
              "  <tbody>\n",
              "    <tr>\n",
              "      <th>ID</th>\n",
              "      <td>int64</td>\n",
              "      <td>36</td>\n",
              "      <td>0</td>\n",
              "      <td>0.0</td>\n",
              "      <td>740</td>\n",
              "    </tr>\n",
              "    <tr>\n",
              "      <th>Reason for absence</th>\n",
              "      <td>int64</td>\n",
              "      <td>28</td>\n",
              "      <td>0</td>\n",
              "      <td>0.0</td>\n",
              "      <td>740</td>\n",
              "    </tr>\n",
              "    <tr>\n",
              "      <th>Month of absence</th>\n",
              "      <td>int64</td>\n",
              "      <td>13</td>\n",
              "      <td>0</td>\n",
              "      <td>0.0</td>\n",
              "      <td>740</td>\n",
              "    </tr>\n",
              "    <tr>\n",
              "      <th>Day of the week</th>\n",
              "      <td>int64</td>\n",
              "      <td>5</td>\n",
              "      <td>0</td>\n",
              "      <td>0.0</td>\n",
              "      <td>740</td>\n",
              "    </tr>\n",
              "    <tr>\n",
              "      <th>Seasons</th>\n",
              "      <td>int64</td>\n",
              "      <td>4</td>\n",
              "      <td>0</td>\n",
              "      <td>0.0</td>\n",
              "      <td>740</td>\n",
              "    </tr>\n",
              "    <tr>\n",
              "      <th>Transportation expense</th>\n",
              "      <td>int64</td>\n",
              "      <td>24</td>\n",
              "      <td>0</td>\n",
              "      <td>0.0</td>\n",
              "      <td>740</td>\n",
              "    </tr>\n",
              "    <tr>\n",
              "      <th>Distance from Residence to Work</th>\n",
              "      <td>int64</td>\n",
              "      <td>25</td>\n",
              "      <td>0</td>\n",
              "      <td>0.0</td>\n",
              "      <td>740</td>\n",
              "    </tr>\n",
              "    <tr>\n",
              "      <th>Service time</th>\n",
              "      <td>int64</td>\n",
              "      <td>18</td>\n",
              "      <td>0</td>\n",
              "      <td>0.0</td>\n",
              "      <td>740</td>\n",
              "    </tr>\n",
              "    <tr>\n",
              "      <th>Age</th>\n",
              "      <td>int64</td>\n",
              "      <td>22</td>\n",
              "      <td>0</td>\n",
              "      <td>0.0</td>\n",
              "      <td>740</td>\n",
              "    </tr>\n",
              "    <tr>\n",
              "      <th>Work load Averageperday</th>\n",
              "      <td>float64</td>\n",
              "      <td>38</td>\n",
              "      <td>0</td>\n",
              "      <td>0.0</td>\n",
              "      <td>740</td>\n",
              "    </tr>\n",
              "    <tr>\n",
              "      <th>Hit target</th>\n",
              "      <td>int64</td>\n",
              "      <td>13</td>\n",
              "      <td>0</td>\n",
              "      <td>0.0</td>\n",
              "      <td>740</td>\n",
              "    </tr>\n",
              "    <tr>\n",
              "      <th>Disciplinary failure</th>\n",
              "      <td>int64</td>\n",
              "      <td>2</td>\n",
              "      <td>0</td>\n",
              "      <td>0.0</td>\n",
              "      <td>740</td>\n",
              "    </tr>\n",
              "    <tr>\n",
              "      <th>Education</th>\n",
              "      <td>int64</td>\n",
              "      <td>4</td>\n",
              "      <td>0</td>\n",
              "      <td>0.0</td>\n",
              "      <td>740</td>\n",
              "    </tr>\n",
              "    <tr>\n",
              "      <th>Son</th>\n",
              "      <td>int64</td>\n",
              "      <td>5</td>\n",
              "      <td>0</td>\n",
              "      <td>0.0</td>\n",
              "      <td>740</td>\n",
              "    </tr>\n",
              "    <tr>\n",
              "      <th>Social drinker</th>\n",
              "      <td>int64</td>\n",
              "      <td>2</td>\n",
              "      <td>0</td>\n",
              "      <td>0.0</td>\n",
              "      <td>740</td>\n",
              "    </tr>\n",
              "    <tr>\n",
              "      <th>Social smoker</th>\n",
              "      <td>int64</td>\n",
              "      <td>2</td>\n",
              "      <td>0</td>\n",
              "      <td>0.0</td>\n",
              "      <td>740</td>\n",
              "    </tr>\n",
              "    <tr>\n",
              "      <th>Pet</th>\n",
              "      <td>int64</td>\n",
              "      <td>6</td>\n",
              "      <td>0</td>\n",
              "      <td>0.0</td>\n",
              "      <td>740</td>\n",
              "    </tr>\n",
              "    <tr>\n",
              "      <th>Weight</th>\n",
              "      <td>int64</td>\n",
              "      <td>26</td>\n",
              "      <td>0</td>\n",
              "      <td>0.0</td>\n",
              "      <td>740</td>\n",
              "    </tr>\n",
              "    <tr>\n",
              "      <th>Height</th>\n",
              "      <td>int64</td>\n",
              "      <td>14</td>\n",
              "      <td>0</td>\n",
              "      <td>0.0</td>\n",
              "      <td>740</td>\n",
              "    </tr>\n",
              "    <tr>\n",
              "      <th>Body mass index</th>\n",
              "      <td>int64</td>\n",
              "      <td>17</td>\n",
              "      <td>0</td>\n",
              "      <td>0.0</td>\n",
              "      <td>740</td>\n",
              "    </tr>\n",
              "    <tr>\n",
              "      <th>Absenteeism time in hours</th>\n",
              "      <td>int64</td>\n",
              "      <td>19</td>\n",
              "      <td>0</td>\n",
              "      <td>0.0</td>\n",
              "      <td>740</td>\n",
              "    </tr>\n",
              "  </tbody>\n",
              "</table>\n",
              "</div>"
            ],
            "text/plain": [
              "                                DataType  UniqueVal  ...  Percent Missing  Count\n",
              "ID                                 int64         36  ...              0.0    740\n",
              "Reason for absence                 int64         28  ...              0.0    740\n",
              "Month of absence                   int64         13  ...              0.0    740\n",
              "Day of the week                    int64          5  ...              0.0    740\n",
              "Seasons                            int64          4  ...              0.0    740\n",
              "Transportation expense             int64         24  ...              0.0    740\n",
              "Distance from Residence to Work    int64         25  ...              0.0    740\n",
              "Service time                       int64         18  ...              0.0    740\n",
              "Age                                int64         22  ...              0.0    740\n",
              "Work load Averageperday          float64         38  ...              0.0    740\n",
              "Hit target                         int64         13  ...              0.0    740\n",
              "Disciplinary failure               int64          2  ...              0.0    740\n",
              "Education                          int64          4  ...              0.0    740\n",
              "Son                                int64          5  ...              0.0    740\n",
              "Social drinker                     int64          2  ...              0.0    740\n",
              "Social smoker                      int64          2  ...              0.0    740\n",
              "Pet                                int64          6  ...              0.0    740\n",
              "Weight                             int64         26  ...              0.0    740\n",
              "Height                             int64         14  ...              0.0    740\n",
              "Body mass index                    int64         17  ...              0.0    740\n",
              "Absenteeism time in hours          int64         19  ...              0.0    740\n",
              "\n",
              "[21 rows x 5 columns]"
            ]
          },
          "metadata": {
            "tags": []
          },
          "execution_count": 138
        }
      ]
    },
    {
      "cell_type": "markdown",
      "metadata": {
        "id": "gnDj6qHtPTzb"
      },
      "source": [
        "#### Errors in Month Column..  \n",
        "There are 13 Months , which is strange. There seems to be some data corruption\n"
      ]
    },
    {
      "cell_type": "code",
      "metadata": {
        "colab": {
          "base_uri": "https://localhost:8080/",
          "height": 169
        },
        "id": "X3VuX9IRPalI",
        "outputId": "6d701c07-acc9-481a-bfb0-c14c1c6b3f8e"
      },
      "source": [
        "df[df['Month of absence']==0]"
      ],
      "execution_count": 139,
      "outputs": [
        {
          "output_type": "execute_result",
          "data": {
            "text/html": [
              "<div>\n",
              "<style scoped>\n",
              "    .dataframe tbody tr th:only-of-type {\n",
              "        vertical-align: middle;\n",
              "    }\n",
              "\n",
              "    .dataframe tbody tr th {\n",
              "        vertical-align: top;\n",
              "    }\n",
              "\n",
              "    .dataframe thead th {\n",
              "        text-align: right;\n",
              "    }\n",
              "</style>\n",
              "<table border=\"1\" class=\"dataframe\">\n",
              "  <thead>\n",
              "    <tr style=\"text-align: right;\">\n",
              "      <th></th>\n",
              "      <th>ID</th>\n",
              "      <th>Reason for absence</th>\n",
              "      <th>Month of absence</th>\n",
              "      <th>Day of the week</th>\n",
              "      <th>Seasons</th>\n",
              "      <th>Transportation expense</th>\n",
              "      <th>Distance from Residence to Work</th>\n",
              "      <th>Service time</th>\n",
              "      <th>Age</th>\n",
              "      <th>Work load Averageperday</th>\n",
              "      <th>Hit target</th>\n",
              "      <th>Disciplinary failure</th>\n",
              "      <th>Education</th>\n",
              "      <th>Son</th>\n",
              "      <th>Social drinker</th>\n",
              "      <th>Social smoker</th>\n",
              "      <th>Pet</th>\n",
              "      <th>Weight</th>\n",
              "      <th>Height</th>\n",
              "      <th>Body mass index</th>\n",
              "      <th>Absenteeism time in hours</th>\n",
              "    </tr>\n",
              "  </thead>\n",
              "  <tbody>\n",
              "    <tr>\n",
              "      <th>737</th>\n",
              "      <td>4</td>\n",
              "      <td>0</td>\n",
              "      <td>0</td>\n",
              "      <td>3</td>\n",
              "      <td>1</td>\n",
              "      <td>118</td>\n",
              "      <td>14</td>\n",
              "      <td>13</td>\n",
              "      <td>40</td>\n",
              "      <td>271219.0</td>\n",
              "      <td>95</td>\n",
              "      <td>0</td>\n",
              "      <td>1</td>\n",
              "      <td>1</td>\n",
              "      <td>1</td>\n",
              "      <td>0</td>\n",
              "      <td>8</td>\n",
              "      <td>98</td>\n",
              "      <td>170</td>\n",
              "      <td>34</td>\n",
              "      <td>0</td>\n",
              "    </tr>\n",
              "    <tr>\n",
              "      <th>738</th>\n",
              "      <td>8</td>\n",
              "      <td>0</td>\n",
              "      <td>0</td>\n",
              "      <td>4</td>\n",
              "      <td>2</td>\n",
              "      <td>231</td>\n",
              "      <td>35</td>\n",
              "      <td>14</td>\n",
              "      <td>39</td>\n",
              "      <td>271219.0</td>\n",
              "      <td>95</td>\n",
              "      <td>0</td>\n",
              "      <td>1</td>\n",
              "      <td>2</td>\n",
              "      <td>1</td>\n",
              "      <td>0</td>\n",
              "      <td>2</td>\n",
              "      <td>100</td>\n",
              "      <td>170</td>\n",
              "      <td>35</td>\n",
              "      <td>0</td>\n",
              "    </tr>\n",
              "    <tr>\n",
              "      <th>739</th>\n",
              "      <td>35</td>\n",
              "      <td>0</td>\n",
              "      <td>0</td>\n",
              "      <td>6</td>\n",
              "      <td>3</td>\n",
              "      <td>179</td>\n",
              "      <td>45</td>\n",
              "      <td>14</td>\n",
              "      <td>53</td>\n",
              "      <td>271219.0</td>\n",
              "      <td>95</td>\n",
              "      <td>0</td>\n",
              "      <td>1</td>\n",
              "      <td>1</td>\n",
              "      <td>0</td>\n",
              "      <td>0</td>\n",
              "      <td>1</td>\n",
              "      <td>77</td>\n",
              "      <td>175</td>\n",
              "      <td>25</td>\n",
              "      <td>0</td>\n",
              "    </tr>\n",
              "  </tbody>\n",
              "</table>\n",
              "</div>"
            ],
            "text/plain": [
              "     ID  Reason for absence  ...  Body mass index  Absenteeism time in hours\n",
              "737   4                   0  ...               34                          0\n",
              "738   8                   0  ...               35                          0\n",
              "739  35                   0  ...               25                          0\n",
              "\n",
              "[3 rows x 21 columns]"
            ]
          },
          "metadata": {
            "tags": []
          },
          "execution_count": 139
        }
      ]
    },
    {
      "cell_type": "markdown",
      "metadata": {
        "id": "pRydQvyFQAvL"
      },
      "source": [
        "This is definitely correupted data seince \"Zero Hours Absent\" in a dataset that predominantly contains \"Abseentism Only\". We will drop the rows where \"Month of absence\" is missing"
      ]
    },
    {
      "cell_type": "code",
      "metadata": {
        "id": "EA7PbtCsQWJk"
      },
      "source": [
        "df = df[df['Month of absence'] != 0]"
      ],
      "execution_count": 140,
      "outputs": []
    },
    {
      "cell_type": "markdown",
      "metadata": {
        "id": "FoszxVXhRBj1"
      },
      "source": [
        "#### Missing in Target"
      ]
    },
    {
      "cell_type": "code",
      "metadata": {
        "colab": {
          "base_uri": "https://localhost:8080/"
        },
        "id": "kYl6ffGGQ2ki",
        "outputId": "f726c2bf-ba79-42a4-df82-48b04afcd002"
      },
      "source": [
        "# how many rows have \"Zero Hours Absenteeism\"\n",
        "len(df[df['Absenteeism time in hours']==0])"
      ],
      "execution_count": 141,
      "outputs": [
        {
          "output_type": "execute_result",
          "data": {
            "text/plain": [
              "41"
            ]
          },
          "metadata": {
            "tags": []
          },
          "execution_count": 141
        }
      ]
    },
    {
      "cell_type": "code",
      "metadata": {
        "colab": {
          "base_uri": "https://localhost:8080/",
          "height": 1000
        },
        "id": "Msj41U10Rkis",
        "outputId": "68929bdc-8dcd-44fe-c7f6-5a25feda454b"
      },
      "source": [
        "df[df['Absenteeism time in hours']==0]"
      ],
      "execution_count": 142,
      "outputs": [
        {
          "output_type": "execute_result",
          "data": {
            "text/html": [
              "<div>\n",
              "<style scoped>\n",
              "    .dataframe tbody tr th:only-of-type {\n",
              "        vertical-align: middle;\n",
              "    }\n",
              "\n",
              "    .dataframe tbody tr th {\n",
              "        vertical-align: top;\n",
              "    }\n",
              "\n",
              "    .dataframe thead th {\n",
              "        text-align: right;\n",
              "    }\n",
              "</style>\n",
              "<table border=\"1\" class=\"dataframe\">\n",
              "  <thead>\n",
              "    <tr style=\"text-align: right;\">\n",
              "      <th></th>\n",
              "      <th>ID</th>\n",
              "      <th>Reason for absence</th>\n",
              "      <th>Month of absence</th>\n",
              "      <th>Day of the week</th>\n",
              "      <th>Seasons</th>\n",
              "      <th>Transportation expense</th>\n",
              "      <th>Distance from Residence to Work</th>\n",
              "      <th>Service time</th>\n",
              "      <th>Age</th>\n",
              "      <th>Work load Averageperday</th>\n",
              "      <th>Hit target</th>\n",
              "      <th>Disciplinary failure</th>\n",
              "      <th>Education</th>\n",
              "      <th>Son</th>\n",
              "      <th>Social drinker</th>\n",
              "      <th>Social smoker</th>\n",
              "      <th>Pet</th>\n",
              "      <th>Weight</th>\n",
              "      <th>Height</th>\n",
              "      <th>Body mass index</th>\n",
              "      <th>Absenteeism time in hours</th>\n",
              "    </tr>\n",
              "  </thead>\n",
              "  <tbody>\n",
              "    <tr>\n",
              "      <th>1</th>\n",
              "      <td>36</td>\n",
              "      <td>0</td>\n",
              "      <td>7</td>\n",
              "      <td>3</td>\n",
              "      <td>1</td>\n",
              "      <td>118</td>\n",
              "      <td>13</td>\n",
              "      <td>18</td>\n",
              "      <td>50</td>\n",
              "      <td>239554.0</td>\n",
              "      <td>97</td>\n",
              "      <td>1</td>\n",
              "      <td>1</td>\n",
              "      <td>1</td>\n",
              "      <td>1</td>\n",
              "      <td>0</td>\n",
              "      <td>0</td>\n",
              "      <td>98</td>\n",
              "      <td>178</td>\n",
              "      <td>31</td>\n",
              "      <td>0</td>\n",
              "    </tr>\n",
              "    <tr>\n",
              "      <th>50</th>\n",
              "      <td>20</td>\n",
              "      <td>0</td>\n",
              "      <td>9</td>\n",
              "      <td>2</td>\n",
              "      <td>4</td>\n",
              "      <td>260</td>\n",
              "      <td>50</td>\n",
              "      <td>11</td>\n",
              "      <td>36</td>\n",
              "      <td>241476.0</td>\n",
              "      <td>92</td>\n",
              "      <td>1</td>\n",
              "      <td>1</td>\n",
              "      <td>4</td>\n",
              "      <td>1</td>\n",
              "      <td>0</td>\n",
              "      <td>0</td>\n",
              "      <td>65</td>\n",
              "      <td>168</td>\n",
              "      <td>23</td>\n",
              "      <td>0</td>\n",
              "    </tr>\n",
              "    <tr>\n",
              "      <th>51</th>\n",
              "      <td>29</td>\n",
              "      <td>0</td>\n",
              "      <td>9</td>\n",
              "      <td>2</td>\n",
              "      <td>4</td>\n",
              "      <td>225</td>\n",
              "      <td>26</td>\n",
              "      <td>9</td>\n",
              "      <td>28</td>\n",
              "      <td>241476.0</td>\n",
              "      <td>92</td>\n",
              "      <td>1</td>\n",
              "      <td>1</td>\n",
              "      <td>1</td>\n",
              "      <td>0</td>\n",
              "      <td>0</td>\n",
              "      <td>2</td>\n",
              "      <td>69</td>\n",
              "      <td>169</td>\n",
              "      <td>24</td>\n",
              "      <td>0</td>\n",
              "    </tr>\n",
              "    <tr>\n",
              "      <th>54</th>\n",
              "      <td>11</td>\n",
              "      <td>0</td>\n",
              "      <td>9</td>\n",
              "      <td>3</td>\n",
              "      <td>4</td>\n",
              "      <td>289</td>\n",
              "      <td>36</td>\n",
              "      <td>13</td>\n",
              "      <td>33</td>\n",
              "      <td>241476.0</td>\n",
              "      <td>92</td>\n",
              "      <td>1</td>\n",
              "      <td>1</td>\n",
              "      <td>2</td>\n",
              "      <td>1</td>\n",
              "      <td>0</td>\n",
              "      <td>1</td>\n",
              "      <td>90</td>\n",
              "      <td>172</td>\n",
              "      <td>30</td>\n",
              "      <td>0</td>\n",
              "    </tr>\n",
              "    <tr>\n",
              "      <th>55</th>\n",
              "      <td>36</td>\n",
              "      <td>0</td>\n",
              "      <td>9</td>\n",
              "      <td>3</td>\n",
              "      <td>4</td>\n",
              "      <td>118</td>\n",
              "      <td>13</td>\n",
              "      <td>18</td>\n",
              "      <td>50</td>\n",
              "      <td>241476.0</td>\n",
              "      <td>92</td>\n",
              "      <td>1</td>\n",
              "      <td>1</td>\n",
              "      <td>1</td>\n",
              "      <td>1</td>\n",
              "      <td>0</td>\n",
              "      <td>0</td>\n",
              "      <td>98</td>\n",
              "      <td>178</td>\n",
              "      <td>31</td>\n",
              "      <td>0</td>\n",
              "    </tr>\n",
              "    <tr>\n",
              "      <th>58</th>\n",
              "      <td>13</td>\n",
              "      <td>0</td>\n",
              "      <td>9</td>\n",
              "      <td>4</td>\n",
              "      <td>4</td>\n",
              "      <td>369</td>\n",
              "      <td>17</td>\n",
              "      <td>12</td>\n",
              "      <td>31</td>\n",
              "      <td>241476.0</td>\n",
              "      <td>92</td>\n",
              "      <td>1</td>\n",
              "      <td>1</td>\n",
              "      <td>3</td>\n",
              "      <td>1</td>\n",
              "      <td>0</td>\n",
              "      <td>0</td>\n",
              "      <td>70</td>\n",
              "      <td>169</td>\n",
              "      <td>25</td>\n",
              "      <td>0</td>\n",
              "    </tr>\n",
              "    <tr>\n",
              "      <th>64</th>\n",
              "      <td>36</td>\n",
              "      <td>0</td>\n",
              "      <td>10</td>\n",
              "      <td>4</td>\n",
              "      <td>4</td>\n",
              "      <td>118</td>\n",
              "      <td>13</td>\n",
              "      <td>18</td>\n",
              "      <td>50</td>\n",
              "      <td>253465.0</td>\n",
              "      <td>93</td>\n",
              "      <td>1</td>\n",
              "      <td>1</td>\n",
              "      <td>1</td>\n",
              "      <td>1</td>\n",
              "      <td>0</td>\n",
              "      <td>0</td>\n",
              "      <td>98</td>\n",
              "      <td>178</td>\n",
              "      <td>31</td>\n",
              "      <td>0</td>\n",
              "    </tr>\n",
              "    <tr>\n",
              "      <th>134</th>\n",
              "      <td>34</td>\n",
              "      <td>27</td>\n",
              "      <td>1</td>\n",
              "      <td>2</td>\n",
              "      <td>2</td>\n",
              "      <td>118</td>\n",
              "      <td>10</td>\n",
              "      <td>10</td>\n",
              "      <td>37</td>\n",
              "      <td>308593.0</td>\n",
              "      <td>95</td>\n",
              "      <td>0</td>\n",
              "      <td>1</td>\n",
              "      <td>0</td>\n",
              "      <td>0</td>\n",
              "      <td>0</td>\n",
              "      <td>0</td>\n",
              "      <td>83</td>\n",
              "      <td>172</td>\n",
              "      <td>28</td>\n",
              "      <td>0</td>\n",
              "    </tr>\n",
              "    <tr>\n",
              "      <th>203</th>\n",
              "      <td>2</td>\n",
              "      <td>0</td>\n",
              "      <td>4</td>\n",
              "      <td>2</td>\n",
              "      <td>3</td>\n",
              "      <td>235</td>\n",
              "      <td>29</td>\n",
              "      <td>12</td>\n",
              "      <td>48</td>\n",
              "      <td>326452.0</td>\n",
              "      <td>96</td>\n",
              "      <td>1</td>\n",
              "      <td>1</td>\n",
              "      <td>1</td>\n",
              "      <td>0</td>\n",
              "      <td>1</td>\n",
              "      <td>5</td>\n",
              "      <td>88</td>\n",
              "      <td>163</td>\n",
              "      <td>33</td>\n",
              "      <td>0</td>\n",
              "    </tr>\n",
              "    <tr>\n",
              "      <th>213</th>\n",
              "      <td>7</td>\n",
              "      <td>0</td>\n",
              "      <td>5</td>\n",
              "      <td>4</td>\n",
              "      <td>3</td>\n",
              "      <td>279</td>\n",
              "      <td>5</td>\n",
              "      <td>14</td>\n",
              "      <td>39</td>\n",
              "      <td>378884.0</td>\n",
              "      <td>92</td>\n",
              "      <td>1</td>\n",
              "      <td>1</td>\n",
              "      <td>2</td>\n",
              "      <td>1</td>\n",
              "      <td>1</td>\n",
              "      <td>0</td>\n",
              "      <td>68</td>\n",
              "      <td>168</td>\n",
              "      <td>24</td>\n",
              "      <td>0</td>\n",
              "    </tr>\n",
              "    <tr>\n",
              "      <th>214</th>\n",
              "      <td>18</td>\n",
              "      <td>0</td>\n",
              "      <td>5</td>\n",
              "      <td>4</td>\n",
              "      <td>3</td>\n",
              "      <td>330</td>\n",
              "      <td>16</td>\n",
              "      <td>4</td>\n",
              "      <td>28</td>\n",
              "      <td>378884.0</td>\n",
              "      <td>92</td>\n",
              "      <td>1</td>\n",
              "      <td>2</td>\n",
              "      <td>0</td>\n",
              "      <td>0</td>\n",
              "      <td>0</td>\n",
              "      <td>0</td>\n",
              "      <td>84</td>\n",
              "      <td>182</td>\n",
              "      <td>25</td>\n",
              "      <td>0</td>\n",
              "    </tr>\n",
              "    <tr>\n",
              "      <th>215</th>\n",
              "      <td>23</td>\n",
              "      <td>0</td>\n",
              "      <td>5</td>\n",
              "      <td>4</td>\n",
              "      <td>3</td>\n",
              "      <td>378</td>\n",
              "      <td>49</td>\n",
              "      <td>11</td>\n",
              "      <td>36</td>\n",
              "      <td>378884.0</td>\n",
              "      <td>92</td>\n",
              "      <td>1</td>\n",
              "      <td>1</td>\n",
              "      <td>2</td>\n",
              "      <td>0</td>\n",
              "      <td>1</td>\n",
              "      <td>4</td>\n",
              "      <td>65</td>\n",
              "      <td>174</td>\n",
              "      <td>21</td>\n",
              "      <td>0</td>\n",
              "    </tr>\n",
              "    <tr>\n",
              "      <th>216</th>\n",
              "      <td>31</td>\n",
              "      <td>0</td>\n",
              "      <td>5</td>\n",
              "      <td>4</td>\n",
              "      <td>3</td>\n",
              "      <td>388</td>\n",
              "      <td>15</td>\n",
              "      <td>9</td>\n",
              "      <td>50</td>\n",
              "      <td>378884.0</td>\n",
              "      <td>92</td>\n",
              "      <td>1</td>\n",
              "      <td>1</td>\n",
              "      <td>0</td>\n",
              "      <td>0</td>\n",
              "      <td>0</td>\n",
              "      <td>0</td>\n",
              "      <td>76</td>\n",
              "      <td>178</td>\n",
              "      <td>24</td>\n",
              "      <td>0</td>\n",
              "    </tr>\n",
              "    <tr>\n",
              "      <th>251</th>\n",
              "      <td>20</td>\n",
              "      <td>0</td>\n",
              "      <td>7</td>\n",
              "      <td>5</td>\n",
              "      <td>1</td>\n",
              "      <td>260</td>\n",
              "      <td>50</td>\n",
              "      <td>11</td>\n",
              "      <td>36</td>\n",
              "      <td>275312.0</td>\n",
              "      <td>98</td>\n",
              "      <td>1</td>\n",
              "      <td>1</td>\n",
              "      <td>4</td>\n",
              "      <td>1</td>\n",
              "      <td>0</td>\n",
              "      <td>0</td>\n",
              "      <td>65</td>\n",
              "      <td>168</td>\n",
              "      <td>23</td>\n",
              "      <td>0</td>\n",
              "    </tr>\n",
              "    <tr>\n",
              "      <th>273</th>\n",
              "      <td>5</td>\n",
              "      <td>0</td>\n",
              "      <td>9</td>\n",
              "      <td>5</td>\n",
              "      <td>1</td>\n",
              "      <td>235</td>\n",
              "      <td>20</td>\n",
              "      <td>13</td>\n",
              "      <td>43</td>\n",
              "      <td>294217.0</td>\n",
              "      <td>81</td>\n",
              "      <td>1</td>\n",
              "      <td>1</td>\n",
              "      <td>1</td>\n",
              "      <td>1</td>\n",
              "      <td>0</td>\n",
              "      <td>0</td>\n",
              "      <td>106</td>\n",
              "      <td>167</td>\n",
              "      <td>38</td>\n",
              "      <td>0</td>\n",
              "    </tr>\n",
              "    <tr>\n",
              "      <th>276</th>\n",
              "      <td>8</td>\n",
              "      <td>0</td>\n",
              "      <td>9</td>\n",
              "      <td>3</td>\n",
              "      <td>1</td>\n",
              "      <td>231</td>\n",
              "      <td>35</td>\n",
              "      <td>14</td>\n",
              "      <td>39</td>\n",
              "      <td>294217.0</td>\n",
              "      <td>81</td>\n",
              "      <td>1</td>\n",
              "      <td>1</td>\n",
              "      <td>2</td>\n",
              "      <td>1</td>\n",
              "      <td>0</td>\n",
              "      <td>2</td>\n",
              "      <td>100</td>\n",
              "      <td>170</td>\n",
              "      <td>35</td>\n",
              "      <td>0</td>\n",
              "    </tr>\n",
              "    <tr>\n",
              "      <th>277</th>\n",
              "      <td>19</td>\n",
              "      <td>0</td>\n",
              "      <td>9</td>\n",
              "      <td>3</td>\n",
              "      <td>1</td>\n",
              "      <td>291</td>\n",
              "      <td>50</td>\n",
              "      <td>12</td>\n",
              "      <td>32</td>\n",
              "      <td>294217.0</td>\n",
              "      <td>81</td>\n",
              "      <td>1</td>\n",
              "      <td>1</td>\n",
              "      <td>0</td>\n",
              "      <td>1</td>\n",
              "      <td>0</td>\n",
              "      <td>0</td>\n",
              "      <td>65</td>\n",
              "      <td>169</td>\n",
              "      <td>23</td>\n",
              "      <td>0</td>\n",
              "    </tr>\n",
              "    <tr>\n",
              "      <th>285</th>\n",
              "      <td>5</td>\n",
              "      <td>0</td>\n",
              "      <td>9</td>\n",
              "      <td>5</td>\n",
              "      <td>4</td>\n",
              "      <td>235</td>\n",
              "      <td>20</td>\n",
              "      <td>13</td>\n",
              "      <td>43</td>\n",
              "      <td>294217.0</td>\n",
              "      <td>81</td>\n",
              "      <td>1</td>\n",
              "      <td>1</td>\n",
              "      <td>1</td>\n",
              "      <td>1</td>\n",
              "      <td>0</td>\n",
              "      <td>0</td>\n",
              "      <td>106</td>\n",
              "      <td>167</td>\n",
              "      <td>38</td>\n",
              "      <td>0</td>\n",
              "    </tr>\n",
              "    <tr>\n",
              "      <th>293</th>\n",
              "      <td>36</td>\n",
              "      <td>0</td>\n",
              "      <td>10</td>\n",
              "      <td>6</td>\n",
              "      <td>4</td>\n",
              "      <td>118</td>\n",
              "      <td>13</td>\n",
              "      <td>18</td>\n",
              "      <td>50</td>\n",
              "      <td>265017.0</td>\n",
              "      <td>88</td>\n",
              "      <td>1</td>\n",
              "      <td>1</td>\n",
              "      <td>1</td>\n",
              "      <td>1</td>\n",
              "      <td>0</td>\n",
              "      <td>0</td>\n",
              "      <td>98</td>\n",
              "      <td>178</td>\n",
              "      <td>31</td>\n",
              "      <td>0</td>\n",
              "    </tr>\n",
              "    <tr>\n",
              "      <th>294</th>\n",
              "      <td>33</td>\n",
              "      <td>0</td>\n",
              "      <td>10</td>\n",
              "      <td>6</td>\n",
              "      <td>4</td>\n",
              "      <td>248</td>\n",
              "      <td>25</td>\n",
              "      <td>14</td>\n",
              "      <td>47</td>\n",
              "      <td>265017.0</td>\n",
              "      <td>88</td>\n",
              "      <td>1</td>\n",
              "      <td>1</td>\n",
              "      <td>2</td>\n",
              "      <td>0</td>\n",
              "      <td>0</td>\n",
              "      <td>1</td>\n",
              "      <td>86</td>\n",
              "      <td>165</td>\n",
              "      <td>32</td>\n",
              "      <td>0</td>\n",
              "    </tr>\n",
              "    <tr>\n",
              "      <th>300</th>\n",
              "      <td>5</td>\n",
              "      <td>0</td>\n",
              "      <td>10</td>\n",
              "      <td>4</td>\n",
              "      <td>4</td>\n",
              "      <td>235</td>\n",
              "      <td>20</td>\n",
              "      <td>13</td>\n",
              "      <td>43</td>\n",
              "      <td>265017.0</td>\n",
              "      <td>88</td>\n",
              "      <td>1</td>\n",
              "      <td>1</td>\n",
              "      <td>1</td>\n",
              "      <td>1</td>\n",
              "      <td>0</td>\n",
              "      <td>0</td>\n",
              "      <td>106</td>\n",
              "      <td>167</td>\n",
              "      <td>38</td>\n",
              "      <td>0</td>\n",
              "    </tr>\n",
              "    <tr>\n",
              "      <th>303</th>\n",
              "      <td>5</td>\n",
              "      <td>0</td>\n",
              "      <td>10</td>\n",
              "      <td>6</td>\n",
              "      <td>4</td>\n",
              "      <td>235</td>\n",
              "      <td>20</td>\n",
              "      <td>13</td>\n",
              "      <td>43</td>\n",
              "      <td>265017.0</td>\n",
              "      <td>88</td>\n",
              "      <td>1</td>\n",
              "      <td>1</td>\n",
              "      <td>1</td>\n",
              "      <td>1</td>\n",
              "      <td>0</td>\n",
              "      <td>0</td>\n",
              "      <td>106</td>\n",
              "      <td>167</td>\n",
              "      <td>38</td>\n",
              "      <td>0</td>\n",
              "    </tr>\n",
              "    <tr>\n",
              "      <th>311</th>\n",
              "      <td>20</td>\n",
              "      <td>0</td>\n",
              "      <td>10</td>\n",
              "      <td>3</td>\n",
              "      <td>4</td>\n",
              "      <td>260</td>\n",
              "      <td>50</td>\n",
              "      <td>11</td>\n",
              "      <td>36</td>\n",
              "      <td>265017.0</td>\n",
              "      <td>88</td>\n",
              "      <td>1</td>\n",
              "      <td>1</td>\n",
              "      <td>4</td>\n",
              "      <td>1</td>\n",
              "      <td>0</td>\n",
              "      <td>0</td>\n",
              "      <td>65</td>\n",
              "      <td>168</td>\n",
              "      <td>23</td>\n",
              "      <td>0</td>\n",
              "    </tr>\n",
              "    <tr>\n",
              "      <th>312</th>\n",
              "      <td>15</td>\n",
              "      <td>0</td>\n",
              "      <td>10</td>\n",
              "      <td>3</td>\n",
              "      <td>4</td>\n",
              "      <td>291</td>\n",
              "      <td>31</td>\n",
              "      <td>12</td>\n",
              "      <td>40</td>\n",
              "      <td>265017.0</td>\n",
              "      <td>88</td>\n",
              "      <td>1</td>\n",
              "      <td>1</td>\n",
              "      <td>1</td>\n",
              "      <td>1</td>\n",
              "      <td>0</td>\n",
              "      <td>1</td>\n",
              "      <td>73</td>\n",
              "      <td>171</td>\n",
              "      <td>25</td>\n",
              "      <td>0</td>\n",
              "    </tr>\n",
              "    <tr>\n",
              "      <th>313</th>\n",
              "      <td>30</td>\n",
              "      <td>0</td>\n",
              "      <td>10</td>\n",
              "      <td>3</td>\n",
              "      <td>4</td>\n",
              "      <td>157</td>\n",
              "      <td>27</td>\n",
              "      <td>6</td>\n",
              "      <td>29</td>\n",
              "      <td>265017.0</td>\n",
              "      <td>88</td>\n",
              "      <td>1</td>\n",
              "      <td>1</td>\n",
              "      <td>0</td>\n",
              "      <td>1</td>\n",
              "      <td>1</td>\n",
              "      <td>0</td>\n",
              "      <td>75</td>\n",
              "      <td>185</td>\n",
              "      <td>22</td>\n",
              "      <td>0</td>\n",
              "    </tr>\n",
              "    <tr>\n",
              "      <th>325</th>\n",
              "      <td>18</td>\n",
              "      <td>0</td>\n",
              "      <td>11</td>\n",
              "      <td>3</td>\n",
              "      <td>4</td>\n",
              "      <td>330</td>\n",
              "      <td>16</td>\n",
              "      <td>4</td>\n",
              "      <td>28</td>\n",
              "      <td>284031.0</td>\n",
              "      <td>97</td>\n",
              "      <td>1</td>\n",
              "      <td>2</td>\n",
              "      <td>0</td>\n",
              "      <td>0</td>\n",
              "      <td>0</td>\n",
              "      <td>0</td>\n",
              "      <td>84</td>\n",
              "      <td>182</td>\n",
              "      <td>25</td>\n",
              "      <td>0</td>\n",
              "    </tr>\n",
              "    <tr>\n",
              "      <th>336</th>\n",
              "      <td>23</td>\n",
              "      <td>0</td>\n",
              "      <td>11</td>\n",
              "      <td>6</td>\n",
              "      <td>4</td>\n",
              "      <td>378</td>\n",
              "      <td>49</td>\n",
              "      <td>11</td>\n",
              "      <td>36</td>\n",
              "      <td>284031.0</td>\n",
              "      <td>97</td>\n",
              "      <td>1</td>\n",
              "      <td>1</td>\n",
              "      <td>2</td>\n",
              "      <td>0</td>\n",
              "      <td>1</td>\n",
              "      <td>4</td>\n",
              "      <td>65</td>\n",
              "      <td>174</td>\n",
              "      <td>21</td>\n",
              "      <td>0</td>\n",
              "    </tr>\n",
              "    <tr>\n",
              "      <th>337</th>\n",
              "      <td>7</td>\n",
              "      <td>0</td>\n",
              "      <td>11</td>\n",
              "      <td>3</td>\n",
              "      <td>4</td>\n",
              "      <td>279</td>\n",
              "      <td>5</td>\n",
              "      <td>14</td>\n",
              "      <td>39</td>\n",
              "      <td>284031.0</td>\n",
              "      <td>97</td>\n",
              "      <td>1</td>\n",
              "      <td>1</td>\n",
              "      <td>2</td>\n",
              "      <td>1</td>\n",
              "      <td>1</td>\n",
              "      <td>0</td>\n",
              "      <td>68</td>\n",
              "      <td>168</td>\n",
              "      <td>24</td>\n",
              "      <td>0</td>\n",
              "    </tr>\n",
              "    <tr>\n",
              "      <th>400</th>\n",
              "      <td>13</td>\n",
              "      <td>0</td>\n",
              "      <td>3</td>\n",
              "      <td>4</td>\n",
              "      <td>2</td>\n",
              "      <td>369</td>\n",
              "      <td>17</td>\n",
              "      <td>12</td>\n",
              "      <td>31</td>\n",
              "      <td>244387.0</td>\n",
              "      <td>98</td>\n",
              "      <td>1</td>\n",
              "      <td>1</td>\n",
              "      <td>3</td>\n",
              "      <td>1</td>\n",
              "      <td>0</td>\n",
              "      <td>0</td>\n",
              "      <td>70</td>\n",
              "      <td>169</td>\n",
              "      <td>25</td>\n",
              "      <td>0</td>\n",
              "    </tr>\n",
              "    <tr>\n",
              "      <th>405</th>\n",
              "      <td>1</td>\n",
              "      <td>0</td>\n",
              "      <td>3</td>\n",
              "      <td>5</td>\n",
              "      <td>3</td>\n",
              "      <td>235</td>\n",
              "      <td>11</td>\n",
              "      <td>14</td>\n",
              "      <td>37</td>\n",
              "      <td>244387.0</td>\n",
              "      <td>98</td>\n",
              "      <td>1</td>\n",
              "      <td>3</td>\n",
              "      <td>1</td>\n",
              "      <td>0</td>\n",
              "      <td>0</td>\n",
              "      <td>1</td>\n",
              "      <td>88</td>\n",
              "      <td>172</td>\n",
              "      <td>29</td>\n",
              "      <td>0</td>\n",
              "    </tr>\n",
              "    <tr>\n",
              "      <th>406</th>\n",
              "      <td>24</td>\n",
              "      <td>0</td>\n",
              "      <td>3</td>\n",
              "      <td>5</td>\n",
              "      <td>3</td>\n",
              "      <td>246</td>\n",
              "      <td>25</td>\n",
              "      <td>16</td>\n",
              "      <td>41</td>\n",
              "      <td>244387.0</td>\n",
              "      <td>98</td>\n",
              "      <td>1</td>\n",
              "      <td>1</td>\n",
              "      <td>0</td>\n",
              "      <td>1</td>\n",
              "      <td>0</td>\n",
              "      <td>0</td>\n",
              "      <td>67</td>\n",
              "      <td>170</td>\n",
              "      <td>23</td>\n",
              "      <td>0</td>\n",
              "    </tr>\n",
              "    <tr>\n",
              "      <th>407</th>\n",
              "      <td>36</td>\n",
              "      <td>0</td>\n",
              "      <td>3</td>\n",
              "      <td>5</td>\n",
              "      <td>3</td>\n",
              "      <td>118</td>\n",
              "      <td>13</td>\n",
              "      <td>18</td>\n",
              "      <td>50</td>\n",
              "      <td>244387.0</td>\n",
              "      <td>98</td>\n",
              "      <td>1</td>\n",
              "      <td>1</td>\n",
              "      <td>1</td>\n",
              "      <td>1</td>\n",
              "      <td>0</td>\n",
              "      <td>0</td>\n",
              "      <td>98</td>\n",
              "      <td>178</td>\n",
              "      <td>31</td>\n",
              "      <td>0</td>\n",
              "    </tr>\n",
              "    <tr>\n",
              "      <th>446</th>\n",
              "      <td>3</td>\n",
              "      <td>0</td>\n",
              "      <td>6</td>\n",
              "      <td>6</td>\n",
              "      <td>3</td>\n",
              "      <td>179</td>\n",
              "      <td>51</td>\n",
              "      <td>18</td>\n",
              "      <td>38</td>\n",
              "      <td>253957.0</td>\n",
              "      <td>95</td>\n",
              "      <td>1</td>\n",
              "      <td>1</td>\n",
              "      <td>0</td>\n",
              "      <td>1</td>\n",
              "      <td>0</td>\n",
              "      <td>0</td>\n",
              "      <td>89</td>\n",
              "      <td>170</td>\n",
              "      <td>31</td>\n",
              "      <td>0</td>\n",
              "    </tr>\n",
              "    <tr>\n",
              "      <th>530</th>\n",
              "      <td>28</td>\n",
              "      <td>0</td>\n",
              "      <td>10</td>\n",
              "      <td>2</td>\n",
              "      <td>4</td>\n",
              "      <td>225</td>\n",
              "      <td>26</td>\n",
              "      <td>9</td>\n",
              "      <td>28</td>\n",
              "      <td>284853.0</td>\n",
              "      <td>91</td>\n",
              "      <td>1</td>\n",
              "      <td>1</td>\n",
              "      <td>1</td>\n",
              "      <td>0</td>\n",
              "      <td>0</td>\n",
              "      <td>2</td>\n",
              "      <td>69</td>\n",
              "      <td>169</td>\n",
              "      <td>24</td>\n",
              "      <td>0</td>\n",
              "    </tr>\n",
              "    <tr>\n",
              "      <th>548</th>\n",
              "      <td>15</td>\n",
              "      <td>0</td>\n",
              "      <td>11</td>\n",
              "      <td>3</td>\n",
              "      <td>4</td>\n",
              "      <td>291</td>\n",
              "      <td>31</td>\n",
              "      <td>12</td>\n",
              "      <td>40</td>\n",
              "      <td>268519.0</td>\n",
              "      <td>93</td>\n",
              "      <td>1</td>\n",
              "      <td>1</td>\n",
              "      <td>1</td>\n",
              "      <td>1</td>\n",
              "      <td>0</td>\n",
              "      <td>1</td>\n",
              "      <td>73</td>\n",
              "      <td>171</td>\n",
              "      <td>25</td>\n",
              "      <td>0</td>\n",
              "    </tr>\n",
              "    <tr>\n",
              "      <th>549</th>\n",
              "      <td>11</td>\n",
              "      <td>0</td>\n",
              "      <td>11</td>\n",
              "      <td>4</td>\n",
              "      <td>4</td>\n",
              "      <td>289</td>\n",
              "      <td>36</td>\n",
              "      <td>13</td>\n",
              "      <td>33</td>\n",
              "      <td>268519.0</td>\n",
              "      <td>93</td>\n",
              "      <td>1</td>\n",
              "      <td>1</td>\n",
              "      <td>2</td>\n",
              "      <td>1</td>\n",
              "      <td>0</td>\n",
              "      <td>1</td>\n",
              "      <td>90</td>\n",
              "      <td>172</td>\n",
              "      <td>30</td>\n",
              "      <td>0</td>\n",
              "    </tr>\n",
              "    <tr>\n",
              "      <th>551</th>\n",
              "      <td>5</td>\n",
              "      <td>0</td>\n",
              "      <td>11</td>\n",
              "      <td>5</td>\n",
              "      <td>4</td>\n",
              "      <td>235</td>\n",
              "      <td>20</td>\n",
              "      <td>13</td>\n",
              "      <td>43</td>\n",
              "      <td>268519.0</td>\n",
              "      <td>93</td>\n",
              "      <td>1</td>\n",
              "      <td>1</td>\n",
              "      <td>1</td>\n",
              "      <td>1</td>\n",
              "      <td>0</td>\n",
              "      <td>0</td>\n",
              "      <td>106</td>\n",
              "      <td>167</td>\n",
              "      <td>38</td>\n",
              "      <td>0</td>\n",
              "    </tr>\n",
              "    <tr>\n",
              "      <th>688</th>\n",
              "      <td>36</td>\n",
              "      <td>0</td>\n",
              "      <td>5</td>\n",
              "      <td>3</td>\n",
              "      <td>3</td>\n",
              "      <td>118</td>\n",
              "      <td>13</td>\n",
              "      <td>18</td>\n",
              "      <td>50</td>\n",
              "      <td>237656.0</td>\n",
              "      <td>99</td>\n",
              "      <td>1</td>\n",
              "      <td>1</td>\n",
              "      <td>1</td>\n",
              "      <td>1</td>\n",
              "      <td>0</td>\n",
              "      <td>0</td>\n",
              "      <td>98</td>\n",
              "      <td>178</td>\n",
              "      <td>31</td>\n",
              "      <td>0</td>\n",
              "    </tr>\n",
              "    <tr>\n",
              "      <th>690</th>\n",
              "      <td>23</td>\n",
              "      <td>0</td>\n",
              "      <td>5</td>\n",
              "      <td>4</td>\n",
              "      <td>3</td>\n",
              "      <td>378</td>\n",
              "      <td>49</td>\n",
              "      <td>11</td>\n",
              "      <td>36</td>\n",
              "      <td>237656.0</td>\n",
              "      <td>99</td>\n",
              "      <td>1</td>\n",
              "      <td>1</td>\n",
              "      <td>2</td>\n",
              "      <td>0</td>\n",
              "      <td>1</td>\n",
              "      <td>4</td>\n",
              "      <td>65</td>\n",
              "      <td>174</td>\n",
              "      <td>21</td>\n",
              "      <td>0</td>\n",
              "    </tr>\n",
              "    <tr>\n",
              "      <th>714</th>\n",
              "      <td>2</td>\n",
              "      <td>0</td>\n",
              "      <td>6</td>\n",
              "      <td>2</td>\n",
              "      <td>3</td>\n",
              "      <td>235</td>\n",
              "      <td>29</td>\n",
              "      <td>12</td>\n",
              "      <td>48</td>\n",
              "      <td>275089.0</td>\n",
              "      <td>96</td>\n",
              "      <td>1</td>\n",
              "      <td>1</td>\n",
              "      <td>1</td>\n",
              "      <td>0</td>\n",
              "      <td>1</td>\n",
              "      <td>5</td>\n",
              "      <td>88</td>\n",
              "      <td>163</td>\n",
              "      <td>33</td>\n",
              "      <td>0</td>\n",
              "    </tr>\n",
              "    <tr>\n",
              "      <th>715</th>\n",
              "      <td>21</td>\n",
              "      <td>0</td>\n",
              "      <td>6</td>\n",
              "      <td>2</td>\n",
              "      <td>3</td>\n",
              "      <td>268</td>\n",
              "      <td>11</td>\n",
              "      <td>8</td>\n",
              "      <td>33</td>\n",
              "      <td>275089.0</td>\n",
              "      <td>96</td>\n",
              "      <td>1</td>\n",
              "      <td>2</td>\n",
              "      <td>0</td>\n",
              "      <td>0</td>\n",
              "      <td>0</td>\n",
              "      <td>0</td>\n",
              "      <td>79</td>\n",
              "      <td>178</td>\n",
              "      <td>25</td>\n",
              "      <td>0</td>\n",
              "    </tr>\n",
              "  </tbody>\n",
              "</table>\n",
              "</div>"
            ],
            "text/plain": [
              "     ID  Reason for absence  ...  Body mass index  Absenteeism time in hours\n",
              "1    36                   0  ...               31                          0\n",
              "50   20                   0  ...               23                          0\n",
              "51   29                   0  ...               24                          0\n",
              "54   11                   0  ...               30                          0\n",
              "55   36                   0  ...               31                          0\n",
              "58   13                   0  ...               25                          0\n",
              "64   36                   0  ...               31                          0\n",
              "134  34                  27  ...               28                          0\n",
              "203   2                   0  ...               33                          0\n",
              "213   7                   0  ...               24                          0\n",
              "214  18                   0  ...               25                          0\n",
              "215  23                   0  ...               21                          0\n",
              "216  31                   0  ...               24                          0\n",
              "251  20                   0  ...               23                          0\n",
              "273   5                   0  ...               38                          0\n",
              "276   8                   0  ...               35                          0\n",
              "277  19                   0  ...               23                          0\n",
              "285   5                   0  ...               38                          0\n",
              "293  36                   0  ...               31                          0\n",
              "294  33                   0  ...               32                          0\n",
              "300   5                   0  ...               38                          0\n",
              "303   5                   0  ...               38                          0\n",
              "311  20                   0  ...               23                          0\n",
              "312  15                   0  ...               25                          0\n",
              "313  30                   0  ...               22                          0\n",
              "325  18                   0  ...               25                          0\n",
              "336  23                   0  ...               21                          0\n",
              "337   7                   0  ...               24                          0\n",
              "400  13                   0  ...               25                          0\n",
              "405   1                   0  ...               29                          0\n",
              "406  24                   0  ...               23                          0\n",
              "407  36                   0  ...               31                          0\n",
              "446   3                   0  ...               31                          0\n",
              "530  28                   0  ...               24                          0\n",
              "548  15                   0  ...               25                          0\n",
              "549  11                   0  ...               30                          0\n",
              "551   5                   0  ...               38                          0\n",
              "688  36                   0  ...               31                          0\n",
              "690  23                   0  ...               21                          0\n",
              "714   2                   0  ...               33                          0\n",
              "715  21                   0  ...               25                          0\n",
              "\n",
              "[41 rows x 21 columns]"
            ]
          },
          "metadata": {
            "tags": []
          },
          "execution_count": 142
        }
      ]
    },
    {
      "cell_type": "markdown",
      "metadata": {
        "id": "DJEjhz0qRXFH"
      },
      "source": [
        "There are 41 rows with zero values in Absenteeism in hours of which 40 rows are for disciplinary failure.There maybe \"data entry errors\". On the safer side let us drop these 41 rows where \"Absenteeism Time is Zero\""
      ]
    },
    {
      "cell_type": "code",
      "metadata": {
        "id": "7iw0jpDgSVxX"
      },
      "source": [
        "df = df[df['Absenteeism time in hours'] != 0]"
      ],
      "execution_count": 143,
      "outputs": []
    },
    {
      "cell_type": "code",
      "metadata": {
        "colab": {
          "base_uri": "https://localhost:8080/",
          "height": 663
        },
        "id": "cM6H6HuKieey",
        "outputId": "681db19b-f16a-448c-e128-40f535b2c634"
      },
      "source": [
        "# Tabular view of Data {shape of data, the type of data , the missing values , unique counts , % Missing}\n",
        "# Creating the Data Dictionary with first column being datatype.\n",
        "Data_dict = pd.DataFrame(df.dtypes)\n",
        "# Identifying unique values . For this I've used nunique() which returns unique elements in the object.\n",
        "Data_dict['UniqueVal'] = df.nunique()\n",
        "# Identifying the missing values from the dataset.\n",
        "Data_dict['MissingVal'] = df.isnull().sum()\n",
        "# Percentage of Missing Values\n",
        "Data_dict['Percent Missing'] = round(df.isnull().sum()/len(df)*100, 2)\n",
        "# identifying count of the variable.\n",
        "Data_dict['Count'] = df.count()\n",
        "# Renaming the first column using rename()\n",
        "Data_dict = Data_dict.rename(columns = {0:'DataType'})\n",
        "Data_dict"
      ],
      "execution_count": 144,
      "outputs": [
        {
          "output_type": "execute_result",
          "data": {
            "text/html": [
              "<div>\n",
              "<style scoped>\n",
              "    .dataframe tbody tr th:only-of-type {\n",
              "        vertical-align: middle;\n",
              "    }\n",
              "\n",
              "    .dataframe tbody tr th {\n",
              "        vertical-align: top;\n",
              "    }\n",
              "\n",
              "    .dataframe thead th {\n",
              "        text-align: right;\n",
              "    }\n",
              "</style>\n",
              "<table border=\"1\" class=\"dataframe\">\n",
              "  <thead>\n",
              "    <tr style=\"text-align: right;\">\n",
              "      <th></th>\n",
              "      <th>DataType</th>\n",
              "      <th>UniqueVal</th>\n",
              "      <th>MissingVal</th>\n",
              "      <th>Percent Missing</th>\n",
              "      <th>Count</th>\n",
              "    </tr>\n",
              "  </thead>\n",
              "  <tbody>\n",
              "    <tr>\n",
              "      <th>ID</th>\n",
              "      <td>int64</td>\n",
              "      <td>33</td>\n",
              "      <td>0</td>\n",
              "      <td>0.0</td>\n",
              "      <td>696</td>\n",
              "    </tr>\n",
              "    <tr>\n",
              "      <th>Reason for absence</th>\n",
              "      <td>int64</td>\n",
              "      <td>27</td>\n",
              "      <td>0</td>\n",
              "      <td>0.0</td>\n",
              "      <td>696</td>\n",
              "    </tr>\n",
              "    <tr>\n",
              "      <th>Month of absence</th>\n",
              "      <td>int64</td>\n",
              "      <td>12</td>\n",
              "      <td>0</td>\n",
              "      <td>0.0</td>\n",
              "      <td>696</td>\n",
              "    </tr>\n",
              "    <tr>\n",
              "      <th>Day of the week</th>\n",
              "      <td>int64</td>\n",
              "      <td>5</td>\n",
              "      <td>0</td>\n",
              "      <td>0.0</td>\n",
              "      <td>696</td>\n",
              "    </tr>\n",
              "    <tr>\n",
              "      <th>Seasons</th>\n",
              "      <td>int64</td>\n",
              "      <td>4</td>\n",
              "      <td>0</td>\n",
              "      <td>0.0</td>\n",
              "      <td>696</td>\n",
              "    </tr>\n",
              "    <tr>\n",
              "      <th>Transportation expense</th>\n",
              "      <td>int64</td>\n",
              "      <td>23</td>\n",
              "      <td>0</td>\n",
              "      <td>0.0</td>\n",
              "      <td>696</td>\n",
              "    </tr>\n",
              "    <tr>\n",
              "      <th>Distance from Residence to Work</th>\n",
              "      <td>int64</td>\n",
              "      <td>23</td>\n",
              "      <td>0</td>\n",
              "      <td>0.0</td>\n",
              "      <td>696</td>\n",
              "    </tr>\n",
              "    <tr>\n",
              "      <th>Service time</th>\n",
              "      <td>int64</td>\n",
              "      <td>18</td>\n",
              "      <td>0</td>\n",
              "      <td>0.0</td>\n",
              "      <td>696</td>\n",
              "    </tr>\n",
              "    <tr>\n",
              "      <th>Age</th>\n",
              "      <td>int64</td>\n",
              "      <td>21</td>\n",
              "      <td>0</td>\n",
              "      <td>0.0</td>\n",
              "      <td>696</td>\n",
              "    </tr>\n",
              "    <tr>\n",
              "      <th>Work load Averageperday</th>\n",
              "      <td>float64</td>\n",
              "      <td>37</td>\n",
              "      <td>0</td>\n",
              "      <td>0.0</td>\n",
              "      <td>696</td>\n",
              "    </tr>\n",
              "    <tr>\n",
              "      <th>Hit target</th>\n",
              "      <td>int64</td>\n",
              "      <td>13</td>\n",
              "      <td>0</td>\n",
              "      <td>0.0</td>\n",
              "      <td>696</td>\n",
              "    </tr>\n",
              "    <tr>\n",
              "      <th>Disciplinary failure</th>\n",
              "      <td>int64</td>\n",
              "      <td>1</td>\n",
              "      <td>0</td>\n",
              "      <td>0.0</td>\n",
              "      <td>696</td>\n",
              "    </tr>\n",
              "    <tr>\n",
              "      <th>Education</th>\n",
              "      <td>int64</td>\n",
              "      <td>4</td>\n",
              "      <td>0</td>\n",
              "      <td>0.0</td>\n",
              "      <td>696</td>\n",
              "    </tr>\n",
              "    <tr>\n",
              "      <th>Son</th>\n",
              "      <td>int64</td>\n",
              "      <td>5</td>\n",
              "      <td>0</td>\n",
              "      <td>0.0</td>\n",
              "      <td>696</td>\n",
              "    </tr>\n",
              "    <tr>\n",
              "      <th>Social drinker</th>\n",
              "      <td>int64</td>\n",
              "      <td>2</td>\n",
              "      <td>0</td>\n",
              "      <td>0.0</td>\n",
              "      <td>696</td>\n",
              "    </tr>\n",
              "    <tr>\n",
              "      <th>Social smoker</th>\n",
              "      <td>int64</td>\n",
              "      <td>2</td>\n",
              "      <td>0</td>\n",
              "      <td>0.0</td>\n",
              "      <td>696</td>\n",
              "    </tr>\n",
              "    <tr>\n",
              "      <th>Pet</th>\n",
              "      <td>int64</td>\n",
              "      <td>6</td>\n",
              "      <td>0</td>\n",
              "      <td>0.0</td>\n",
              "      <td>696</td>\n",
              "    </tr>\n",
              "    <tr>\n",
              "      <th>Weight</th>\n",
              "      <td>int64</td>\n",
              "      <td>25</td>\n",
              "      <td>0</td>\n",
              "      <td>0.0</td>\n",
              "      <td>696</td>\n",
              "    </tr>\n",
              "    <tr>\n",
              "      <th>Height</th>\n",
              "      <td>int64</td>\n",
              "      <td>14</td>\n",
              "      <td>0</td>\n",
              "      <td>0.0</td>\n",
              "      <td>696</td>\n",
              "    </tr>\n",
              "    <tr>\n",
              "      <th>Body mass index</th>\n",
              "      <td>int64</td>\n",
              "      <td>15</td>\n",
              "      <td>0</td>\n",
              "      <td>0.0</td>\n",
              "      <td>696</td>\n",
              "    </tr>\n",
              "    <tr>\n",
              "      <th>Absenteeism time in hours</th>\n",
              "      <td>int64</td>\n",
              "      <td>18</td>\n",
              "      <td>0</td>\n",
              "      <td>0.0</td>\n",
              "      <td>696</td>\n",
              "    </tr>\n",
              "  </tbody>\n",
              "</table>\n",
              "</div>"
            ],
            "text/plain": [
              "                                DataType  UniqueVal  ...  Percent Missing  Count\n",
              "ID                                 int64         33  ...              0.0    696\n",
              "Reason for absence                 int64         27  ...              0.0    696\n",
              "Month of absence                   int64         12  ...              0.0    696\n",
              "Day of the week                    int64          5  ...              0.0    696\n",
              "Seasons                            int64          4  ...              0.0    696\n",
              "Transportation expense             int64         23  ...              0.0    696\n",
              "Distance from Residence to Work    int64         23  ...              0.0    696\n",
              "Service time                       int64         18  ...              0.0    696\n",
              "Age                                int64         21  ...              0.0    696\n",
              "Work load Averageperday          float64         37  ...              0.0    696\n",
              "Hit target                         int64         13  ...              0.0    696\n",
              "Disciplinary failure               int64          1  ...              0.0    696\n",
              "Education                          int64          4  ...              0.0    696\n",
              "Son                                int64          5  ...              0.0    696\n",
              "Social drinker                     int64          2  ...              0.0    696\n",
              "Social smoker                      int64          2  ...              0.0    696\n",
              "Pet                                int64          6  ...              0.0    696\n",
              "Weight                             int64         25  ...              0.0    696\n",
              "Height                             int64         14  ...              0.0    696\n",
              "Body mass index                    int64         15  ...              0.0    696\n",
              "Absenteeism time in hours          int64         18  ...              0.0    696\n",
              "\n",
              "[21 rows x 5 columns]"
            ]
          },
          "metadata": {
            "tags": []
          },
          "execution_count": 144
        }
      ]
    },
    {
      "cell_type": "markdown",
      "metadata": {
        "id": "2c9wE2G0jk4N"
      },
      "source": [
        "# Exploratory Data Analysis"
      ]
    },
    {
      "cell_type": "code",
      "metadata": {
        "colab": {
          "base_uri": "https://localhost:8080/"
        },
        "id": "vRcmn01gofzs",
        "outputId": "3bebb28f-af1f-40e2-f930-e9cb564fc1c4"
      },
      "source": [
        "df.columns"
      ],
      "execution_count": 145,
      "outputs": [
        {
          "output_type": "execute_result",
          "data": {
            "text/plain": [
              "Index(['ID', 'Reason for absence', 'Month of absence', 'Day of the week',\n",
              "       'Seasons', 'Transportation expense', 'Distance from Residence to Work',\n",
              "       'Service time', 'Age', 'Work load Averageperday', 'Hit target',\n",
              "       'Disciplinary failure', 'Education', 'Son', 'Social drinker',\n",
              "       'Social smoker', 'Pet', 'Weight', 'Height', 'Body mass index',\n",
              "       'Absenteeism time in hours'],\n",
              "      dtype='object')"
            ]
          },
          "metadata": {
            "tags": []
          },
          "execution_count": 145
        }
      ]
    },
    {
      "cell_type": "markdown",
      "metadata": {
        "id": "yOGKCiZ1oJ66"
      },
      "source": [
        "## Univariate Numerical Indicators  \n",
        "* Create a dataframe of purely numeric columns  \n",
        "* Examine Numeric Statistics\n",
        "* Histogram/Distribution \n",
        "* Visualize the Correlation Matrix  "
      ]
    },
    {
      "cell_type": "code",
      "metadata": {
        "colab": {
          "base_uri": "https://localhost:8080/",
          "height": 194
        },
        "id": "J100OfB3oUdP",
        "outputId": "5db6d797-2cda-49f1-86f7-135ea38e0407"
      },
      "source": [
        "# create a dataframe of pure numeric columns\n",
        "data_num = df[['Transportation expense' ,'Distance from Residence to Work' , 'Service time', 'Age', 'Work load Averageperday' , 'Hit target' , \n",
        "               'Weight', 'Height', 'Body mass index']]\n",
        "data_num.sample(5)"
      ],
      "execution_count": 146,
      "outputs": [
        {
          "output_type": "execute_result",
          "data": {
            "text/html": [
              "<div>\n",
              "<style scoped>\n",
              "    .dataframe tbody tr th:only-of-type {\n",
              "        vertical-align: middle;\n",
              "    }\n",
              "\n",
              "    .dataframe tbody tr th {\n",
              "        vertical-align: top;\n",
              "    }\n",
              "\n",
              "    .dataframe thead th {\n",
              "        text-align: right;\n",
              "    }\n",
              "</style>\n",
              "<table border=\"1\" class=\"dataframe\">\n",
              "  <thead>\n",
              "    <tr style=\"text-align: right;\">\n",
              "      <th></th>\n",
              "      <th>Transportation expense</th>\n",
              "      <th>Distance from Residence to Work</th>\n",
              "      <th>Service time</th>\n",
              "      <th>Age</th>\n",
              "      <th>Work load Averageperday</th>\n",
              "      <th>Hit target</th>\n",
              "      <th>Weight</th>\n",
              "      <th>Height</th>\n",
              "      <th>Body mass index</th>\n",
              "    </tr>\n",
              "  </thead>\n",
              "  <tbody>\n",
              "    <tr>\n",
              "      <th>328</th>\n",
              "      <td>235</td>\n",
              "      <td>11</td>\n",
              "      <td>14</td>\n",
              "      <td>37</td>\n",
              "      <td>284031.0</td>\n",
              "      <td>97</td>\n",
              "      <td>88</td>\n",
              "      <td>172</td>\n",
              "      <td>29</td>\n",
              "    </tr>\n",
              "    <tr>\n",
              "      <th>505</th>\n",
              "      <td>369</td>\n",
              "      <td>17</td>\n",
              "      <td>12</td>\n",
              "      <td>31</td>\n",
              "      <td>261756.0</td>\n",
              "      <td>87</td>\n",
              "      <td>70</td>\n",
              "      <td>169</td>\n",
              "      <td>25</td>\n",
              "    </tr>\n",
              "    <tr>\n",
              "      <th>138</th>\n",
              "      <td>246</td>\n",
              "      <td>25</td>\n",
              "      <td>16</td>\n",
              "      <td>41</td>\n",
              "      <td>302585.0</td>\n",
              "      <td>99</td>\n",
              "      <td>67</td>\n",
              "      <td>170</td>\n",
              "      <td>23</td>\n",
              "    </tr>\n",
              "    <tr>\n",
              "      <th>449</th>\n",
              "      <td>246</td>\n",
              "      <td>25</td>\n",
              "      <td>16</td>\n",
              "      <td>41</td>\n",
              "      <td>253957.0</td>\n",
              "      <td>95</td>\n",
              "      <td>67</td>\n",
              "      <td>170</td>\n",
              "      <td>23</td>\n",
              "    </tr>\n",
              "    <tr>\n",
              "      <th>15</th>\n",
              "      <td>246</td>\n",
              "      <td>25</td>\n",
              "      <td>16</td>\n",
              "      <td>41</td>\n",
              "      <td>239554.0</td>\n",
              "      <td>97</td>\n",
              "      <td>67</td>\n",
              "      <td>170</td>\n",
              "      <td>23</td>\n",
              "    </tr>\n",
              "  </tbody>\n",
              "</table>\n",
              "</div>"
            ],
            "text/plain": [
              "     Transportation expense  ...  Body mass index\n",
              "328                     235  ...               29\n",
              "505                     369  ...               25\n",
              "138                     246  ...               23\n",
              "449                     246  ...               23\n",
              "15                      246  ...               23\n",
              "\n",
              "[5 rows x 9 columns]"
            ]
          },
          "metadata": {
            "tags": []
          },
          "execution_count": 146
        }
      ]
    },
    {
      "cell_type": "code",
      "metadata": {
        "colab": {
          "base_uri": "https://localhost:8080/",
          "height": 282
        },
        "id": "FqZzhWYVwe0U",
        "outputId": "812930b9-8280-4291-d420-9e7e5937bbb3"
      },
      "source": [
        "# numerical statistics\n",
        "data_num.describe()"
      ],
      "execution_count": 147,
      "outputs": [
        {
          "output_type": "execute_result",
          "data": {
            "text/html": [
              "<div>\n",
              "<style scoped>\n",
              "    .dataframe tbody tr th:only-of-type {\n",
              "        vertical-align: middle;\n",
              "    }\n",
              "\n",
              "    .dataframe tbody tr th {\n",
              "        vertical-align: top;\n",
              "    }\n",
              "\n",
              "    .dataframe thead th {\n",
              "        text-align: right;\n",
              "    }\n",
              "</style>\n",
              "<table border=\"1\" class=\"dataframe\">\n",
              "  <thead>\n",
              "    <tr style=\"text-align: right;\">\n",
              "      <th></th>\n",
              "      <th>Transportation expense</th>\n",
              "      <th>Distance from Residence to Work</th>\n",
              "      <th>Service time</th>\n",
              "      <th>Age</th>\n",
              "      <th>Work load Averageperday</th>\n",
              "      <th>Hit target</th>\n",
              "      <th>Weight</th>\n",
              "      <th>Height</th>\n",
              "      <th>Body mass index</th>\n",
              "    </tr>\n",
              "  </thead>\n",
              "  <tbody>\n",
              "    <tr>\n",
              "      <th>count</th>\n",
              "      <td>696.000000</td>\n",
              "      <td>696.000000</td>\n",
              "      <td>696.000000</td>\n",
              "      <td>696.000000</td>\n",
              "      <td>696.000000</td>\n",
              "      <td>696.000000</td>\n",
              "      <td>696.000000</td>\n",
              "      <td>696.000000</td>\n",
              "      <td>696.000000</td>\n",
              "    </tr>\n",
              "    <tr>\n",
              "      <th>mean</th>\n",
              "      <td>219.916667</td>\n",
              "      <td>29.853448</td>\n",
              "      <td>12.553161</td>\n",
              "      <td>36.254310</td>\n",
              "      <td>271165.718391</td>\n",
              "      <td>94.719828</td>\n",
              "      <td>78.751437</td>\n",
              "      <td>172.132184</td>\n",
              "      <td>26.573276</td>\n",
              "    </tr>\n",
              "    <tr>\n",
              "      <th>std</th>\n",
              "      <td>65.803295</td>\n",
              "      <td>14.855615</td>\n",
              "      <td>4.440175</td>\n",
              "      <td>6.380725</td>\n",
              "      <td>39096.003153</td>\n",
              "      <td>3.656150</td>\n",
              "      <td>12.730748</td>\n",
              "      <td>6.087118</td>\n",
              "      <td>4.192879</td>\n",
              "    </tr>\n",
              "    <tr>\n",
              "      <th>min</th>\n",
              "      <td>118.000000</td>\n",
              "      <td>5.000000</td>\n",
              "      <td>1.000000</td>\n",
              "      <td>27.000000</td>\n",
              "      <td>205917.000000</td>\n",
              "      <td>81.000000</td>\n",
              "      <td>56.000000</td>\n",
              "      <td>163.000000</td>\n",
              "      <td>19.000000</td>\n",
              "    </tr>\n",
              "    <tr>\n",
              "      <th>25%</th>\n",
              "      <td>179.000000</td>\n",
              "      <td>16.000000</td>\n",
              "      <td>9.000000</td>\n",
              "      <td>31.000000</td>\n",
              "      <td>243659.250000</td>\n",
              "      <td>93.000000</td>\n",
              "      <td>69.000000</td>\n",
              "      <td>169.000000</td>\n",
              "      <td>24.000000</td>\n",
              "    </tr>\n",
              "    <tr>\n",
              "      <th>50%</th>\n",
              "      <td>225.000000</td>\n",
              "      <td>26.000000</td>\n",
              "      <td>13.000000</td>\n",
              "      <td>37.000000</td>\n",
              "      <td>264249.000000</td>\n",
              "      <td>95.000000</td>\n",
              "      <td>80.000000</td>\n",
              "      <td>170.000000</td>\n",
              "      <td>25.000000</td>\n",
              "    </tr>\n",
              "    <tr>\n",
              "      <th>75%</th>\n",
              "      <td>260.000000</td>\n",
              "      <td>50.000000</td>\n",
              "      <td>16.000000</td>\n",
              "      <td>40.000000</td>\n",
              "      <td>294217.000000</td>\n",
              "      <td>97.000000</td>\n",
              "      <td>89.000000</td>\n",
              "      <td>172.000000</td>\n",
              "      <td>31.000000</td>\n",
              "    </tr>\n",
              "    <tr>\n",
              "      <th>max</th>\n",
              "      <td>388.000000</td>\n",
              "      <td>52.000000</td>\n",
              "      <td>29.000000</td>\n",
              "      <td>58.000000</td>\n",
              "      <td>378884.000000</td>\n",
              "      <td>100.000000</td>\n",
              "      <td>108.000000</td>\n",
              "      <td>196.000000</td>\n",
              "      <td>38.000000</td>\n",
              "    </tr>\n",
              "  </tbody>\n",
              "</table>\n",
              "</div>"
            ],
            "text/plain": [
              "       Transportation expense  ...  Body mass index\n",
              "count              696.000000  ...       696.000000\n",
              "mean               219.916667  ...        26.573276\n",
              "std                 65.803295  ...         4.192879\n",
              "min                118.000000  ...        19.000000\n",
              "25%                179.000000  ...        24.000000\n",
              "50%                225.000000  ...        25.000000\n",
              "75%                260.000000  ...        31.000000\n",
              "max                388.000000  ...        38.000000\n",
              "\n",
              "[8 rows x 9 columns]"
            ]
          },
          "metadata": {
            "tags": []
          },
          "execution_count": 147
        }
      ]
    },
    {
      "cell_type": "code",
      "metadata": {
        "colab": {
          "base_uri": "https://localhost:8080/",
          "height": 1000
        },
        "id": "dbdepWAjvnDQ",
        "outputId": "5729b7c9-e274-4afe-b110-b8b55fe38a19"
      },
      "source": [
        "# Histogram\n",
        "for i in data_num.columns:\n",
        "    plt.figure(figsize=(8,5))\n",
        "    plt.title(i)\n",
        "    sns.histplot(data_num[i] , kde = True);"
      ],
      "execution_count": 148,
      "outputs": [
        {
          "output_type": "display_data",
          "data": {
            "image/png": "[encoded data removed]",
            "text/plain": [
              "<Figure size 576x360 with 1 Axes>"
            ]
          },
          "metadata": {
            "tags": []
          }
        },
        {
          "output_type": "display_data",
          "data": {
            "image/png": "[encoded data removed]",
            "text/plain": [
              "<Figure size 576x360 with 1 Axes>"
            ]
          },
          "metadata": {
            "tags": []
          }
        },
        {
          "output_type": "display_data",
          "data": {
            "image/png": "[encoded data removed]",
            "text/plain": [
              "<Figure size 576x360 with 1 Axes>"
            ]
          },
          "metadata": {
            "tags": []
          }
        },
        {
          "output_type": "display_data",
          "data": {
            "image/png": "[encoded data removed]",
            "text/plain": [
              "<Figure size 576x360 with 1 Axes>"
            ]
          },
          "metadata": {
            "tags": []
          }
        },
        {
          "output_type": "display_data",
          "data": {
            "image/png": "[encoded data removed]",
            "text/plain": [
              "<Figure size 576x360 with 1 Axes>"
            ]
          },
          "metadata": {
            "tags": []
          }
        },
        {
          "output_type": "display_data",
          "data": {
            "image/png": "[encoded data removed]",
            "text/plain": [
              "<Figure size 576x360 with 1 Axes>"
            ]
          },
          "metadata": {
            "tags": []
          }
        },
        {
          "output_type": "display_data",
          "data": {
            "image/png": "[encoded data removed]",
            "text/plain": [
              "<Figure size 576x360 with 1 Axes>"
            ]
          },
          "metadata": {
            "tags": []
          }
        },
        {
          "output_type": "display_data",
          "data": {
            "image/png": "[encoded data removed]",
            "text/plain": [
              "<Figure size 576x360 with 1 Axes>"
            ]
          },
          "metadata": {
            "tags": []
          }
        },
        {
          "output_type": "display_data",
          "data": {
            "image/png": "[encoded data removed]",
            "text/plain": [
              "<Figure size 576x360 with 1 Axes>"
            ]
          },
          "metadata": {
            "tags": []
          }
        }
      ]
    },
    {
      "cell_type": "code",
      "metadata": {
        "colab": {
          "base_uri": "https://localhost:8080/",
          "height": 793
        },
        "id": "P7BFxKj_pBPT",
        "outputId": "c21eaf0e-c441-4119-cb61-01d75a682f45"
      },
      "source": [
        "# correlation heatmap\n",
        "# Compute the correlation matrix\n",
        "corr = data_num.corr()\n",
        "\n",
        "# Generate a mask for the upper triangle\n",
        "mask = np.triu(np.ones_like(corr, dtype=bool))\n",
        "\n",
        "# Set up the matplotlib figure\n",
        "f, ax = plt.subplots(figsize=(11, 9))\n",
        "\n",
        "# Generate a custom diverging colormap\n",
        "cmap = sns.diverging_palette(230, 20, as_cmap=True)\n",
        "\n",
        "# Draw the heatmap with the mask and correct aspect ratio\n",
        "sns.heatmap(corr, mask=mask, cmap=cmap, vmax=.3, center=0,\n",
        "            square=True, linewidths=.5, cbar_kws={\"shrink\": .5} , annot = True);"
      ],
      "execution_count": 149,
      "outputs": [
        {
          "output_type": "display_data",
          "data": {
            "image/png": "[encoded data removed]",
            "text/plain": [
              "<Figure size 792x648 with 2 Axes>"
            ]
          },
          "metadata": {
            "tags": []
          }
        }
      ]
    },
    {
      "cell_type": "markdown",
      "metadata": {
        "id": "CaD3L9JYt8Qb"
      },
      "source": [
        "**Inference** \n",
        "* All Numeric Indicators exhibit \"Multi Modal Distributions\" with multiple scales. Scaling / Normalization will be needed before modeling\n",
        "* BMI and Weight are highly correlated. We will drop BMI  "
      ]
    },
    {
      "cell_type": "markdown",
      "metadata": {
        "id": "8V9dnVM0uhSl"
      },
      "source": [
        "## Univariate Categorical Indicators \n",
        "* Create a subset of categorical columns  \n",
        "* Visualize Count plot of each categorical variable"
      ]
    },
    {
      "cell_type": "code",
      "metadata": {
        "id": "wViLBdx5sDRI"
      },
      "source": [
        ""
      ],
      "execution_count": 131,
      "outputs": []
    },
    {
      "cell_type": "code",
      "metadata": {
        "id": "yJvbxnaxxiLo"
      },
      "source": [
        "data_cat = df[['Reason for absence', 'Month of absence', \n",
        "            'Day of the week', 'Seasons', 'Disciplinary failure', \n",
        "            'Education', 'Son', 'Social drinker', 'Social smoker',\n",
        "            'Pet']]"
      ],
      "execution_count": 150,
      "outputs": []
    },
    {
      "cell_type": "code",
      "metadata": {
        "colab": {
          "base_uri": "https://localhost:8080/",
          "height": 1000
        },
        "id": "gNkLmxO2xP2f",
        "outputId": "080f2603-967d-46b1-9758-1c7b589a4df7"
      },
      "source": [
        "# barplot of categorical variables with diffrent sub-category counts\n",
        "for i in data_cat.columns:\n",
        "    plt.figure(figsize=(8,5))\n",
        "    plt.title(i)\n",
        "    sns.countplot(data_cat[i]);"
      ],
      "execution_count": 151,
      "outputs": [
        {
          "output_type": "display_data",
          "data": {
            "image/png": "[encoded data removed]",
            "text/plain": [
              "<Figure size 576x360 with 1 Axes>"
            ]
          },
          "metadata": {
            "tags": []
          }
        },
        {
          "output_type": "display_data",
          "data": {
            "image/png": "[encoded data removed]",
            "text/plain": [
              "<Figure size 576x360 with 1 Axes>"
            ]
          },
          "metadata": {
            "tags": []
          }
        },
        {
          "output_type": "display_data",
          "data": {
            "image/png": "[encoded data removed]",
            "text/plain": [
              "<Figure size 576x360 with 1 Axes>"
            ]
          },
          "metadata": {
            "tags": []
          }
        },
        {
          "output_type": "display_data",
          "data": {
            "image/png": "[encoded data removed]",
            "text/plain": [
              "<Figure size 576x360 with 1 Axes>"
            ]
          },
          "metadata": {
            "tags": []
          }
        },
        {
          "output_type": "display_data",
          "data": {
            "image/png": "[encoded data removed]",
            "text/plain": [
              "<Figure size 576x360 with 1 Axes>"
            ]
          },
          "metadata": {
            "tags": []
          }
        },
        {
          "output_type": "display_data",
          "data": {
            "image/png": "[encoded data removed]",
            "text/plain": [
              "<Figure size 576x360 with 1 Axes>"
            ]
          },
          "metadata": {
            "tags": []
          }
        },
        {
          "output_type": "display_data",
          "data": {
            "image/png": "[encoded data removed]",
            "text/plain": [
              "<Figure size 576x360 with 1 Axes>"
            ]
          },
          "metadata": {
            "tags": []
          }
        },
        {
          "output_type": "display_data",
          "data": {
            "image/png": "[encoded data removed]",
            "text/plain": [
              "<Figure size 576x360 with 1 Axes>"
            ]
          },
          "metadata": {
            "tags": []
          }
        },
        {
          "output_type": "display_data",
          "data": {
            "image/png": "[encoded data removed]",
            "text/plain": [
              "<Figure size 576x360 with 1 Axes>"
            ]
          },
          "metadata": {
            "tags": []
          }
        },
        {
          "output_type": "display_data",
          "data": {
            "image/png": "[encoded data removed]",
            "text/plain": [
              "<Figure size 576x360 with 1 Axes>"
            ]
          },
          "metadata": {
            "tags": []
          }
        }
      ]
    },
    {
      "cell_type": "markdown",
      "metadata": {
        "id": "oEF5VHkIjor0"
      },
      "source": [
        "**Inference**  \n",
        "* Reason 23 i.e. Medical consultation followed by Reason 28 Dental consultation are the top 2 reasons for absenteeism  \n",
        "* February and March have the highest absenteeisms  \n",
        "* Monday i.e. start of the week has the highest absentees.  \n",
        "* Highest Absenteeism in Autumn followed by Spring  \n",
        "* High School workers record the highest Absenteeism  \n",
        "* Social Drinkers and Non Smokers have the highest absentee hours  \n",
        "* Workers with no son and no pet record the highest absentee hours"
      ]
    },
    {
      "cell_type": "markdown",
      "metadata": {
        "id": "r8cGzPAk1O6Y"
      },
      "source": [
        "## Data Preparation for Modeling  \n",
        "* Drop BMI since it is highly correlated to Weight\n",
        "* Drop ID since this is not a unique indicator and may impair modeling"
      ]
    },
    {
      "cell_type": "code",
      "metadata": {
        "colab": {
          "base_uri": "https://localhost:8080/"
        },
        "id": "CgG1D77r13pe",
        "outputId": "29f777c6-19c4-4c8e-d6a9-b3175041f3f2"
      },
      "source": [
        "# drop BMI and ID  \n",
        "df.drop(['Body mass index', 'ID'], axis=1 , inplace = True)\n",
        "df.info()"
      ],
      "execution_count": 164,
      "outputs": [
        {
          "output_type": "stream",
          "text": [
            "<class 'pandas.core.frame.DataFrame'>\n",
            "Int64Index: 696 entries, 0 to 736\n",
            "Data columns (total 19 columns):\n",
            " #   Column                           Non-Null Count  Dtype  \n",
            "---  ------                           --------------  -----  \n",
            " 0   Reason for absence               696 non-null    int64  \n",
            " 1   Month of absence                 696 non-null    int64  \n",
            " 2   Day of the week                  696 non-null    int64  \n",
            " 3   Seasons                          696 non-null    int64  \n",
            " 4   Transportation expense           696 non-null    int64  \n",
            " 5   Distance from Residence to Work  696 non-null    int64  \n",
            " 6   Service time                     696 non-null    int64  \n",
            " 7   Age                              696 non-null    int64  \n",
            " 8   Work load Averageperday          696 non-null    float64\n",
            " 9   Hit target                       696 non-null    int64  \n",
            " 10  Disciplinary failure             696 non-null    int64  \n",
            " 11  Education                        696 non-null    int64  \n",
            " 12  Son                              696 non-null    int64  \n",
            " 13  Social drinker                   696 non-null    int64  \n",
            " 14  Social smoker                    696 non-null    int64  \n",
            " 15  Pet                              696 non-null    int64  \n",
            " 16  Weight                           696 non-null    int64  \n",
            " 17  Height                           696 non-null    int64  \n",
            " 18  Absenteeism time in hours        696 non-null    int64  \n",
            "dtypes: float64(1), int64(18)\n",
            "memory usage: 128.8 KB\n"
          ],
          "name": "stdout"
        }
      ]
    },
    {
      "cell_type": "markdown",
      "metadata": {
        "id": "CGRzB5Bc3oZm"
      },
      "source": [
        "## Baseline Regression Model for feature Extraction  \n",
        "We will use the statsmodel package from scipy to build a baseline linear regression model to select importaant features"
      ]
    },
    {
      "cell_type": "code",
      "metadata": {
        "id": "DZIG3p-F3m7x"
      },
      "source": [
        "# import the package\n",
        "import statsmodels.api as sm\n"
      ],
      "execution_count": 165,
      "outputs": []
    },
    {
      "cell_type": "code",
      "metadata": {
        "colab": {
          "base_uri": "https://localhost:8080/"
        },
        "id": "caRjnVOi3tG_",
        "outputId": "5b6bb6db-05c3-4611-e7e5-62902bd804ee"
      },
      "source": [
        "## Creating array of Feature X\n",
        "X= df[ df.columns[df.columns!='Absenteeism time in hours'] ]\n",
        "\n",
        "## Creating the array of Target y\n",
        "y = df[['Absenteeism time in hours']]\n",
        "\n",
        "## shape of X\n",
        "print(X.shape)\n",
        "\n",
        "## shape of y\n",
        "print(y.shape)"
      ],
      "execution_count": 166,
      "outputs": [
        {
          "output_type": "stream",
          "text": [
            "(696, 18)\n",
            "(696, 1)\n"
          ],
          "name": "stdout"
        }
      ]
    },
    {
      "cell_type": "code",
      "metadata": {
        "id": "wYiRPHlE6npL"
      },
      "source": [
        "# add constant\n",
        "X = sm.add_constant(X)"
      ],
      "execution_count": 167,
      "outputs": []
    },
    {
      "cell_type": "code",
      "metadata": {
        "id": "AOUyoJGH6rFF"
      },
      "source": [
        "# fit the OLS Linear Regression model\n",
        "Smodel = sm.OLS(y, X).fit()"
      ],
      "execution_count": 168,
      "outputs": []
    },
    {
      "cell_type": "code",
      "metadata": {
        "colab": {
          "base_uri": "https://localhost:8080/",
          "height": 835
        },
        "id": "jCJz1elR6v48",
        "outputId": "3762c504-9ad4-4481-968f-e528feb89959"
      },
      "source": [
        "# model summary\n",
        "Smodel.summary()"
      ],
      "execution_count": 169,
      "outputs": [
        {
          "output_type": "execute_result",
          "data": {
            "text/html": [
              "<table class=\"simpletable\">\n",
              "<caption>OLS Regression Results</caption>\n",
              "<tr>\n",
              "  <th>Dep. Variable:</th>    <td>Absenteeism time in hours</td> <th>  R-squared:         </th> <td>   0.147</td>\n",
              "</tr>\n",
              "<tr>\n",
              "  <th>Model:</th>                       <td>OLS</td>            <th>  Adj. R-squared:    </th> <td>   0.125</td>\n",
              "</tr>\n",
              "<tr>\n",
              "  <th>Method:</th>                 <td>Least Squares</td>       <th>  F-statistic:       </th> <td>   6.859</td>\n",
              "</tr>\n",
              "<tr>\n",
              "  <th>Date:</th>                 <td>Fri, 19 Mar 2021</td>      <th>  Prob (F-statistic):</th> <td>2.05e-15</td>\n",
              "</tr>\n",
              "<tr>\n",
              "  <th>Time:</th>                     <td>14:53:44</td>          <th>  Log-Likelihood:    </th> <td> -2749.9</td>\n",
              "</tr>\n",
              "<tr>\n",
              "  <th>No. Observations:</th>          <td>   696</td>           <th>  AIC:               </th> <td>   5536.</td>\n",
              "</tr>\n",
              "<tr>\n",
              "  <th>Df Residuals:</th>              <td>   678</td>           <th>  BIC:               </th> <td>   5618.</td>\n",
              "</tr>\n",
              "<tr>\n",
              "  <th>Df Model:</th>                  <td>    17</td>           <th>                     </th>     <td> </td>   \n",
              "</tr>\n",
              "<tr>\n",
              "  <th>Covariance Type:</th>          <td>nonrobust</td>         <th>                     </th>     <td> </td>   \n",
              "</tr>\n",
              "</table>\n",
              "<table class=\"simpletable\">\n",
              "<tr>\n",
              "                 <td></td>                    <th>coef</th>     <th>std err</th>      <th>t</th>      <th>P>|t|</th>  <th>[0.025</th>    <th>0.975]</th>  \n",
              "</tr>\n",
              "<tr>\n",
              "  <th>const</th>                           <td>  -32.1061</td> <td>   25.771</td> <td>   -1.246</td> <td> 0.213</td> <td>  -82.706</td> <td>   18.494</td>\n",
              "</tr>\n",
              "<tr>\n",
              "  <th>Reason for absence</th>              <td>   -0.5303</td> <td>    0.072</td> <td>   -7.411</td> <td> 0.000</td> <td>   -0.671</td> <td>   -0.390</td>\n",
              "</tr>\n",
              "<tr>\n",
              "  <th>Month of absence</th>                <td>    0.0951</td> <td>    0.189</td> <td>    0.504</td> <td> 0.614</td> <td>   -0.275</td> <td>    0.466</td>\n",
              "</tr>\n",
              "<tr>\n",
              "  <th>Day of the week</th>                 <td>   -0.9176</td> <td>    0.352</td> <td>   -2.605</td> <td> 0.009</td> <td>   -1.609</td> <td>   -0.226</td>\n",
              "</tr>\n",
              "<tr>\n",
              "  <th>Seasons</th>                         <td>   -0.0565</td> <td>    0.512</td> <td>   -0.110</td> <td> 0.912</td> <td>   -1.063</td> <td>    0.950</td>\n",
              "</tr>\n",
              "<tr>\n",
              "  <th>Transportation expense</th>          <td>    0.0025</td> <td>    0.010</td> <td>    0.245</td> <td> 0.806</td> <td>   -0.017</td> <td>    0.022</td>\n",
              "</tr>\n",
              "<tr>\n",
              "  <th>Distance from Residence to Work</th> <td>   -0.0563</td> <td>    0.054</td> <td>   -1.051</td> <td> 0.294</td> <td>   -0.162</td> <td>    0.049</td>\n",
              "</tr>\n",
              "<tr>\n",
              "  <th>Service time</th>                    <td>    0.0585</td> <td>    0.203</td> <td>    0.289</td> <td> 0.773</td> <td>   -0.339</td> <td>    0.456</td>\n",
              "</tr>\n",
              "<tr>\n",
              "  <th>Age</th>                             <td>    0.1711</td> <td>    0.121</td> <td>    1.416</td> <td> 0.157</td> <td>   -0.066</td> <td>    0.408</td>\n",
              "</tr>\n",
              "<tr>\n",
              "  <th>Work load Averageperday</th>         <td>-7.995e-06</td> <td> 1.39e-05</td> <td>   -0.577</td> <td> 0.564</td> <td>-3.52e-05</td> <td> 1.92e-05</td>\n",
              "</tr>\n",
              "<tr>\n",
              "  <th>Hit target</th>                      <td>    0.1178</td> <td>    0.157</td> <td>    0.750</td> <td> 0.454</td> <td>   -0.191</td> <td>    0.426</td>\n",
              "</tr>\n",
              "<tr>\n",
              "  <th>Disciplinary failure</th>            <td>-8.058e-14</td> <td> 6.49e-14</td> <td>   -1.242</td> <td> 0.215</td> <td>-2.08e-13</td> <td> 4.68e-14</td>\n",
              "</tr>\n",
              "<tr>\n",
              "  <th>Education</th>                       <td>   -1.2850</td> <td>    0.857</td> <td>   -1.499</td> <td> 0.134</td> <td>   -2.968</td> <td>    0.398</td>\n",
              "</tr>\n",
              "<tr>\n",
              "  <th>Son</th>                             <td>    1.1599</td> <td>    0.522</td> <td>    2.222</td> <td> 0.027</td> <td>    0.135</td> <td>    2.185</td>\n",
              "</tr>\n",
              "<tr>\n",
              "  <th>Social drinker</th>                  <td>    2.1948</td> <td>    1.617</td> <td>    1.357</td> <td> 0.175</td> <td>   -0.980</td> <td>    5.370</td>\n",
              "</tr>\n",
              "<tr>\n",
              "  <th>Social smoker</th>                   <td>   -2.9565</td> <td>    2.150</td> <td>   -1.375</td> <td> 0.170</td> <td>   -7.179</td> <td>    1.266</td>\n",
              "</tr>\n",
              "<tr>\n",
              "  <th>Pet</th>                             <td>    0.0140</td> <td>    0.507</td> <td>    0.028</td> <td> 0.978</td> <td>   -0.982</td> <td>    1.010</td>\n",
              "</tr>\n",
              "<tr>\n",
              "  <th>Weight</th>                          <td>   -0.1045</td> <td>    0.056</td> <td>   -1.865</td> <td> 0.063</td> <td>   -0.214</td> <td>    0.006</td>\n",
              "</tr>\n",
              "<tr>\n",
              "  <th>Height</th>                          <td>    0.2691</td> <td>    0.115</td> <td>    2.332</td> <td> 0.020</td> <td>    0.043</td> <td>    0.496</td>\n",
              "</tr>\n",
              "</table>\n",
              "<table class=\"simpletable\">\n",
              "<tr>\n",
              "  <th>Omnibus:</th>       <td>739.868</td> <th>  Durbin-Watson:     </th> <td>   1.987</td> \n",
              "</tr>\n",
              "<tr>\n",
              "  <th>Prob(Omnibus):</th> <td> 0.000</td>  <th>  Jarque-Bera (JB):  </th> <td>34848.833</td>\n",
              "</tr>\n",
              "<tr>\n",
              "  <th>Skew:</th>          <td> 5.080</td>  <th>  Prob(JB):          </th> <td>    0.00</td> \n",
              "</tr>\n",
              "<tr>\n",
              "  <th>Kurtosis:</th>      <td>36.143</td>  <th>  Cond. No.          </th> <td>2.30e+22</td> \n",
              "</tr>\n",
              "</table><br/><br/>Warnings:<br/>[1] Standard Errors assume that the covariance matrix of the errors is correctly specified.<br/>[2] The smallest eigenvalue is 9.9e-32. This might indicate that there are<br/>strong multicollinearity problems or that the design matrix is singular."
            ],
            "text/plain": [
              "<class 'statsmodels.iolib.summary.Summary'>\n",
              "\"\"\"\n",
              "                                OLS Regression Results                               \n",
              "=====================================================================================\n",
              "Dep. Variable:     Absenteeism time in hours   R-squared:                       0.147\n",
              "Model:                                   OLS   Adj. R-squared:                  0.125\n",
              "Method:                        Least Squares   F-statistic:                     6.859\n",
              "Date:                       Fri, 19 Mar 2021   Prob (F-statistic):           2.05e-15\n",
              "Time:                               14:53:44   Log-Likelihood:                -2749.9\n",
              "No. Observations:                        696   AIC:                             5536.\n",
              "Df Residuals:                            678   BIC:                             5618.\n",
              "Df Model:                                 17                                         \n",
              "Covariance Type:                   nonrobust                                         \n",
              "===================================================================================================\n",
              "                                      coef    std err          t      P>|t|      [0.025      0.975]\n",
              "---------------------------------------------------------------------------------------------------\n",
              "const                             -32.1061     25.771     -1.246      0.213     -82.706      18.494\n",
              "Reason for absence                 -0.5303      0.072     -7.411      0.000      -0.671      -0.390\n",
              "Month of absence                    0.0951      0.189      0.504      0.614      -0.275       0.466\n",
              "Day of the week                    -0.9176      0.352     -2.605      0.009      -1.609      -0.226\n",
              "Seasons                            -0.0565      0.512     -0.110      0.912      -1.063       0.950\n",
              "Transportation expense              0.0025      0.010      0.245      0.806      -0.017       0.022\n",
              "Distance from Residence to Work    -0.0563      0.054     -1.051      0.294      -0.162       0.049\n",
              "Service time                        0.0585      0.203      0.289      0.773      -0.339       0.456\n",
              "Age                                 0.1711      0.121      1.416      0.157      -0.066       0.408\n",
              "Work load Averageperday         -7.995e-06   1.39e-05     -0.577      0.564   -3.52e-05    1.92e-05\n",
              "Hit target                          0.1178      0.157      0.750      0.454      -0.191       0.426\n",
              "Disciplinary failure            -8.058e-14   6.49e-14     -1.242      0.215   -2.08e-13    4.68e-14\n",
              "Education                          -1.2850      0.857     -1.499      0.134      -2.968       0.398\n",
              "Son                                 1.1599      0.522      2.222      0.027       0.135       2.185\n",
              "Social drinker                      2.1948      1.617      1.357      0.175      -0.980       5.370\n",
              "Social smoker                      -2.9565      2.150     -1.375      0.170      -7.179       1.266\n",
              "Pet                                 0.0140      0.507      0.028      0.978      -0.982       1.010\n",
              "Weight                             -0.1045      0.056     -1.865      0.063      -0.214       0.006\n",
              "Height                              0.2691      0.115      2.332      0.020       0.043       0.496\n",
              "==============================================================================\n",
              "Omnibus:                      739.868   Durbin-Watson:                   1.987\n",
              "Prob(Omnibus):                  0.000   Jarque-Bera (JB):            34848.833\n",
              "Skew:                           5.080   Prob(JB):                         0.00\n",
              "Kurtosis:                      36.143   Cond. No.                     2.30e+22\n",
              "==============================================================================\n",
              "\n",
              "Warnings:\n",
              "[1] Standard Errors assume that the covariance matrix of the errors is correctly specified.\n",
              "[2] The smallest eigenvalue is 9.9e-32. This might indicate that there are\n",
              "strong multicollinearity problems or that the design matrix is singular.\n",
              "\"\"\""
            ]
          },
          "metadata": {
            "tags": []
          },
          "execution_count": 169
        }
      ]
    },
    {
      "cell_type": "markdown",
      "metadata": {
        "id": "ot0cthe5_de6"
      },
      "source": [
        "Inference :  \n",
        "1. The modeled Features can explain only 15% of the variation in the target. \n",
        "2. Reviewing the p-value (P>|t|) of regression coefficients corresponding to the purely numeric features Transportation Expense , Distance from Work , Service Time , Age , Work Load Average Per Day , Hit Target and Weight  we infer that these features are not statistically significant at level α=0.05. In other words, the regression coefficients corresponding to these features are not significantly different from 0 in the population. Hence these features may be eliminated from the multiple regression model. We will still retain the \"purely categorial variables\"."
      ]
    },
    {
      "cell_type": "markdown",
      "metadata": {
        "id": "HWqmGXs8DJJQ"
      },
      "source": [
        "## Regression with Sci-Kit Learn"
      ]
    },
    {
      "cell_type": "code",
      "metadata": {
        "colab": {
          "base_uri": "https://localhost:8080/"
        },
        "id": "8CIH9NEnGht3",
        "outputId": "7a6a3c34-f00d-4bd2-d604-eb4dc51bd7e0"
      },
      "source": [
        "print(X.shape)\n",
        "print(y.shape)"
      ],
      "execution_count": 175,
      "outputs": [
        {
          "output_type": "stream",
          "text": [
            "(696, 19)\n",
            "(696, 1)\n"
          ],
          "name": "stdout"
        }
      ]
    },
    {
      "cell_type": "markdown",
      "metadata": {
        "id": "WaYsq0XjGNPU"
      },
      "source": [
        "## Feature Scaling"
      ]
    },
    {
      "cell_type": "code",
      "metadata": {
        "colab": {
          "base_uri": "https://localhost:8080/",
          "height": 221
        },
        "id": "SHiNXYk-GPPx",
        "outputId": "f719c74c-759b-4c38-a8e6-b38b898d3b02"
      },
      "source": [
        "from sklearn.preprocessing import MinMaxScaler\n",
        "scaler= MinMaxScaler()\n",
        "transformed_X = scaler.fit_transform(X)\n",
        "transformed_X\n",
        "\n",
        "scld_feats_df = pd.DataFrame(transformed_X,columns=X.columns)\n",
        "scld_feats_df.head()\n",
        "#scld_votes_df.describe()"
      ],
      "execution_count": 177,
      "outputs": [
        {
          "output_type": "execute_result",
          "data": {
            "text/html": [
              "<div>\n",
              "<style scoped>\n",
              "    .dataframe tbody tr th:only-of-type {\n",
              "        vertical-align: middle;\n",
              "    }\n",
              "\n",
              "    .dataframe tbody tr th {\n",
              "        vertical-align: top;\n",
              "    }\n",
              "\n",
              "    .dataframe thead th {\n",
              "        text-align: right;\n",
              "    }\n",
              "</style>\n",
              "<table border=\"1\" class=\"dataframe\">\n",
              "  <thead>\n",
              "    <tr style=\"text-align: right;\">\n",
              "      <th></th>\n",
              "      <th>const</th>\n",
              "      <th>Reason for absence</th>\n",
              "      <th>Month of absence</th>\n",
              "      <th>Day of the week</th>\n",
              "      <th>Seasons</th>\n",
              "      <th>Transportation expense</th>\n",
              "      <th>Distance from Residence to Work</th>\n",
              "      <th>Service time</th>\n",
              "      <th>Age</th>\n",
              "      <th>Work load Averageperday</th>\n",
              "      <th>Hit target</th>\n",
              "      <th>Disciplinary failure</th>\n",
              "      <th>Education</th>\n",
              "      <th>Son</th>\n",
              "      <th>Social drinker</th>\n",
              "      <th>Social smoker</th>\n",
              "      <th>Pet</th>\n",
              "      <th>Weight</th>\n",
              "      <th>Height</th>\n",
              "    </tr>\n",
              "  </thead>\n",
              "  <tbody>\n",
              "    <tr>\n",
              "      <th>0</th>\n",
              "      <td>0.0</td>\n",
              "      <td>0.925926</td>\n",
              "      <td>0.545455</td>\n",
              "      <td>0.25</td>\n",
              "      <td>0.0</td>\n",
              "      <td>0.633333</td>\n",
              "      <td>0.659574</td>\n",
              "      <td>0.428571</td>\n",
              "      <td>0.193548</td>\n",
              "      <td>0.194471</td>\n",
              "      <td>0.842105</td>\n",
              "      <td>0.0</td>\n",
              "      <td>0.0</td>\n",
              "      <td>0.5</td>\n",
              "      <td>1.0</td>\n",
              "      <td>0.0</td>\n",
              "      <td>0.125</td>\n",
              "      <td>0.653846</td>\n",
              "      <td>0.272727</td>\n",
              "    </tr>\n",
              "    <tr>\n",
              "      <th>1</th>\n",
              "      <td>0.0</td>\n",
              "      <td>0.814815</td>\n",
              "      <td>0.545455</td>\n",
              "      <td>0.50</td>\n",
              "      <td>0.0</td>\n",
              "      <td>0.225926</td>\n",
              "      <td>0.978723</td>\n",
              "      <td>0.607143</td>\n",
              "      <td>0.354839</td>\n",
              "      <td>0.194471</td>\n",
              "      <td>0.842105</td>\n",
              "      <td>0.0</td>\n",
              "      <td>0.0</td>\n",
              "      <td>0.0</td>\n",
              "      <td>1.0</td>\n",
              "      <td>0.0</td>\n",
              "      <td>0.000</td>\n",
              "      <td>0.634615</td>\n",
              "      <td>0.212121</td>\n",
              "    </tr>\n",
              "    <tr>\n",
              "      <th>2</th>\n",
              "      <td>0.0</td>\n",
              "      <td>0.222222</td>\n",
              "      <td>0.545455</td>\n",
              "      <td>0.75</td>\n",
              "      <td>0.0</td>\n",
              "      <td>0.596296</td>\n",
              "      <td>0.000000</td>\n",
              "      <td>0.464286</td>\n",
              "      <td>0.387097</td>\n",
              "      <td>0.194471</td>\n",
              "      <td>0.842105</td>\n",
              "      <td>0.0</td>\n",
              "      <td>0.0</td>\n",
              "      <td>0.5</td>\n",
              "      <td>1.0</td>\n",
              "      <td>1.0</td>\n",
              "      <td>0.000</td>\n",
              "      <td>0.230769</td>\n",
              "      <td>0.151515</td>\n",
              "    </tr>\n",
              "    <tr>\n",
              "      <th>3</th>\n",
              "      <td>0.0</td>\n",
              "      <td>0.814815</td>\n",
              "      <td>0.545455</td>\n",
              "      <td>0.75</td>\n",
              "      <td>0.0</td>\n",
              "      <td>0.633333</td>\n",
              "      <td>0.659574</td>\n",
              "      <td>0.428571</td>\n",
              "      <td>0.193548</td>\n",
              "      <td>0.194471</td>\n",
              "      <td>0.842105</td>\n",
              "      <td>0.0</td>\n",
              "      <td>0.0</td>\n",
              "      <td>0.5</td>\n",
              "      <td>1.0</td>\n",
              "      <td>0.0</td>\n",
              "      <td>0.125</td>\n",
              "      <td>0.653846</td>\n",
              "      <td>0.272727</td>\n",
              "    </tr>\n",
              "    <tr>\n",
              "      <th>4</th>\n",
              "      <td>0.0</td>\n",
              "      <td>0.814815</td>\n",
              "      <td>0.545455</td>\n",
              "      <td>1.00</td>\n",
              "      <td>0.0</td>\n",
              "      <td>0.225926</td>\n",
              "      <td>0.978723</td>\n",
              "      <td>0.607143</td>\n",
              "      <td>0.354839</td>\n",
              "      <td>0.194471</td>\n",
              "      <td>0.842105</td>\n",
              "      <td>0.0</td>\n",
              "      <td>0.0</td>\n",
              "      <td>0.0</td>\n",
              "      <td>1.0</td>\n",
              "      <td>0.0</td>\n",
              "      <td>0.000</td>\n",
              "      <td>0.634615</td>\n",
              "      <td>0.212121</td>\n",
              "    </tr>\n",
              "  </tbody>\n",
              "</table>\n",
              "</div>"
            ],
            "text/plain": [
              "   const  Reason for absence  Month of absence  ...    Pet    Weight    Height\n",
              "0    0.0            0.925926          0.545455  ...  0.125  0.653846  0.272727\n",
              "1    0.0            0.814815          0.545455  ...  0.000  0.634615  0.212121\n",
              "2    0.0            0.222222          0.545455  ...  0.000  0.230769  0.151515\n",
              "3    0.0            0.814815          0.545455  ...  0.125  0.653846  0.272727\n",
              "4    0.0            0.814815          0.545455  ...  0.000  0.634615  0.212121\n",
              "\n",
              "[5 rows x 19 columns]"
            ]
          },
          "metadata": {
            "tags": []
          },
          "execution_count": 177
        }
      ]
    },
    {
      "cell_type": "markdown",
      "metadata": {
        "id": "J1cdp6jQHd7P"
      },
      "source": [
        "## Create Feature and Target Arrays"
      ]
    },
    {
      "cell_type": "code",
      "metadata": {
        "colab": {
          "base_uri": "https://localhost:8080/"
        },
        "id": "TDG1Gxo9Hgd6",
        "outputId": "47d4c8f3-f7b4-43cc-a32b-8c04b7387f91"
      },
      "source": [
        "## Creating array of Feature X\n",
        "X= scld_feats_df\n",
        "\n",
        "## Creating the array of Target y\n",
        "y = df[['Absenteeism time in hours']]\n",
        "\n",
        "## shape of X\n",
        "print(X.shape)\n",
        "print(type(X))\n",
        "\n",
        "## shape of y\n",
        "print(y.shape)\n",
        "print(type(y))"
      ],
      "execution_count": 180,
      "outputs": [
        {
          "output_type": "stream",
          "text": [
            "(696, 19)\n",
            "<class 'pandas.core.frame.DataFrame'>\n",
            "(696, 1)\n",
            "<class 'pandas.core.frame.DataFrame'>\n"
          ],
          "name": "stdout"
        }
      ]
    },
    {
      "cell_type": "markdown",
      "metadata": {
        "id": "dzcDXaF6ECOi"
      },
      "source": [
        "#### Train test Split"
      ]
    },
    {
      "cell_type": "code",
      "metadata": {
        "colab": {
          "base_uri": "https://localhost:8080/"
        },
        "id": "X6i9I4j8D59f",
        "outputId": "fb846b94-7f6e-40d3-8370-d875283509c5"
      },
      "source": [
        "from sklearn.model_selection import train_test_split\n",
        "#Create train and test data with 80% and 20% split\n",
        "train_x,test_x,train_y,test_y=train_test_split(X,y,test_size=0.20,random_state=0)\n",
        "print(train_x.shape)\n",
        "print(test_x.shape)\n",
        "print(train_y.shape)\n",
        "print(test_y.shape)"
      ],
      "execution_count": 181,
      "outputs": [
        {
          "output_type": "stream",
          "text": [
            "(556, 19)\n",
            "(140, 19)\n",
            "(556, 1)\n",
            "(140, 1)\n"
          ],
          "name": "stdout"
        }
      ]
    },
    {
      "cell_type": "markdown",
      "metadata": {
        "id": "s8i-lmw8FrRf"
      },
      "source": [
        "### Fitting a Linear Regression Model"
      ]
    },
    {
      "cell_type": "code",
      "metadata": {
        "colab": {
          "base_uri": "https://localhost:8080/"
        },
        "id": "bmnixXZGFvVx",
        "outputId": "a35b4338-5439-4707-c059-1e34a14c6742"
      },
      "source": [
        "#Create instance of model \n",
        "from sklearn.linear_model import LinearRegression\n",
        "lm=LinearRegression()\n",
        "\n",
        "print(lm)\n"
      ],
      "execution_count": 182,
      "outputs": [
        {
          "output_type": "stream",
          "text": [
            "LinearRegression(copy_X=True, fit_intercept=True, n_jobs=None, normalize=False)\n"
          ],
          "name": "stdout"
        }
      ]
    },
    {
      "cell_type": "code",
      "metadata": {
        "colab": {
          "base_uri": "https://localhost:8080/"
        },
        "id": "NTDXKs8lIHyb",
        "outputId": "69c3027a-d71f-407b-cca8-2960f9c20422"
      },
      "source": [
        "# Fit the model\n",
        "lm.fit(train_x,train_y)"
      ],
      "execution_count": 183,
      "outputs": [
        {
          "output_type": "execute_result",
          "data": {
            "text/plain": [
              "LinearRegression(copy_X=True, fit_intercept=True, n_jobs=None, normalize=False)"
            ]
          },
          "metadata": {
            "tags": []
          },
          "execution_count": 183
        }
      ]
    },
    {
      "cell_type": "code",
      "metadata": {
        "id": "P4vtFS8qINQu"
      },
      "source": [
        "# Predict on Test Data\n",
        "predict_test=lm.predict(test_x)"
      ],
      "execution_count": 184,
      "outputs": []
    },
    {
      "cell_type": "code",
      "metadata": {
        "colab": {
          "base_uri": "https://localhost:8080/"
        },
        "id": "uHz5J-6WIWns",
        "outputId": "c8d0fe8b-f47f-4a4a-dfbd-eafa0193d877"
      },
      "source": [
        "#Evaluate the model performance by passing Actual values of test data and predicted values of test data \n",
        "from sklearn.metrics import mean_absolute_error\n",
        "print(\"Mean Absolute Error(MAE) for test data is\")\n",
        "np.round(mean_absolute_error(test_y,predict_test),2)"
      ],
      "execution_count": 185,
      "outputs": [
        {
          "output_type": "stream",
          "text": [
            "Mean Absolute Error(MAE) for test data is\n"
          ],
          "name": "stdout"
        },
        {
          "output_type": "execute_result",
          "data": {
            "text/plain": [
              "6.06"
            ]
          },
          "metadata": {
            "tags": []
          },
          "execution_count": 185
        }
      ]
    },
    {
      "cell_type": "markdown",
      "metadata": {
        "id": "F38t2vhCIbUf"
      },
      "source": [
        "## Fitting a Decision Tree Regression Model"
      ]
    },
    {
      "cell_type": "code",
      "metadata": {
        "colab": {
          "base_uri": "https://localhost:8080/"
        },
        "id": "sXE4AR64Ie4B",
        "outputId": "33f3543d-2626-4384-a024-97a004b63598"
      },
      "source": [
        "# Create an Instance of the model\n",
        "from sklearn.tree import DecisionTreeRegressor\n",
        "dtree = DecisionTreeRegressor(random_state = 0 , max_depth = 5) \n",
        "print(dtree)"
      ],
      "execution_count": 192,
      "outputs": [
        {
          "output_type": "stream",
          "text": [
            "DecisionTreeRegressor(ccp_alpha=0.0, criterion='mse', max_depth=5,\n",
            "                      max_features=None, max_leaf_nodes=None,\n",
            "                      min_impurity_decrease=0.0, min_impurity_split=None,\n",
            "                      min_samples_leaf=1, min_samples_split=2,\n",
            "                      min_weight_fraction_leaf=0.0, presort='deprecated',\n",
            "                      random_state=0, splitter='best')\n"
          ],
          "name": "stdout"
        }
      ]
    },
    {
      "cell_type": "code",
      "metadata": {
        "colab": {
          "base_uri": "https://localhost:8080/"
        },
        "id": "0YcVJVQSJdzv",
        "outputId": "89552918-5f3f-486b-b472-db2967e4f83c"
      },
      "source": [
        "# Fit the model\n",
        "dtree.fit(train_x,train_y)"
      ],
      "execution_count": 193,
      "outputs": [
        {
          "output_type": "execute_result",
          "data": {
            "text/plain": [
              "DecisionTreeRegressor(ccp_alpha=0.0, criterion='mse', max_depth=5,\n",
              "                      max_features=None, max_leaf_nodes=None,\n",
              "                      min_impurity_decrease=0.0, min_impurity_split=None,\n",
              "                      min_samples_leaf=1, min_samples_split=2,\n",
              "                      min_weight_fraction_leaf=0.0, presort='deprecated',\n",
              "                      random_state=0, splitter='best')"
            ]
          },
          "metadata": {
            "tags": []
          },
          "execution_count": 193
        }
      ]
    },
    {
      "cell_type": "code",
      "metadata": {
        "id": "WFmyzdjnJle5"
      },
      "source": [
        "# Predict on Test Data\n",
        "predict_test_tree=dtree.predict(test_x)"
      ],
      "execution_count": 194,
      "outputs": []
    },
    {
      "cell_type": "code",
      "metadata": {
        "colab": {
          "base_uri": "https://localhost:8080/"
        },
        "id": "3u5VNB6RJsrv",
        "outputId": "d3935183-4f9a-453d-feba-1e4603e9c3a7"
      },
      "source": [
        "#Evaluate the model performance by passing Actual values of test data and predicted values of test data \n",
        "print(\"Mean Absolute Error(MAE) for test data is\")\n",
        "np.round(mean_absolute_error(test_y,predict_test_tree),2)"
      ],
      "execution_count": 195,
      "outputs": [
        {
          "output_type": "stream",
          "text": [
            "Mean Absolute Error(MAE) for test data is\n"
          ],
          "name": "stdout"
        },
        {
          "output_type": "execute_result",
          "data": {
            "text/plain": [
              "5.5"
            ]
          },
          "metadata": {
            "tags": []
          },
          "execution_count": 195
        }
      ]
    },
    {
      "cell_type": "code",
      "metadata": {
        "id": "sk7CtURRJ3Ht"
      },
      "source": [
        "from sklearn import tree\n",
        "# convert to visualization data for graphviz\n",
        "dot_data = tree.export_graphviz(dtree , out_file = None , \n",
        "                                feature_names = X.columns , \n",
        "                                filled = True,\n",
        "                                rounded = True , \n",
        "                                special_characters = True)"
      ],
      "execution_count": 199,
      "outputs": []
    },
    {
      "cell_type": "code",
      "metadata": {
        "colab": {
          "base_uri": "https://localhost:8080/"
        },
        "id": "atCzuKAwK3zm",
        "outputId": "8028af15-c2e9-4098-a75f-12ce2f7e32a3"
      },
      "source": [
        "!pip install graphviz"
      ],
      "execution_count": 201,
      "outputs": [
        {
          "output_type": "stream",
          "text": [
            "Requirement already satisfied: graphviz in /usr/local/lib/python3.7/dist-packages (0.10.1)\n"
          ],
          "name": "stdout"
        }
      ]
    },
    {
      "cell_type": "code",
      "metadata": {
        "colab": {
          "base_uri": "https://localhost:8080/",
          "height": 816
        },
        "id": "zsDwjh4VKv-K",
        "outputId": "46a34cae-b17a-45b3-8eb1-773307f4c49a"
      },
      "source": [
        "# visualize the tree\n",
        "import graphviz\n",
        "graph = graphviz.Source(dot_data)\n",
        "graph"
      ],
      "execution_count": 203,
      "outputs": [
        {
          "output_type": "execute_result",
          "data": {
            "text/plain": [
              "<graphviz.files.Source at 0x7f2beefd9b50>"
            ],
            "image/svg+xml": "<?xml version=\"1.0\" encoding=\"UTF-8\" standalone=\"no\"?>\n<!DOCTYPE svg PUBLIC \"-//W3C//DTD SVG 1.1//EN\"\n \"http://www.w3.org/Graphics/SVG/1.1/DTD/svg11.dtd\">\n<!-- Generated by graphviz version 2.40.1 (20161225.0304)\n -->\n<!-- Title: Tree Pages: 1 -->\n<svg width=\"3129pt\" height=\"581pt\"\n viewBox=\"0.00 0.00 3128.50 581.00\" xmlns=\"http://www.w3.org/2000/svg\" xmlns:xlink=\"http://www.w3.org/1999/xlink\">\n<g id=\"graph0\" class=\"graph\" transform=\"scale(1 1) rotate(0) translate(4 577)\">\n<title>Tree</title>\n<polygon fill=\"#ffffff\" stroke=\"transparent\" points=\"-4,4 -4,-577 3124.5,-577 3124.5,4 -4,4\"/>\n<!-- 0 -->\n<g id=\"node1\" class=\"node\">\n<title>0</title>\n<path fill=\"#fef8f4\" stroke=\"#000000\" d=\"M1818.5,-573C1818.5,-573 1642.5,-573 1642.5,-573 1636.5,-573 1630.5,-567 1630.5,-561 1630.5,-561 1630.5,-517 1630.5,-517 1630.5,-511 1636.5,-505 1642.5,-505 1642.5,-505 1818.5,-505 1818.5,-505 1824.5,-505 1830.5,-511 1830.5,-517 1830.5,-517 1830.5,-561 1830.5,-561 1830.5,-567 1824.5,-573 1818.5,-573\"/>\n<text text-anchor=\"start\" x=\"1638.5\" y=\"-557.8\" font-family=\"Helvetica,sans-Serif\" font-size=\"14.00\" fill=\"#000000\">Reason for absence ≤ 0.704</text>\n<text text-anchor=\"start\" x=\"1682\" y=\"-542.8\" font-family=\"Helvetica,sans-Serif\" font-size=\"14.00\" fill=\"#000000\">mse = 206.287</text>\n<text text-anchor=\"start\" x=\"1682.5\" y=\"-527.8\" font-family=\"Helvetica,sans-Serif\" font-size=\"14.00\" fill=\"#000000\">samples = 556</text>\n<text text-anchor=\"start\" x=\"1686.5\" y=\"-512.8\" font-family=\"Helvetica,sans-Serif\" font-size=\"14.00\" fill=\"#000000\">value = 7.656</text>\n</g>\n<!-- 1 -->\n<g id=\"node2\" class=\"node\">\n<title>1</title>\n<path fill=\"#fcf1e9\" stroke=\"#000000\" d=\"M1347,-469C1347,-469 1258,-469 1258,-469 1252,-469 1246,-463 1246,-457 1246,-457 1246,-413 1246,-413 1246,-407 1252,-401 1258,-401 1258,-401 1347,-401 1347,-401 1353,-401 1359,-407 1359,-413 1359,-413 1359,-457 1359,-457 1359,-463 1353,-469 1347,-469\"/>\n<text text-anchor=\"start\" x=\"1263\" y=\"-453.8\" font-family=\"Helvetica,sans-Serif\" font-size=\"14.00\" fill=\"#000000\">Age ≤ 0.871</text>\n<text text-anchor=\"start\" x=\"1254\" y=\"-438.8\" font-family=\"Helvetica,sans-Serif\" font-size=\"14.00\" fill=\"#000000\">mse = 461.989</text>\n<text text-anchor=\"start\" x=\"1254.5\" y=\"-423.8\" font-family=\"Helvetica,sans-Serif\" font-size=\"14.00\" fill=\"#000000\">samples = 212</text>\n<text text-anchor=\"start\" x=\"1258.5\" y=\"-408.8\" font-family=\"Helvetica,sans-Serif\" font-size=\"14.00\" fill=\"#000000\">value = 14.08</text>\n</g>\n<!-- 0&#45;&gt;1 -->\n<g id=\"edge1\" class=\"edge\">\n<title>0&#45;&gt;1</title>\n<path fill=\"none\" stroke=\"#000000\" d=\"M1630.4232,-514.6823C1549.894,-495.1144 1438.9857,-468.1648 1369.0217,-451.1642\"/>\n<polygon fill=\"#000000\" stroke=\"#000000\" points=\"1369.5484,-447.6904 1359.0047,-448.7301 1367.8955,-454.4924 1369.5484,-447.6904\"/>\n<text text-anchor=\"middle\" x=\"1372.0085\" y=\"-466.382\" font-family=\"Helvetica,sans-Serif\" font-size=\"14.00\" fill=\"#000000\">True</text>\n</g>\n<!-- 26 -->\n<g id=\"node27\" class=\"node\">\n<title>26</title>\n<path fill=\"#fefcfb\" stroke=\"#000000\" d=\"M1958.5,-469C1958.5,-469 1782.5,-469 1782.5,-469 1776.5,-469 1770.5,-463 1770.5,-457 1770.5,-457 1770.5,-413 1770.5,-413 1770.5,-407 1776.5,-401 1782.5,-401 1782.5,-401 1958.5,-401 1958.5,-401 1964.5,-401 1970.5,-407 1970.5,-413 1970.5,-413 1970.5,-457 1970.5,-457 1970.5,-463 1964.5,-469 1958.5,-469\"/>\n<text text-anchor=\"start\" x=\"1778.5\" y=\"-453.8\" font-family=\"Helvetica,sans-Serif\" font-size=\"14.00\" fill=\"#000000\">Reason for absence ≤ 0.796</text>\n<text text-anchor=\"start\" x=\"1838.5\" y=\"-438.8\" font-family=\"Helvetica,sans-Serif\" font-size=\"14.00\" fill=\"#000000\">mse = 7.6</text>\n<text text-anchor=\"start\" x=\"1822.5\" y=\"-423.8\" font-family=\"Helvetica,sans-Serif\" font-size=\"14.00\" fill=\"#000000\">samples = 344</text>\n<text text-anchor=\"start\" x=\"1826.5\" y=\"-408.8\" font-family=\"Helvetica,sans-Serif\" font-size=\"14.00\" fill=\"#000000\">value = 3.698</text>\n</g>\n<!-- 0&#45;&gt;26 -->\n<g id=\"edge26\" class=\"edge\">\n<title>0&#45;&gt;26</title>\n<path fill=\"none\" stroke=\"#000000\" d=\"M1776.3412,-504.9465C1789.1529,-495.4293 1803.1952,-484.9978 1816.4344,-475.163\"/>\n<polygon fill=\"#000000\" stroke=\"#000000\" points=\"1818.6155,-477.9029 1824.5558,-469.13 1814.4412,-472.2837 1818.6155,-477.9029\"/>\n<text text-anchor=\"middle\" x=\"1820.9068\" y=\"-490.1623\" font-family=\"Helvetica,sans-Serif\" font-size=\"14.00\" fill=\"#000000\">False</text>\n</g>\n<!-- 2 -->\n<g id=\"node3\" class=\"node\">\n<title>2</title>\n<path fill=\"#fcf2eb\" stroke=\"#000000\" d=\"M761,-365C761,-365 672,-365 672,-365 666,-365 660,-359 660,-353 660,-353 660,-309 660,-309 660,-303 666,-297 672,-297 672,-297 761,-297 761,-297 767,-297 773,-303 773,-309 773,-309 773,-353 773,-353 773,-359 767,-365 761,-365\"/>\n<text text-anchor=\"start\" x=\"668\" y=\"-349.8\" font-family=\"Helvetica,sans-Serif\" font-size=\"14.00\" fill=\"#000000\">Weight ≤ 0.644</text>\n<text text-anchor=\"start\" x=\"668\" y=\"-334.8\" font-family=\"Helvetica,sans-Serif\" font-size=\"14.00\" fill=\"#000000\">mse = 370.702</text>\n<text text-anchor=\"start\" x=\"668.5\" y=\"-319.8\" font-family=\"Helvetica,sans-Serif\" font-size=\"14.00\" fill=\"#000000\">samples = 207</text>\n<text text-anchor=\"start\" x=\"668\" y=\"-304.8\" font-family=\"Helvetica,sans-Serif\" font-size=\"14.00\" fill=\"#000000\">value = 13.217</text>\n</g>\n<!-- 1&#45;&gt;2 -->\n<g id=\"edge2\" class=\"edge\">\n<title>1&#45;&gt;2</title>\n<path fill=\"none\" stroke=\"#000000\" d=\"M1245.7794,-424.9335C1137.0402,-405.6351 899.7394,-363.5203 783.4441,-342.8809\"/>\n<polygon fill=\"#000000\" stroke=\"#000000\" points=\"783.7096,-339.3734 773.2519,-341.072 782.4864,-346.2657 783.7096,-339.3734\"/>\n</g>\n<!-- 17 -->\n<g id=\"node18\" class=\"node\">\n<title>17</title>\n<path fill=\"#f4cbae\" stroke=\"#000000\" d=\"M1377,-365C1377,-365 1228,-365 1228,-365 1222,-365 1216,-359 1216,-353 1216,-353 1216,-309 1216,-309 1216,-303 1222,-297 1228,-297 1228,-297 1377,-297 1377,-297 1383,-297 1389,-303 1389,-309 1389,-309 1389,-353 1389,-353 1389,-359 1383,-365 1377,-365\"/>\n<text text-anchor=\"start\" x=\"1224\" y=\"-349.8\" font-family=\"Helvetica,sans-Serif\" font-size=\"14.00\" fill=\"#000000\">Day of the week ≤ 0.375</text>\n<text text-anchor=\"start\" x=\"1254\" y=\"-334.8\" font-family=\"Helvetica,sans-Serif\" font-size=\"14.00\" fill=\"#000000\">mse = 2934.56</text>\n<text text-anchor=\"start\" x=\"1263\" y=\"-319.8\" font-family=\"Helvetica,sans-Serif\" font-size=\"14.00\" fill=\"#000000\">samples = 5</text>\n<text text-anchor=\"start\" x=\"1262.5\" y=\"-304.8\" font-family=\"Helvetica,sans-Serif\" font-size=\"14.00\" fill=\"#000000\">value = 49.8</text>\n</g>\n<!-- 1&#45;&gt;17 -->\n<g id=\"edge17\" class=\"edge\">\n<title>1&#45;&gt;17</title>\n<path fill=\"none\" stroke=\"#000000\" d=\"M1302.5,-400.9465C1302.5,-392.776 1302.5,-383.9318 1302.5,-375.3697\"/>\n<polygon fill=\"#000000\" stroke=\"#000000\" points=\"1306.0001,-375.13 1302.5,-365.13 1299.0001,-375.13 1306.0001,-375.13\"/>\n</g>\n<!-- 3 -->\n<g id=\"node4\" class=\"node\">\n<title>3</title>\n<path fill=\"#fdf4ee\" stroke=\"#000000\" d=\"M523,-261C523,-261 326,-261 326,-261 320,-261 314,-255 314,-249 314,-249 314,-205 314,-205 314,-199 320,-193 326,-193 326,-193 523,-193 523,-193 529,-193 535,-199 535,-205 535,-205 535,-249 535,-249 535,-255 529,-261 523,-261\"/>\n<text text-anchor=\"start\" x=\"322\" y=\"-245.8\" font-family=\"Helvetica,sans-Serif\" font-size=\"14.00\" fill=\"#000000\">Transportation expense ≤ 0.504</text>\n<text text-anchor=\"start\" x=\"376\" y=\"-230.8\" font-family=\"Helvetica,sans-Serif\" font-size=\"14.00\" fill=\"#000000\">mse = 217.852</text>\n<text text-anchor=\"start\" x=\"376.5\" y=\"-215.8\" font-family=\"Helvetica,sans-Serif\" font-size=\"14.00\" fill=\"#000000\">samples = 164</text>\n<text text-anchor=\"start\" x=\"376\" y=\"-200.8\" font-family=\"Helvetica,sans-Serif\" font-size=\"14.00\" fill=\"#000000\">value = 10.963</text>\n</g>\n<!-- 2&#45;&gt;3 -->\n<g id=\"edge3\" class=\"edge\">\n<title>2&#45;&gt;3</title>\n<path fill=\"none\" stroke=\"#000000\" d=\"M659.8532,-310.8244C622.9247,-297.6718 573.6041,-280.1056 529.6539,-264.4521\"/>\n<polygon fill=\"#000000\" stroke=\"#000000\" points=\"530.6677,-261.0978 520.073,-261.0397 528.319,-267.6921 530.6677,-261.0978\"/>\n</g>\n<!-- 10 -->\n<g id=\"node11\" class=\"node\">\n<title>10</title>\n<path fill=\"#fae9dc\" stroke=\"#000000\" d=\"M791,-261C791,-261 642,-261 642,-261 636,-261 630,-255 630,-249 630,-249 630,-205 630,-205 630,-199 636,-193 642,-193 642,-193 791,-193 791,-193 797,-193 803,-199 803,-205 803,-205 803,-249 803,-249 803,-255 797,-261 791,-261\"/>\n<text text-anchor=\"start\" x=\"638\" y=\"-245.8\" font-family=\"Helvetica,sans-Serif\" font-size=\"14.00\" fill=\"#000000\">Day of the week ≤ 0.125</text>\n<text text-anchor=\"start\" x=\"668\" y=\"-230.8\" font-family=\"Helvetica,sans-Serif\" font-size=\"14.00\" fill=\"#000000\">mse = 860.384</text>\n<text text-anchor=\"start\" x=\"672.5\" y=\"-215.8\" font-family=\"Helvetica,sans-Serif\" font-size=\"14.00\" fill=\"#000000\">samples = 43</text>\n<text text-anchor=\"start\" x=\"668\" y=\"-200.8\" font-family=\"Helvetica,sans-Serif\" font-size=\"14.00\" fill=\"#000000\">value = 21.814</text>\n</g>\n<!-- 2&#45;&gt;10 -->\n<g id=\"edge10\" class=\"edge\">\n<title>2&#45;&gt;10</title>\n<path fill=\"none\" stroke=\"#000000\" d=\"M716.5,-296.9465C716.5,-288.776 716.5,-279.9318 716.5,-271.3697\"/>\n<polygon fill=\"#000000\" stroke=\"#000000\" points=\"720.0001,-271.13 716.5,-261.13 713.0001,-271.13 720.0001,-271.13\"/>\n</g>\n<!-- 4 -->\n<g id=\"node5\" class=\"node\">\n<title>4</title>\n<path fill=\"#fdf6f2\" stroke=\"#000000\" d=\"M268,-157C268,-157 107,-157 107,-157 101,-157 95,-151 95,-145 95,-145 95,-101 95,-101 95,-95 101,-89 107,-89 107,-89 268,-89 268,-89 274,-89 280,-95 280,-101 280,-101 280,-145 280,-145 280,-151 274,-157 268,-157\"/>\n<text text-anchor=\"start\" x=\"103\" y=\"-141.8\" font-family=\"Helvetica,sans-Serif\" font-size=\"14.00\" fill=\"#000000\">Month of absence ≤ 0.955</text>\n<text text-anchor=\"start\" x=\"139\" y=\"-126.8\" font-family=\"Helvetica,sans-Serif\" font-size=\"14.00\" fill=\"#000000\">mse = 171.173</text>\n<text text-anchor=\"start\" x=\"139.5\" y=\"-111.8\" font-family=\"Helvetica,sans-Serif\" font-size=\"14.00\" fill=\"#000000\">samples = 120</text>\n<text text-anchor=\"start\" x=\"143.5\" y=\"-96.8\" font-family=\"Helvetica,sans-Serif\" font-size=\"14.00\" fill=\"#000000\">value = 9.042</text>\n</g>\n<!-- 3&#45;&gt;4 -->\n<g id=\"edge4\" class=\"edge\">\n<title>3&#45;&gt;4</title>\n<path fill=\"none\" stroke=\"#000000\" d=\"M346.8973,-192.9465C323.7767,-182.8008 298.2886,-171.6161 274.6039,-161.2228\"/>\n<polygon fill=\"#000000\" stroke=\"#000000\" points=\"275.8406,-157.9434 265.277,-157.13 273.0277,-164.3534 275.8406,-157.9434\"/>\n</g>\n<!-- 7 -->\n<g id=\"node8\" class=\"node\">\n<title>7</title>\n<path fill=\"#fcefe6\" stroke=\"#000000\" d=\"M512.5,-157C512.5,-157 336.5,-157 336.5,-157 330.5,-157 324.5,-151 324.5,-145 324.5,-145 324.5,-101 324.5,-101 324.5,-95 330.5,-89 336.5,-89 336.5,-89 512.5,-89 512.5,-89 518.5,-89 524.5,-95 524.5,-101 524.5,-101 524.5,-145 524.5,-145 524.5,-151 518.5,-157 512.5,-157\"/>\n<text text-anchor=\"start\" x=\"332.5\" y=\"-141.8\" font-family=\"Helvetica,sans-Serif\" font-size=\"14.00\" fill=\"#000000\">Reason for absence ≤ 0.426</text>\n<text text-anchor=\"start\" x=\"376\" y=\"-126.8\" font-family=\"Helvetica,sans-Serif\" font-size=\"14.00\" fill=\"#000000\">mse = 307.617</text>\n<text text-anchor=\"start\" x=\"380.5\" y=\"-111.8\" font-family=\"Helvetica,sans-Serif\" font-size=\"14.00\" fill=\"#000000\">samples = 44</text>\n<text text-anchor=\"start\" x=\"376\" y=\"-96.8\" font-family=\"Helvetica,sans-Serif\" font-size=\"14.00\" fill=\"#000000\">value = 16.205</text>\n</g>\n<!-- 3&#45;&gt;7 -->\n<g id=\"edge7\" class=\"edge\">\n<title>3&#45;&gt;7</title>\n<path fill=\"none\" stroke=\"#000000\" d=\"M424.5,-192.9465C424.5,-184.776 424.5,-175.9318 424.5,-167.3697\"/>\n<polygon fill=\"#000000\" stroke=\"#000000\" points=\"428.0001,-167.13 424.5,-157.13 421.0001,-167.13 428.0001,-167.13\"/>\n</g>\n<!-- 5 -->\n<g id=\"node6\" class=\"node\">\n<title>5</title>\n<path fill=\"#fdf8f3\" stroke=\"#000000\" d=\"M101,-53C101,-53 12,-53 12,-53 6,-53 0,-47 0,-41 0,-41 0,-12 0,-12 0,-6 6,0 12,0 12,0 101,0 101,0 107,0 113,-6 113,-12 113,-12 113,-41 113,-41 113,-47 107,-53 101,-53\"/>\n<text text-anchor=\"start\" x=\"8\" y=\"-37.8\" font-family=\"Helvetica,sans-Serif\" font-size=\"14.00\" fill=\"#000000\">mse = 130.755</text>\n<text text-anchor=\"start\" x=\"8.5\" y=\"-22.8\" font-family=\"Helvetica,sans-Serif\" font-size=\"14.00\" fill=\"#000000\">samples = 111</text>\n<text text-anchor=\"start\" x=\"12.5\" y=\"-7.8\" font-family=\"Helvetica,sans-Serif\" font-size=\"14.00\" fill=\"#000000\">value = 8.036</text>\n</g>\n<!-- 4&#45;&gt;5 -->\n<g id=\"edge5\" class=\"edge\">\n<title>4&#45;&gt;5</title>\n<path fill=\"none\" stroke=\"#000000\" d=\"M141.3143,-88.9777C128.2621,-79.3629 114.0861,-68.9203 101.1273,-59.3743\"/>\n<polygon fill=\"#000000\" stroke=\"#000000\" points=\"102.9386,-56.3615 92.8114,-53.2485 98.7869,-61.9974 102.9386,-56.3615\"/>\n</g>\n<!-- 6 -->\n<g id=\"node7\" class=\"node\">\n<title>6</title>\n<path fill=\"#fbe9dd\" stroke=\"#000000\" d=\"M232,-53C232,-53 143,-53 143,-53 137,-53 131,-47 131,-41 131,-41 131,-12 131,-12 131,-6 137,0 143,0 143,0 232,0 232,0 238,0 244,-6 244,-12 244,-12 244,-41 244,-41 244,-47 238,-53 232,-53\"/>\n<text text-anchor=\"start\" x=\"139\" y=\"-37.8\" font-family=\"Helvetica,sans-Serif\" font-size=\"14.00\" fill=\"#000000\">mse = 503.358</text>\n<text text-anchor=\"start\" x=\"148\" y=\"-22.8\" font-family=\"Helvetica,sans-Serif\" font-size=\"14.00\" fill=\"#000000\">samples = 9</text>\n<text text-anchor=\"start\" x=\"139\" y=\"-7.8\" font-family=\"Helvetica,sans-Serif\" font-size=\"14.00\" fill=\"#000000\">value = 21.444</text>\n</g>\n<!-- 4&#45;&gt;6 -->\n<g id=\"edge6\" class=\"edge\">\n<title>4&#45;&gt;6</title>\n<path fill=\"none\" stroke=\"#000000\" d=\"M187.5,-88.9777C187.5,-80.7364 187.5,-71.887 187.5,-63.5153\"/>\n<polygon fill=\"#000000\" stroke=\"#000000\" points=\"191.0001,-63.2484 187.5,-53.2485 184.0001,-63.2485 191.0001,-63.2484\"/>\n</g>\n<!-- 8 -->\n<g id=\"node9\" class=\"node\">\n<title>8</title>\n<path fill=\"#fdf5ef\" stroke=\"#000000\" d=\"M363,-53C363,-53 274,-53 274,-53 268,-53 262,-47 262,-41 262,-41 262,-12 262,-12 262,-6 268,0 274,0 274,0 363,0 363,0 369,0 375,-6 375,-12 375,-12 375,-41 375,-41 375,-47 369,-53 363,-53\"/>\n<text text-anchor=\"start\" x=\"274\" y=\"-37.8\" font-family=\"Helvetica,sans-Serif\" font-size=\"14.00\" fill=\"#000000\">mse = 66.413</text>\n<text text-anchor=\"start\" x=\"274.5\" y=\"-22.8\" font-family=\"Helvetica,sans-Serif\" font-size=\"14.00\" fill=\"#000000\">samples = 22</text>\n<text text-anchor=\"start\" x=\"270\" y=\"-7.8\" font-family=\"Helvetica,sans-Serif\" font-size=\"14.00\" fill=\"#000000\">value = 10.364</text>\n</g>\n<!-- 7&#45;&gt;8 -->\n<g id=\"edge8\" class=\"edge\">\n<title>7&#45;&gt;8</title>\n<path fill=\"none\" stroke=\"#000000\" d=\"M387.1284,-88.9777C376.8688,-79.6376 365.7511,-69.5163 355.5118,-60.1947\"/>\n<polygon fill=\"#000000\" stroke=\"#000000\" points=\"357.6326,-57.3923 347.8817,-53.2485 352.9202,-62.5686 357.6326,-57.3923\"/>\n</g>\n<!-- 9 -->\n<g id=\"node10\" class=\"node\">\n<title>9</title>\n<path fill=\"#fae9dc\" stroke=\"#000000\" d=\"M494,-53C494,-53 405,-53 405,-53 399,-53 393,-47 393,-41 393,-41 393,-12 393,-12 393,-6 399,0 405,0 405,0 494,0 494,0 500,0 506,-6 506,-12 506,-12 506,-41 506,-41 506,-47 500,-53 494,-53\"/>\n<text text-anchor=\"start\" x=\"401\" y=\"-37.8\" font-family=\"Helvetica,sans-Serif\" font-size=\"14.00\" fill=\"#000000\">mse = 480.589</text>\n<text text-anchor=\"start\" x=\"405.5\" y=\"-22.8\" font-family=\"Helvetica,sans-Serif\" font-size=\"14.00\" fill=\"#000000\">samples = 22</text>\n<text text-anchor=\"start\" x=\"401\" y=\"-7.8\" font-family=\"Helvetica,sans-Serif\" font-size=\"14.00\" fill=\"#000000\">value = 22.045</text>\n</g>\n<!-- 7&#45;&gt;9 -->\n<g id=\"edge9\" class=\"edge\">\n<title>7&#45;&gt;9</title>\n<path fill=\"none\" stroke=\"#000000\" d=\"M433.3141,-88.9777C435.4966,-80.5533 437.8437,-71.4934 440.0549,-62.9579\"/>\n<polygon fill=\"#000000\" stroke=\"#000000\" points=\"443.4505,-63.8067 442.5703,-53.2485 436.6742,-62.0511 443.4505,-63.8067\"/>\n</g>\n<!-- 11 -->\n<g id=\"node12\" class=\"node\">\n<title>11</title>\n<path fill=\"#f5d0b5\" stroke=\"#000000\" d=\"M684.5,-157C684.5,-157 586.5,-157 586.5,-157 580.5,-157 574.5,-151 574.5,-145 574.5,-145 574.5,-101 574.5,-101 574.5,-95 580.5,-89 586.5,-89 586.5,-89 684.5,-89 684.5,-89 690.5,-89 696.5,-95 696.5,-101 696.5,-101 696.5,-145 696.5,-145 696.5,-151 690.5,-157 684.5,-157\"/>\n<text text-anchor=\"start\" x=\"588.5\" y=\"-141.8\" font-family=\"Helvetica,sans-Serif\" font-size=\"14.00\" fill=\"#000000\">Seasons ≤ 0.5</text>\n<text text-anchor=\"start\" x=\"582.5\" y=\"-126.8\" font-family=\"Helvetica,sans-Serif\" font-size=\"14.00\" fill=\"#000000\">mse = 1450.667</text>\n<text text-anchor=\"start\" x=\"596\" y=\"-111.8\" font-family=\"Helvetica,sans-Serif\" font-size=\"14.00\" fill=\"#000000\">samples = 9</text>\n<text text-anchor=\"start\" x=\"587\" y=\"-96.8\" font-family=\"Helvetica,sans-Serif\" font-size=\"14.00\" fill=\"#000000\">value = 45.333</text>\n</g>\n<!-- 10&#45;&gt;11 -->\n<g id=\"edge11\" class=\"edge\">\n<title>10&#45;&gt;11</title>\n<path fill=\"none\" stroke=\"#000000\" d=\"M689.9776,-192.9465C683.0546,-184.0578 675.5106,-174.3716 668.304,-165.1188\"/>\n<polygon fill=\"#000000\" stroke=\"#000000\" points=\"670.988,-162.8688 662.082,-157.13 665.4654,-167.1701 670.988,-162.8688\"/>\n</g>\n<!-- 14 -->\n<g id=\"node15\" class=\"node\">\n<title>14</title>\n<path fill=\"#fcf0e7\" stroke=\"#000000\" d=\"M922.5,-157C922.5,-157 726.5,-157 726.5,-157 720.5,-157 714.5,-151 714.5,-145 714.5,-145 714.5,-101 714.5,-101 714.5,-95 720.5,-89 726.5,-89 726.5,-89 922.5,-89 922.5,-89 928.5,-89 934.5,-95 934.5,-101 934.5,-101 934.5,-145 934.5,-145 934.5,-151 928.5,-157 922.5,-157\"/>\n<text text-anchor=\"start\" x=\"722.5\" y=\"-141.8\" font-family=\"Helvetica,sans-Serif\" font-size=\"14.00\" fill=\"#000000\">Work load Averageperday ≤ 0.2</text>\n<text text-anchor=\"start\" x=\"776\" y=\"-126.8\" font-family=\"Helvetica,sans-Serif\" font-size=\"14.00\" fill=\"#000000\">mse = 518.948</text>\n<text text-anchor=\"start\" x=\"780.5\" y=\"-111.8\" font-family=\"Helvetica,sans-Serif\" font-size=\"14.00\" fill=\"#000000\">samples = 34</text>\n<text text-anchor=\"start\" x=\"776\" y=\"-96.8\" font-family=\"Helvetica,sans-Serif\" font-size=\"14.00\" fill=\"#000000\">value = 15.588</text>\n</g>\n<!-- 10&#45;&gt;14 -->\n<g id=\"edge14\" class=\"edge\">\n<title>10&#45;&gt;14</title>\n<path fill=\"none\" stroke=\"#000000\" d=\"M751.8632,-192.9465C761.3736,-183.7884 771.763,-173.7838 781.6335,-164.2788\"/>\n<polygon fill=\"#000000\" stroke=\"#000000\" points=\"784.2818,-166.5876 789.0573,-157.13 779.4263,-161.5453 784.2818,-166.5876\"/>\n</g>\n<!-- 12 -->\n<g id=\"node13\" class=\"node\">\n<title>12</title>\n<path fill=\"#fae9dc\" stroke=\"#000000\" d=\"M609,-53C609,-53 536,-53 536,-53 530,-53 524,-47 524,-41 524,-41 524,-12 524,-12 524,-6 530,0 536,0 536,0 609,0 609,0 615,0 621,-6 621,-12 621,-12 621,-41 621,-41 621,-47 615,-53 609,-53\"/>\n<text text-anchor=\"start\" x=\"532\" y=\"-37.8\" font-family=\"Helvetica,sans-Serif\" font-size=\"14.00\" fill=\"#000000\">mse = 204.0</text>\n<text text-anchor=\"start\" x=\"533\" y=\"-22.8\" font-family=\"Helvetica,sans-Serif\" font-size=\"14.00\" fill=\"#000000\">samples = 4</text>\n<text text-anchor=\"start\" x=\"532.5\" y=\"-7.8\" font-family=\"Helvetica,sans-Serif\" font-size=\"14.00\" fill=\"#000000\">value = 22.0</text>\n</g>\n<!-- 11&#45;&gt;12 -->\n<g id=\"edge12\" class=\"edge\">\n<title>11&#45;&gt;12</title>\n<path fill=\"none\" stroke=\"#000000\" d=\"M613.2886,-88.9777C607.5496,-80.187 601.3588,-70.7044 595.5767,-61.8477\"/>\n<polygon fill=\"#000000\" stroke=\"#000000\" points=\"598.3602,-59.7087 589.9627,-53.2485 592.4987,-63.5354 598.3602,-59.7087\"/>\n</g>\n<!-- 13 -->\n<g id=\"node14\" class=\"node\">\n<title>13</title>\n<path fill=\"#f1bc96\" stroke=\"#000000\" d=\"M732,-53C732,-53 651,-53 651,-53 645,-53 639,-47 639,-41 639,-41 639,-12 639,-12 639,-6 645,0 651,0 651,0 732,0 732,0 738,0 744,-6 744,-12 744,-12 744,-41 744,-41 744,-47 738,-53 732,-53\"/>\n<text text-anchor=\"start\" x=\"647\" y=\"-37.8\" font-family=\"Helvetica,sans-Serif\" font-size=\"14.00\" fill=\"#000000\">mse = 1664.0</text>\n<text text-anchor=\"start\" x=\"652\" y=\"-22.8\" font-family=\"Helvetica,sans-Serif\" font-size=\"14.00\" fill=\"#000000\">samples = 5</text>\n<text text-anchor=\"start\" x=\"651.5\" y=\"-7.8\" font-family=\"Helvetica,sans-Serif\" font-size=\"14.00\" fill=\"#000000\">value = 64.0</text>\n</g>\n<!-- 11&#45;&gt;13 -->\n<g id=\"edge13\" class=\"edge\">\n<title>11&#45;&gt;13</title>\n<path fill=\"none\" stroke=\"#000000\" d=\"M655.2435,-88.9777C660.2917,-80.2786 665.7331,-70.9018 670.8266,-62.1247\"/>\n<polygon fill=\"#000000\" stroke=\"#000000\" points=\"673.9855,-63.6544 675.9776,-53.2485 667.9311,-60.1409 673.9855,-63.6544\"/>\n</g>\n<!-- 15 -->\n<g id=\"node16\" class=\"node\">\n<title>15</title>\n<path fill=\"#f8deca\" stroke=\"#000000\" d=\"M863,-53C863,-53 774,-53 774,-53 768,-53 762,-47 762,-41 762,-41 762,-12 762,-12 762,-6 768,0 774,0 774,0 863,0 863,0 869,0 875,-6 875,-12 875,-12 875,-41 875,-41 875,-47 869,-53 863,-53\"/>\n<text text-anchor=\"start\" x=\"770\" y=\"-37.8\" font-family=\"Helvetica,sans-Serif\" font-size=\"14.00\" fill=\"#000000\">mse = 1959.84</text>\n<text text-anchor=\"start\" x=\"779\" y=\"-22.8\" font-family=\"Helvetica,sans-Serif\" font-size=\"14.00\" fill=\"#000000\">samples = 5</text>\n<text text-anchor=\"start\" x=\"778.5\" y=\"-7.8\" font-family=\"Helvetica,sans-Serif\" font-size=\"14.00\" fill=\"#000000\">value = 32.6</text>\n</g>\n<!-- 14&#45;&gt;15 -->\n<g id=\"edge15\" class=\"edge\">\n<title>14&#45;&gt;15</title>\n<path fill=\"none\" stroke=\"#000000\" d=\"M822.3846,-88.9777C821.8665,-80.6449 821.3098,-71.6903 820.7841,-63.2364\"/>\n<polygon fill=\"#000000\" stroke=\"#000000\" points=\"824.277,-63.012 820.1631,-53.2485 817.2905,-63.4464 824.277,-63.012\"/>\n</g>\n<!-- 16 -->\n<g id=\"node17\" class=\"node\">\n<title>16</title>\n<path fill=\"#fcf3ec\" stroke=\"#000000\" d=\"M994,-53C994,-53 905,-53 905,-53 899,-53 893,-47 893,-41 893,-41 893,-12 893,-12 893,-6 899,0 905,0 905,0 994,0 994,0 1000,0 1006,-6 1006,-12 1006,-12 1006,-41 1006,-41 1006,-47 1000,-53 994,-53\"/>\n<text text-anchor=\"start\" x=\"901\" y=\"-37.8\" font-family=\"Helvetica,sans-Serif\" font-size=\"14.00\" fill=\"#000000\">mse = 212.019</text>\n<text text-anchor=\"start\" x=\"905.5\" y=\"-22.8\" font-family=\"Helvetica,sans-Serif\" font-size=\"14.00\" fill=\"#000000\">samples = 29</text>\n<text text-anchor=\"start\" x=\"901\" y=\"-7.8\" font-family=\"Helvetica,sans-Serif\" font-size=\"14.00\" fill=\"#000000\">value = 12.655</text>\n</g>\n<!-- 14&#45;&gt;16 -->\n<g id=\"edge16\" class=\"edge\">\n<title>14&#45;&gt;16</title>\n<path fill=\"none\" stroke=\"#000000\" d=\"M868.5703,-88.9777C881.0248,-79.3629 894.5515,-68.9203 906.9167,-59.3743\"/>\n<polygon fill=\"#000000\" stroke=\"#000000\" points=\"909.0749,-62.1299 914.8517,-53.2485 904.7972,-56.5889 909.0749,-62.1299\"/>\n</g>\n<!-- 18 -->\n<g id=\"node19\" class=\"node\">\n<title>18</title>\n<path fill=\"#eeab7c\" stroke=\"#000000\" d=\"M1281.5,-261C1281.5,-261 1069.5,-261 1069.5,-261 1063.5,-261 1057.5,-255 1057.5,-249 1057.5,-249 1057.5,-205 1057.5,-205 1057.5,-199 1063.5,-193 1069.5,-193 1069.5,-193 1281.5,-193 1281.5,-193 1287.5,-193 1293.5,-199 1293.5,-205 1293.5,-205 1293.5,-249 1293.5,-249 1293.5,-255 1287.5,-261 1281.5,-261\"/>\n<text text-anchor=\"start\" x=\"1065.5\" y=\"-245.8\" font-family=\"Helvetica,sans-Serif\" font-size=\"14.00\" fill=\"#000000\">Work load Averageperday ≤ 0.342</text>\n<text text-anchor=\"start\" x=\"1122.5\" y=\"-230.8\" font-family=\"Helvetica,sans-Serif\" font-size=\"14.00\" fill=\"#000000\">mse = 2602.667</text>\n<text text-anchor=\"start\" x=\"1136\" y=\"-215.8\" font-family=\"Helvetica,sans-Serif\" font-size=\"14.00\" fill=\"#000000\">samples = 3</text>\n<text text-anchor=\"start\" x=\"1135.5\" y=\"-200.8\" font-family=\"Helvetica,sans-Serif\" font-size=\"14.00\" fill=\"#000000\">value = 80.0</text>\n</g>\n<!-- 17&#45;&gt;18 -->\n<g id=\"edge18\" class=\"edge\">\n<title>17&#45;&gt;18</title>\n<path fill=\"none\" stroke=\"#000000\" d=\"M1260.9155,-296.9465C1249.5127,-287.6088 1237.0353,-277.3911 1225.2257,-267.7203\"/>\n<polygon fill=\"#000000\" stroke=\"#000000\" points=\"1227.1324,-264.7578 1217.178,-261.13 1222.6974,-270.1736 1227.1324,-264.7578\"/>\n</g>\n<!-- 23 -->\n<g id=\"node24\" class=\"node\">\n<title>23</title>\n<path fill=\"#fefbf9\" stroke=\"#000000\" d=\"M1535.5,-261C1535.5,-261 1323.5,-261 1323.5,-261 1317.5,-261 1311.5,-255 1311.5,-249 1311.5,-249 1311.5,-205 1311.5,-205 1311.5,-199 1317.5,-193 1323.5,-193 1323.5,-193 1535.5,-193 1535.5,-193 1541.5,-193 1547.5,-199 1547.5,-205 1547.5,-205 1547.5,-249 1547.5,-249 1547.5,-255 1541.5,-261 1535.5,-261\"/>\n<text text-anchor=\"start\" x=\"1319.5\" y=\"-245.8\" font-family=\"Helvetica,sans-Serif\" font-size=\"14.00\" fill=\"#000000\">Work load Averageperday ≤ 0.344</text>\n<text text-anchor=\"start\" x=\"1389\" y=\"-230.8\" font-family=\"Helvetica,sans-Serif\" font-size=\"14.00\" fill=\"#000000\">mse = 12.25</text>\n<text text-anchor=\"start\" x=\"1390\" y=\"-215.8\" font-family=\"Helvetica,sans-Serif\" font-size=\"14.00\" fill=\"#000000\">samples = 2</text>\n<text text-anchor=\"start\" x=\"1393.5\" y=\"-200.8\" font-family=\"Helvetica,sans-Serif\" font-size=\"14.00\" fill=\"#000000\">value = 4.5</text>\n</g>\n<!-- 17&#45;&gt;23 -->\n<g id=\"edge23\" class=\"edge\">\n<title>17&#45;&gt;23</title>\n<path fill=\"none\" stroke=\"#000000\" d=\"M1344.0845,-296.9465C1355.4873,-287.6088 1367.9647,-277.3911 1379.7743,-267.7203\"/>\n<polygon fill=\"#000000\" stroke=\"#000000\" points=\"1382.3026,-270.1736 1387.822,-261.13 1377.8676,-264.7578 1382.3026,-270.1736\"/>\n</g>\n<!-- 19 -->\n<g id=\"node20\" class=\"node\">\n<title>19</title>\n<path fill=\"#e68540\" stroke=\"#000000\" d=\"M1182.5,-157C1182.5,-157 970.5,-157 970.5,-157 964.5,-157 958.5,-151 958.5,-145 958.5,-145 958.5,-101 958.5,-101 958.5,-95 964.5,-89 970.5,-89 970.5,-89 1182.5,-89 1182.5,-89 1188.5,-89 1194.5,-95 1194.5,-101 1194.5,-101 1194.5,-145 1194.5,-145 1194.5,-151 1188.5,-157 1182.5,-157\"/>\n<text text-anchor=\"start\" x=\"966.5\" y=\"-141.8\" font-family=\"Helvetica,sans-Serif\" font-size=\"14.00\" fill=\"#000000\">Work load Averageperday ≤ 0.217</text>\n<text text-anchor=\"start\" x=\"1040\" y=\"-126.8\" font-family=\"Helvetica,sans-Serif\" font-size=\"14.00\" fill=\"#000000\">mse = 16.0</text>\n<text text-anchor=\"start\" x=\"1037\" y=\"-111.8\" font-family=\"Helvetica,sans-Serif\" font-size=\"14.00\" fill=\"#000000\">samples = 2</text>\n<text text-anchor=\"start\" x=\"1032.5\" y=\"-96.8\" font-family=\"Helvetica,sans-Serif\" font-size=\"14.00\" fill=\"#000000\">value = 116.0</text>\n</g>\n<!-- 18&#45;&gt;19 -->\n<g id=\"edge19\" class=\"edge\">\n<title>18&#45;&gt;19</title>\n<path fill=\"none\" stroke=\"#000000\" d=\"M1143.0837,-192.9465C1134.4514,-183.8782 1125.0289,-173.9799 1116.0605,-164.5585\"/>\n<polygon fill=\"#000000\" stroke=\"#000000\" points=\"1118.419,-161.9599 1108.9891,-157.13 1113.3489,-166.7863 1118.419,-161.9599\"/>\n</g>\n<!-- 22 -->\n<g id=\"node23\" class=\"node\">\n<title>22</title>\n<path fill=\"#fdf8f3\" stroke=\"#000000\" d=\"M1296,-149.5C1296,-149.5 1225,-149.5 1225,-149.5 1219,-149.5 1213,-143.5 1213,-137.5 1213,-137.5 1213,-108.5 1213,-108.5 1213,-102.5 1219,-96.5 1225,-96.5 1225,-96.5 1296,-96.5 1296,-96.5 1302,-96.5 1308,-102.5 1308,-108.5 1308,-108.5 1308,-137.5 1308,-137.5 1308,-143.5 1302,-149.5 1296,-149.5\"/>\n<text text-anchor=\"start\" x=\"1228.5\" y=\"-134.3\" font-family=\"Helvetica,sans-Serif\" font-size=\"14.00\" fill=\"#000000\">mse = 0.0</text>\n<text text-anchor=\"start\" x=\"1221\" y=\"-119.3\" font-family=\"Helvetica,sans-Serif\" font-size=\"14.00\" fill=\"#000000\">samples = 1</text>\n<text text-anchor=\"start\" x=\"1224.5\" y=\"-104.3\" font-family=\"Helvetica,sans-Serif\" font-size=\"14.00\" fill=\"#000000\">value = 8.0</text>\n</g>\n<!-- 18&#45;&gt;22 -->\n<g id=\"edge22\" class=\"edge\">\n<title>18&#45;&gt;22</title>\n<path fill=\"none\" stroke=\"#000000\" d=\"M1203.3322,-192.9465C1212.6048,-181.6012 1222.9392,-168.9567 1232.2437,-157.5724\"/>\n<polygon fill=\"#000000\" stroke=\"#000000\" points=\"1235.1885,-159.5 1238.8069,-149.5422 1229.7685,-155.0701 1235.1885,-159.5\"/>\n</g>\n<!-- 20 -->\n<g id=\"node21\" class=\"node\">\n<title>20</title>\n<path fill=\"#e78946\" stroke=\"#000000\" d=\"M1116.5,-53C1116.5,-53 1036.5,-53 1036.5,-53 1030.5,-53 1024.5,-47 1024.5,-41 1024.5,-41 1024.5,-12 1024.5,-12 1024.5,-6 1030.5,0 1036.5,0 1036.5,0 1116.5,0 1116.5,0 1122.5,0 1128.5,-6 1128.5,-12 1128.5,-12 1128.5,-41 1128.5,-41 1128.5,-47 1122.5,-53 1116.5,-53\"/>\n<text text-anchor=\"start\" x=\"1044.5\" y=\"-37.8\" font-family=\"Helvetica,sans-Serif\" font-size=\"14.00\" fill=\"#000000\">mse = 0.0</text>\n<text text-anchor=\"start\" x=\"1037\" y=\"-22.8\" font-family=\"Helvetica,sans-Serif\" font-size=\"14.00\" fill=\"#000000\">samples = 1</text>\n<text text-anchor=\"start\" x=\"1032.5\" y=\"-7.8\" font-family=\"Helvetica,sans-Serif\" font-size=\"14.00\" fill=\"#000000\">value = 112.0</text>\n</g>\n<!-- 19&#45;&gt;20 -->\n<g id=\"edge20\" class=\"edge\">\n<title>19&#45;&gt;20</title>\n<path fill=\"none\" stroke=\"#000000\" d=\"M1076.5,-88.9777C1076.5,-80.7364 1076.5,-71.887 1076.5,-63.5153\"/>\n<polygon fill=\"#000000\" stroke=\"#000000\" points=\"1080.0001,-63.2484 1076.5,-53.2485 1073.0001,-63.2485 1080.0001,-63.2484\"/>\n</g>\n<!-- 21 -->\n<g id=\"node22\" class=\"node\">\n<title>21</title>\n<path fill=\"#e58139\" stroke=\"#000000\" d=\"M1238.5,-53C1238.5,-53 1158.5,-53 1158.5,-53 1152.5,-53 1146.5,-47 1146.5,-41 1146.5,-41 1146.5,-12 1146.5,-12 1146.5,-6 1152.5,0 1158.5,0 1158.5,0 1238.5,0 1238.5,0 1244.5,0 1250.5,-6 1250.5,-12 1250.5,-12 1250.5,-41 1250.5,-41 1250.5,-47 1244.5,-53 1238.5,-53\"/>\n<text text-anchor=\"start\" x=\"1166.5\" y=\"-37.8\" font-family=\"Helvetica,sans-Serif\" font-size=\"14.00\" fill=\"#000000\">mse = 0.0</text>\n<text text-anchor=\"start\" x=\"1159\" y=\"-22.8\" font-family=\"Helvetica,sans-Serif\" font-size=\"14.00\" fill=\"#000000\">samples = 1</text>\n<text text-anchor=\"start\" x=\"1154.5\" y=\"-7.8\" font-family=\"Helvetica,sans-Serif\" font-size=\"14.00\" fill=\"#000000\">value = 120.0</text>\n</g>\n<!-- 19&#45;&gt;21 -->\n<g id=\"edge21\" class=\"edge\">\n<title>19&#45;&gt;21</title>\n<path fill=\"none\" stroke=\"#000000\" d=\"M1119.5126,-88.9777C1131.5524,-79.4545 1144.6188,-69.1191 1156.5935,-59.6473\"/>\n<polygon fill=\"#000000\" stroke=\"#000000\" points=\"1159.0115,-62.1973 1164.6833,-53.2485 1154.6689,-56.7072 1159.0115,-62.1973\"/>\n</g>\n<!-- 24 -->\n<g id=\"node25\" class=\"node\">\n<title>24</title>\n<path fill=\"#fdf8f3\" stroke=\"#000000\" d=\"M1409,-149.5C1409,-149.5 1338,-149.5 1338,-149.5 1332,-149.5 1326,-143.5 1326,-137.5 1326,-137.5 1326,-108.5 1326,-108.5 1326,-102.5 1332,-96.5 1338,-96.5 1338,-96.5 1409,-96.5 1409,-96.5 1415,-96.5 1421,-102.5 1421,-108.5 1421,-108.5 1421,-137.5 1421,-137.5 1421,-143.5 1415,-149.5 1409,-149.5\"/>\n<text text-anchor=\"start\" x=\"1341.5\" y=\"-134.3\" font-family=\"Helvetica,sans-Serif\" font-size=\"14.00\" fill=\"#000000\">mse = 0.0</text>\n<text text-anchor=\"start\" x=\"1334\" y=\"-119.3\" font-family=\"Helvetica,sans-Serif\" font-size=\"14.00\" fill=\"#000000\">samples = 1</text>\n<text text-anchor=\"start\" x=\"1337.5\" y=\"-104.3\" font-family=\"Helvetica,sans-Serif\" font-size=\"14.00\" fill=\"#000000\">value = 8.0</text>\n</g>\n<!-- 23&#45;&gt;24 -->\n<g id=\"edge24\" class=\"edge\">\n<title>23&#45;&gt;24</title>\n<path fill=\"none\" stroke=\"#000000\" d=\"M1411.1635,-192.9465C1405.2324,-181.9316 1398.6419,-169.6922 1392.6532,-158.5703\"/>\n<polygon fill=\"#000000\" stroke=\"#000000\" points=\"1395.6146,-156.6875 1387.7919,-149.5422 1389.4513,-160.0063 1395.6146,-156.6875\"/>\n</g>\n<!-- 25 -->\n<g id=\"node26\" class=\"node\">\n<title>25</title>\n<path fill=\"#ffffff\" stroke=\"#000000\" d=\"M1522,-149.5C1522,-149.5 1451,-149.5 1451,-149.5 1445,-149.5 1439,-143.5 1439,-137.5 1439,-137.5 1439,-108.5 1439,-108.5 1439,-102.5 1445,-96.5 1451,-96.5 1451,-96.5 1522,-96.5 1522,-96.5 1528,-96.5 1534,-102.5 1534,-108.5 1534,-108.5 1534,-137.5 1534,-137.5 1534,-143.5 1528,-149.5 1522,-149.5\"/>\n<text text-anchor=\"start\" x=\"1454.5\" y=\"-134.3\" font-family=\"Helvetica,sans-Serif\" font-size=\"14.00\" fill=\"#000000\">mse = 0.0</text>\n<text text-anchor=\"start\" x=\"1447\" y=\"-119.3\" font-family=\"Helvetica,sans-Serif\" font-size=\"14.00\" fill=\"#000000\">samples = 1</text>\n<text text-anchor=\"start\" x=\"1450.5\" y=\"-104.3\" font-family=\"Helvetica,sans-Serif\" font-size=\"14.00\" fill=\"#000000\">value = 1.0</text>\n</g>\n<!-- 23&#45;&gt;25 -->\n<g id=\"edge25\" class=\"edge\">\n<title>23&#45;&gt;25</title>\n<path fill=\"none\" stroke=\"#000000\" d=\"M1448.1639,-192.9465C1454.2009,-181.9316 1460.9091,-169.6922 1467.0047,-158.5703\"/>\n<polygon fill=\"#000000\" stroke=\"#000000\" points=\"1470.2158,-159.9936 1471.9529,-149.5422 1464.0773,-156.6292 1470.2158,-159.9936\"/>\n</g>\n<!-- 27 -->\n<g id=\"node28\" class=\"node\">\n<title>27</title>\n<path fill=\"#fef8f5\" stroke=\"#000000\" d=\"M1910.5,-365C1910.5,-365 1830.5,-365 1830.5,-365 1824.5,-365 1818.5,-359 1818.5,-353 1818.5,-353 1818.5,-309 1818.5,-309 1818.5,-303 1824.5,-297 1830.5,-297 1830.5,-297 1910.5,-297 1910.5,-297 1916.5,-297 1922.5,-303 1922.5,-309 1922.5,-309 1922.5,-353 1922.5,-353 1922.5,-359 1916.5,-365 1910.5,-365\"/>\n<text text-anchor=\"start\" x=\"1831\" y=\"-349.8\" font-family=\"Helvetica,sans-Serif\" font-size=\"14.00\" fill=\"#000000\">Son ≤ 0.125</text>\n<text text-anchor=\"start\" x=\"1830\" y=\"-334.8\" font-family=\"Helvetica,sans-Serif\" font-size=\"14.00\" fill=\"#000000\">mse = 3.922</text>\n<text text-anchor=\"start\" x=\"1826.5\" y=\"-319.8\" font-family=\"Helvetica,sans-Serif\" font-size=\"14.00\" fill=\"#000000\">samples = 38</text>\n<text text-anchor=\"start\" x=\"1826.5\" y=\"-304.8\" font-family=\"Helvetica,sans-Serif\" font-size=\"14.00\" fill=\"#000000\">value = 7.158</text>\n</g>\n<!-- 26&#45;&gt;27 -->\n<g id=\"edge27\" class=\"edge\">\n<title>26&#45;&gt;27</title>\n<path fill=\"none\" stroke=\"#000000\" d=\"M1870.5,-400.9465C1870.5,-392.776 1870.5,-383.9318 1870.5,-375.3697\"/>\n<polygon fill=\"#000000\" stroke=\"#000000\" points=\"1874.0001,-375.13 1870.5,-365.13 1867.0001,-375.13 1874.0001,-375.13\"/>\n</g>\n<!-- 38 -->\n<g id=\"node39\" class=\"node\">\n<title>38</title>\n<path fill=\"#fffdfb\" stroke=\"#000000\" d=\"M2497,-365C2497,-365 2300,-365 2300,-365 2294,-365 2288,-359 2288,-353 2288,-353 2288,-309 2288,-309 2288,-303 2294,-297 2300,-297 2300,-297 2497,-297 2497,-297 2503,-297 2509,-303 2509,-309 2509,-309 2509,-353 2509,-353 2509,-359 2503,-365 2497,-365\"/>\n<text text-anchor=\"start\" x=\"2296\" y=\"-349.8\" font-family=\"Helvetica,sans-Serif\" font-size=\"14.00\" fill=\"#000000\">Transportation expense ≤ 0.657</text>\n<text text-anchor=\"start\" x=\"2358\" y=\"-334.8\" font-family=\"Helvetica,sans-Serif\" font-size=\"14.00\" fill=\"#000000\">mse = 6.386</text>\n<text text-anchor=\"start\" x=\"2350.5\" y=\"-319.8\" font-family=\"Helvetica,sans-Serif\" font-size=\"14.00\" fill=\"#000000\">samples = 306</text>\n<text text-anchor=\"start\" x=\"2354.5\" y=\"-304.8\" font-family=\"Helvetica,sans-Serif\" font-size=\"14.00\" fill=\"#000000\">value = 3.268</text>\n</g>\n<!-- 26&#45;&gt;38 -->\n<g id=\"edge38\" class=\"edge\">\n<title>26&#45;&gt;38</title>\n<path fill=\"none\" stroke=\"#000000\" d=\"M1970.7444,-415.2549C2058.0382,-398.0607 2184.8103,-373.0904 2277.6849,-354.7969\"/>\n<polygon fill=\"#000000\" stroke=\"#000000\" points=\"2278.5635,-358.1912 2287.6986,-352.8245 2277.2107,-351.3231 2278.5635,-358.1912\"/>\n</g>\n<!-- 28 -->\n<g id=\"node29\" class=\"node\">\n<title>28</title>\n<path fill=\"#fefcfb\" stroke=\"#000000\" d=\"M1846,-261C1846,-261 1697,-261 1697,-261 1691,-261 1685,-255 1685,-249 1685,-249 1685,-205 1685,-205 1685,-199 1691,-193 1697,-193 1697,-193 1846,-193 1846,-193 1852,-193 1858,-199 1858,-205 1858,-205 1858,-249 1858,-249 1858,-255 1852,-261 1846,-261\"/>\n<text text-anchor=\"start\" x=\"1693\" y=\"-245.8\" font-family=\"Helvetica,sans-Serif\" font-size=\"14.00\" fill=\"#000000\">Day of the week ≤ 0.125</text>\n<text text-anchor=\"start\" x=\"1731\" y=\"-230.8\" font-family=\"Helvetica,sans-Serif\" font-size=\"14.00\" fill=\"#000000\">mse = 9.556</text>\n<text text-anchor=\"start\" x=\"1732\" y=\"-215.8\" font-family=\"Helvetica,sans-Serif\" font-size=\"14.00\" fill=\"#000000\">samples = 3</text>\n<text text-anchor=\"start\" x=\"1727.5\" y=\"-200.8\" font-family=\"Helvetica,sans-Serif\" font-size=\"14.00\" fill=\"#000000\">value = 3.667</text>\n</g>\n<!-- 27&#45;&gt;28 -->\n<g id=\"edge28\" class=\"edge\">\n<title>27&#45;&gt;28</title>\n<path fill=\"none\" stroke=\"#000000\" d=\"M1838.0837,-296.9465C1829.4514,-287.8782 1820.0289,-277.9799 1811.0605,-268.5585\"/>\n<polygon fill=\"#000000\" stroke=\"#000000\" points=\"1813.419,-265.9599 1803.9891,-261.13 1808.3489,-270.7863 1813.419,-265.9599\"/>\n</g>\n<!-- 33 -->\n<g id=\"node34\" class=\"node\">\n<title>33</title>\n<path fill=\"#fef8f4\" stroke=\"#000000\" d=\"M2049,-261C2049,-261 1888,-261 1888,-261 1882,-261 1876,-255 1876,-249 1876,-249 1876,-205 1876,-205 1876,-199 1882,-193 1888,-193 1888,-193 2049,-193 2049,-193 2055,-193 2061,-199 2061,-205 2061,-205 2061,-249 2061,-249 2061,-255 2055,-261 2049,-261\"/>\n<text text-anchor=\"start\" x=\"1884\" y=\"-245.8\" font-family=\"Helvetica,sans-Serif\" font-size=\"14.00\" fill=\"#000000\">Month of absence ≤ 0.045</text>\n<text text-anchor=\"start\" x=\"1928\" y=\"-230.8\" font-family=\"Helvetica,sans-Serif\" font-size=\"14.00\" fill=\"#000000\">mse = 2.305</text>\n<text text-anchor=\"start\" x=\"1924.5\" y=\"-215.8\" font-family=\"Helvetica,sans-Serif\" font-size=\"14.00\" fill=\"#000000\">samples = 35</text>\n<text text-anchor=\"start\" x=\"1924.5\" y=\"-200.8\" font-family=\"Helvetica,sans-Serif\" font-size=\"14.00\" fill=\"#000000\">value = 7.457</text>\n</g>\n<!-- 27&#45;&gt;33 -->\n<g id=\"edge33\" class=\"edge\">\n<title>27&#45;&gt;33</title>\n<path fill=\"none\" stroke=\"#000000\" d=\"M1902.5889,-296.9465C1911.134,-287.8782 1920.4613,-277.9799 1929.3391,-268.5585\"/>\n<polygon fill=\"#000000\" stroke=\"#000000\" points=\"1932.0283,-270.8082 1936.339,-261.13 1926.9337,-266.0076 1932.0283,-270.8082\"/>\n</g>\n<!-- 29 -->\n<g id=\"node30\" class=\"node\">\n<title>29</title>\n<path fill=\"#fdf8f3\" stroke=\"#000000\" d=\"M1635,-149.5C1635,-149.5 1564,-149.5 1564,-149.5 1558,-149.5 1552,-143.5 1552,-137.5 1552,-137.5 1552,-108.5 1552,-108.5 1552,-102.5 1558,-96.5 1564,-96.5 1564,-96.5 1635,-96.5 1635,-96.5 1641,-96.5 1647,-102.5 1647,-108.5 1647,-108.5 1647,-137.5 1647,-137.5 1647,-143.5 1641,-149.5 1635,-149.5\"/>\n<text text-anchor=\"start\" x=\"1567.5\" y=\"-134.3\" font-family=\"Helvetica,sans-Serif\" font-size=\"14.00\" fill=\"#000000\">mse = 0.0</text>\n<text text-anchor=\"start\" x=\"1560\" y=\"-119.3\" font-family=\"Helvetica,sans-Serif\" font-size=\"14.00\" fill=\"#000000\">samples = 1</text>\n<text text-anchor=\"start\" x=\"1563.5\" y=\"-104.3\" font-family=\"Helvetica,sans-Serif\" font-size=\"14.00\" fill=\"#000000\">value = 8.0</text>\n</g>\n<!-- 28&#45;&gt;29 -->\n<g id=\"edge29\" class=\"edge\">\n<title>28&#45;&gt;29</title>\n<path fill=\"none\" stroke=\"#000000\" d=\"M1715.1808,-192.9465C1694.8689,-180.6649 1672.0392,-166.8609 1652.0611,-154.7811\"/>\n<polygon fill=\"#000000\" stroke=\"#000000\" points=\"1653.765,-151.7213 1643.3967,-149.5422 1650.143,-157.7115 1653.765,-151.7213\"/>\n</g>\n<!-- 30 -->\n<g id=\"node31\" class=\"node\">\n<title>30</title>\n<path fill=\"#fffefe\" stroke=\"#000000\" d=\"M1881.5,-157C1881.5,-157 1677.5,-157 1677.5,-157 1671.5,-157 1665.5,-151 1665.5,-145 1665.5,-145 1665.5,-101 1665.5,-101 1665.5,-95 1671.5,-89 1677.5,-89 1677.5,-89 1881.5,-89 1881.5,-89 1887.5,-89 1893.5,-95 1893.5,-101 1893.5,-101 1893.5,-145 1893.5,-145 1893.5,-151 1887.5,-157 1881.5,-157\"/>\n<text text-anchor=\"start\" x=\"1673.5\" y=\"-141.8\" font-family=\"Helvetica,sans-Serif\" font-size=\"14.00\" fill=\"#000000\">Work load Averageperday ≤ 0.32</text>\n<text text-anchor=\"start\" x=\"1743\" y=\"-126.8\" font-family=\"Helvetica,sans-Serif\" font-size=\"14.00\" fill=\"#000000\">mse = 0.25</text>\n<text text-anchor=\"start\" x=\"1740\" y=\"-111.8\" font-family=\"Helvetica,sans-Serif\" font-size=\"14.00\" fill=\"#000000\">samples = 2</text>\n<text text-anchor=\"start\" x=\"1743.5\" y=\"-96.8\" font-family=\"Helvetica,sans-Serif\" font-size=\"14.00\" fill=\"#000000\">value = 1.5</text>\n</g>\n<!-- 28&#45;&gt;30 -->\n<g id=\"edge30\" class=\"edge\">\n<title>28&#45;&gt;30</title>\n<path fill=\"none\" stroke=\"#000000\" d=\"M1774.1195,-192.9465C1774.748,-184.776 1775.4283,-175.9318 1776.0869,-167.3697\"/>\n<polygon fill=\"#000000\" stroke=\"#000000\" points=\"1779.5973,-167.369 1776.8746,-157.13 1772.6179,-166.8321 1779.5973,-167.369\"/>\n</g>\n<!-- 31 -->\n<g id=\"node32\" class=\"node\">\n<title>31</title>\n<path fill=\"#fffefd\" stroke=\"#000000\" d=\"M1734,-53C1734,-53 1663,-53 1663,-53 1657,-53 1651,-47 1651,-41 1651,-41 1651,-12 1651,-12 1651,-6 1657,0 1663,0 1663,0 1734,0 1734,0 1740,0 1746,-6 1746,-12 1746,-12 1746,-41 1746,-41 1746,-47 1740,-53 1734,-53\"/>\n<text text-anchor=\"start\" x=\"1666.5\" y=\"-37.8\" font-family=\"Helvetica,sans-Serif\" font-size=\"14.00\" fill=\"#000000\">mse = 0.0</text>\n<text text-anchor=\"start\" x=\"1659\" y=\"-22.8\" font-family=\"Helvetica,sans-Serif\" font-size=\"14.00\" fill=\"#000000\">samples = 1</text>\n<text text-anchor=\"start\" x=\"1662.5\" y=\"-7.8\" font-family=\"Helvetica,sans-Serif\" font-size=\"14.00\" fill=\"#000000\">value = 2.0</text>\n</g>\n<!-- 30&#45;&gt;31 -->\n<g id=\"edge31\" class=\"edge\">\n<title>30&#45;&gt;31</title>\n<path fill=\"none\" stroke=\"#000000\" d=\"M1750.9424,-88.9777C1743.3331,-79.9123 1735.1061,-70.111 1727.4747,-61.0192\"/>\n<polygon fill=\"#000000\" stroke=\"#000000\" points=\"1730.062,-58.6577 1720.9521,-53.2485 1724.7005,-63.1581 1730.062,-58.6577\"/>\n</g>\n<!-- 32 -->\n<g id=\"node33\" class=\"node\">\n<title>32</title>\n<path fill=\"#ffffff\" stroke=\"#000000\" d=\"M1847,-53C1847,-53 1776,-53 1776,-53 1770,-53 1764,-47 1764,-41 1764,-41 1764,-12 1764,-12 1764,-6 1770,0 1776,0 1776,0 1847,0 1847,0 1853,0 1859,-6 1859,-12 1859,-12 1859,-41 1859,-41 1859,-47 1853,-53 1847,-53\"/>\n<text text-anchor=\"start\" x=\"1779.5\" y=\"-37.8\" font-family=\"Helvetica,sans-Serif\" font-size=\"14.00\" fill=\"#000000\">mse = 0.0</text>\n<text text-anchor=\"start\" x=\"1772\" y=\"-22.8\" font-family=\"Helvetica,sans-Serif\" font-size=\"14.00\" fill=\"#000000\">samples = 1</text>\n<text text-anchor=\"start\" x=\"1775.5\" y=\"-7.8\" font-family=\"Helvetica,sans-Serif\" font-size=\"14.00\" fill=\"#000000\">value = 1.0</text>\n</g>\n<!-- 30&#45;&gt;32 -->\n<g id=\"edge32\" class=\"edge\">\n<title>30&#45;&gt;32</title>\n<path fill=\"none\" stroke=\"#000000\" d=\"M1790.782,-88.9777C1793.5756,-80.5533 1796.5799,-71.4934 1799.4103,-62.9579\"/>\n<polygon fill=\"#000000\" stroke=\"#000000\" points=\"1802.8046,-63.8419 1802.63,-53.2485 1796.1603,-61.6386 1802.8046,-63.8419\"/>\n</g>\n<!-- 34 -->\n<g id=\"node35\" class=\"node\">\n<title>34</title>\n<path fill=\"#fffdfc\" stroke=\"#000000\" d=\"M1995,-149.5C1995,-149.5 1924,-149.5 1924,-149.5 1918,-149.5 1912,-143.5 1912,-137.5 1912,-137.5 1912,-108.5 1912,-108.5 1912,-102.5 1918,-96.5 1924,-96.5 1924,-96.5 1995,-96.5 1995,-96.5 2001,-96.5 2007,-102.5 2007,-108.5 2007,-108.5 2007,-137.5 2007,-137.5 2007,-143.5 2001,-149.5 1995,-149.5\"/>\n<text text-anchor=\"start\" x=\"1927.5\" y=\"-134.3\" font-family=\"Helvetica,sans-Serif\" font-size=\"14.00\" fill=\"#000000\">mse = 0.0</text>\n<text text-anchor=\"start\" x=\"1920\" y=\"-119.3\" font-family=\"Helvetica,sans-Serif\" font-size=\"14.00\" fill=\"#000000\">samples = 1</text>\n<text text-anchor=\"start\" x=\"1923.5\" y=\"-104.3\" font-family=\"Helvetica,sans-Serif\" font-size=\"14.00\" fill=\"#000000\">value = 3.0</text>\n</g>\n<!-- 33&#45;&gt;34 -->\n<g id=\"edge34\" class=\"edge\">\n<title>33&#45;&gt;34</title>\n<path fill=\"none\" stroke=\"#000000\" d=\"M1965.5531,-192.9465C1964.6284,-182.2621 1963.6041,-170.4254 1962.6651,-159.5742\"/>\n<polygon fill=\"#000000\" stroke=\"#000000\" points=\"1966.1461,-159.2031 1961.7969,-149.5422 1959.1722,-159.8067 1966.1461,-159.2031\"/>\n</g>\n<!-- 35 -->\n<g id=\"node36\" class=\"node\">\n<title>35</title>\n<path fill=\"#fef8f4\" stroke=\"#000000\" d=\"M2123.5,-157C2123.5,-157 2037.5,-157 2037.5,-157 2031.5,-157 2025.5,-151 2025.5,-145 2025.5,-145 2025.5,-101 2025.5,-101 2025.5,-95 2031.5,-89 2037.5,-89 2037.5,-89 2123.5,-89 2123.5,-89 2129.5,-89 2135.5,-95 2135.5,-101 2135.5,-101 2135.5,-145 2135.5,-145 2135.5,-151 2129.5,-157 2123.5,-157\"/>\n<text text-anchor=\"start\" x=\"2033.5\" y=\"-141.8\" font-family=\"Helvetica,sans-Serif\" font-size=\"14.00\" fill=\"#000000\">Height ≤ 0.394</text>\n<text text-anchor=\"start\" x=\"2040\" y=\"-126.8\" font-family=\"Helvetica,sans-Serif\" font-size=\"14.00\" fill=\"#000000\">mse = 1.772</text>\n<text text-anchor=\"start\" x=\"2036.5\" y=\"-111.8\" font-family=\"Helvetica,sans-Serif\" font-size=\"14.00\" fill=\"#000000\">samples = 34</text>\n<text text-anchor=\"start\" x=\"2036.5\" y=\"-96.8\" font-family=\"Helvetica,sans-Serif\" font-size=\"14.00\" fill=\"#000000\">value = 7.588</text>\n</g>\n<!-- 33&#45;&gt;35 -->\n<g id=\"edge35\" class=\"edge\">\n<title>33&#45;&gt;35</title>\n<path fill=\"none\" stroke=\"#000000\" d=\"M2005.173,-192.9465C2015.1323,-183.6986 2026.0211,-173.5876 2036.3468,-163.9994\"/>\n<polygon fill=\"#000000\" stroke=\"#000000\" points=\"2038.7982,-166.4993 2043.7446,-157.13 2034.0351,-161.3698 2038.7982,-166.4993\"/>\n</g>\n<!-- 36 -->\n<g id=\"node37\" class=\"node\">\n<title>36</title>\n<path fill=\"#fef8f4\" stroke=\"#000000\" d=\"M2003.5,-53C2003.5,-53 1923.5,-53 1923.5,-53 1917.5,-53 1911.5,-47 1911.5,-41 1911.5,-41 1911.5,-12 1911.5,-12 1911.5,-6 1917.5,0 1923.5,0 1923.5,0 2003.5,0 2003.5,0 2009.5,0 2015.5,-6 2015.5,-12 2015.5,-12 2015.5,-41 2015.5,-41 2015.5,-47 2009.5,-53 2003.5,-53\"/>\n<text text-anchor=\"start\" x=\"1923\" y=\"-37.8\" font-family=\"Helvetica,sans-Serif\" font-size=\"14.00\" fill=\"#000000\">mse = 1.202</text>\n<text text-anchor=\"start\" x=\"1919.5\" y=\"-22.8\" font-family=\"Helvetica,sans-Serif\" font-size=\"14.00\" fill=\"#000000\">samples = 32</text>\n<text text-anchor=\"start\" x=\"1919.5\" y=\"-7.8\" font-family=\"Helvetica,sans-Serif\" font-size=\"14.00\" fill=\"#000000\">value = 7.719</text>\n</g>\n<!-- 35&#45;&gt;36 -->\n<g id=\"edge36\" class=\"edge\">\n<title>35&#45;&gt;36</title>\n<path fill=\"none\" stroke=\"#000000\" d=\"M2039.2502,-88.9777C2027.7039,-79.4545 2015.1729,-69.1191 2003.689,-59.6473\"/>\n<polygon fill=\"#000000\" stroke=\"#000000\" points=\"2005.8724,-56.9113 1995.9308,-53.2485 2001.4184,-62.3115 2005.8724,-56.9113\"/>\n</g>\n<!-- 37 -->\n<g id=\"node38\" class=\"node\">\n<title>37</title>\n<path fill=\"#fefaf8\" stroke=\"#000000\" d=\"M2117,-53C2117,-53 2046,-53 2046,-53 2040,-53 2034,-47 2034,-41 2034,-41 2034,-12 2034,-12 2034,-6 2040,0 2046,0 2046,0 2117,0 2117,0 2123,0 2129,-6 2129,-12 2129,-12 2129,-41 2129,-41 2129,-47 2123,-53 2117,-53\"/>\n<text text-anchor=\"start\" x=\"2045\" y=\"-37.8\" font-family=\"Helvetica,sans-Serif\" font-size=\"14.00\" fill=\"#000000\">mse = 6.25</text>\n<text text-anchor=\"start\" x=\"2042\" y=\"-22.8\" font-family=\"Helvetica,sans-Serif\" font-size=\"14.00\" fill=\"#000000\">samples = 2</text>\n<text text-anchor=\"start\" x=\"2045.5\" y=\"-7.8\" font-family=\"Helvetica,sans-Serif\" font-size=\"14.00\" fill=\"#000000\">value = 5.5</text>\n</g>\n<!-- 35&#45;&gt;37 -->\n<g id=\"edge37\" class=\"edge\">\n<title>35&#45;&gt;37</title>\n<path fill=\"none\" stroke=\"#000000\" d=\"M2080.8526,-88.9777C2080.938,-80.7364 2081.0297,-71.887 2081.1164,-63.5153\"/>\n<polygon fill=\"#000000\" stroke=\"#000000\" points=\"2084.6189,-63.2842 2081.2228,-53.2485 2077.6193,-63.2116 2084.6189,-63.2842\"/>\n</g>\n<!-- 39 -->\n<g id=\"node40\" class=\"node\">\n<title>39</title>\n<path fill=\"#fffdfb\" stroke=\"#000000\" d=\"M2442.5,-261C2442.5,-261 2354.5,-261 2354.5,-261 2348.5,-261 2342.5,-255 2342.5,-249 2342.5,-249 2342.5,-205 2342.5,-205 2342.5,-199 2348.5,-193 2354.5,-193 2354.5,-193 2442.5,-193 2442.5,-193 2448.5,-193 2454.5,-199 2454.5,-205 2454.5,-205 2454.5,-249 2454.5,-249 2454.5,-255 2448.5,-261 2442.5,-261\"/>\n<text text-anchor=\"start\" x=\"2351.5\" y=\"-245.8\" font-family=\"Helvetica,sans-Serif\" font-size=\"14.00\" fill=\"#000000\">Height ≤ 0.167</text>\n<text text-anchor=\"start\" x=\"2362\" y=\"-230.8\" font-family=\"Helvetica,sans-Serif\" font-size=\"14.00\" fill=\"#000000\">mse = 5.43</text>\n<text text-anchor=\"start\" x=\"2350.5\" y=\"-215.8\" font-family=\"Helvetica,sans-Serif\" font-size=\"14.00\" fill=\"#000000\">samples = 289</text>\n<text text-anchor=\"start\" x=\"2354.5\" y=\"-200.8\" font-family=\"Helvetica,sans-Serif\" font-size=\"14.00\" fill=\"#000000\">value = 3.114</text>\n</g>\n<!-- 38&#45;&gt;39 -->\n<g id=\"edge39\" class=\"edge\">\n<title>38&#45;&gt;39</title>\n<path fill=\"none\" stroke=\"#000000\" d=\"M2398.5,-296.9465C2398.5,-288.776 2398.5,-279.9318 2398.5,-271.3697\"/>\n<polygon fill=\"#000000\" stroke=\"#000000\" points=\"2402.0001,-271.13 2398.5,-261.13 2395.0001,-271.13 2402.0001,-271.13\"/>\n</g>\n<!-- 46 -->\n<g id=\"node47\" class=\"node\">\n<title>46</title>\n<path fill=\"#fefaf7\" stroke=\"#000000\" d=\"M2823.5,-261C2823.5,-261 2699.5,-261 2699.5,-261 2693.5,-261 2687.5,-255 2687.5,-249 2687.5,-249 2687.5,-205 2687.5,-205 2687.5,-199 2693.5,-193 2699.5,-193 2699.5,-193 2823.5,-193 2823.5,-193 2829.5,-193 2835.5,-199 2835.5,-205 2835.5,-205 2835.5,-249 2835.5,-249 2835.5,-255 2829.5,-261 2823.5,-261\"/>\n<text text-anchor=\"start\" x=\"2695.5\" y=\"-245.8\" font-family=\"Helvetica,sans-Serif\" font-size=\"14.00\" fill=\"#000000\">Service time ≤ 0.089</text>\n<text text-anchor=\"start\" x=\"2717\" y=\"-230.8\" font-family=\"Helvetica,sans-Serif\" font-size=\"14.00\" fill=\"#000000\">mse = 15.398</text>\n<text text-anchor=\"start\" x=\"2717.5\" y=\"-215.8\" font-family=\"Helvetica,sans-Serif\" font-size=\"14.00\" fill=\"#000000\">samples = 17</text>\n<text text-anchor=\"start\" x=\"2717.5\" y=\"-200.8\" font-family=\"Helvetica,sans-Serif\" font-size=\"14.00\" fill=\"#000000\">value = 5.882</text>\n</g>\n<!-- 38&#45;&gt;46 -->\n<g id=\"edge46\" class=\"edge\">\n<title>38&#45;&gt;46</title>\n<path fill=\"none\" stroke=\"#000000\" d=\"M2509.3844,-299.2315C2563.5291,-283.7189 2627.6069,-265.3606 2677.6127,-251.0338\"/>\n<polygon fill=\"#000000\" stroke=\"#000000\" points=\"2678.7699,-254.3432 2687.4191,-248.2243 2676.8419,-247.6139 2678.7699,-254.3432\"/>\n</g>\n<!-- 40 -->\n<g id=\"node41\" class=\"node\">\n<title>40</title>\n<path fill=\"#fefcfa\" stroke=\"#000000\" d=\"M2377.5,-157C2377.5,-157 2165.5,-157 2165.5,-157 2159.5,-157 2153.5,-151 2153.5,-145 2153.5,-145 2153.5,-101 2153.5,-101 2153.5,-95 2159.5,-89 2165.5,-89 2165.5,-89 2377.5,-89 2377.5,-89 2383.5,-89 2389.5,-95 2389.5,-101 2389.5,-101 2389.5,-145 2389.5,-145 2389.5,-151 2383.5,-157 2377.5,-157\"/>\n<text text-anchor=\"start\" x=\"2161.5\" y=\"-141.8\" font-family=\"Helvetica,sans-Serif\" font-size=\"14.00\" fill=\"#000000\">Work load Averageperday ≤ 0.756</text>\n<text text-anchor=\"start\" x=\"2231\" y=\"-126.8\" font-family=\"Helvetica,sans-Serif\" font-size=\"14.00\" fill=\"#000000\">mse = 8.073</text>\n<text text-anchor=\"start\" x=\"2227.5\" y=\"-111.8\" font-family=\"Helvetica,sans-Serif\" font-size=\"14.00\" fill=\"#000000\">samples = 54</text>\n<text text-anchor=\"start\" x=\"2227.5\" y=\"-96.8\" font-family=\"Helvetica,sans-Serif\" font-size=\"14.00\" fill=\"#000000\">value = 4.037</text>\n</g>\n<!-- 39&#45;&gt;40 -->\n<g id=\"edge40\" class=\"edge\">\n<title>39&#45;&gt;40</title>\n<path fill=\"none\" stroke=\"#000000\" d=\"M2356.9155,-192.9465C2345.5127,-183.6088 2333.0353,-173.3911 2321.2257,-163.7203\"/>\n<polygon fill=\"#000000\" stroke=\"#000000\" points=\"2323.1324,-160.7578 2313.178,-157.13 2318.6974,-166.1736 2323.1324,-160.7578\"/>\n</g>\n<!-- 43 -->\n<g id=\"node44\" class=\"node\">\n<title>43</title>\n<path fill=\"#fffdfc\" stroke=\"#000000\" d=\"M2631.5,-157C2631.5,-157 2419.5,-157 2419.5,-157 2413.5,-157 2407.5,-151 2407.5,-145 2407.5,-145 2407.5,-101 2407.5,-101 2407.5,-95 2413.5,-89 2419.5,-89 2419.5,-89 2631.5,-89 2631.5,-89 2637.5,-89 2643.5,-95 2643.5,-101 2643.5,-101 2643.5,-145 2643.5,-145 2643.5,-151 2637.5,-157 2631.5,-157\"/>\n<text text-anchor=\"start\" x=\"2415.5\" y=\"-141.8\" font-family=\"Helvetica,sans-Serif\" font-size=\"14.00\" fill=\"#000000\">Work load Averageperday ≤ 0.416</text>\n<text text-anchor=\"start\" x=\"2485\" y=\"-126.8\" font-family=\"Helvetica,sans-Serif\" font-size=\"14.00\" fill=\"#000000\">mse = 4.582</text>\n<text text-anchor=\"start\" x=\"2477.5\" y=\"-111.8\" font-family=\"Helvetica,sans-Serif\" font-size=\"14.00\" fill=\"#000000\">samples = 235</text>\n<text text-anchor=\"start\" x=\"2481.5\" y=\"-96.8\" font-family=\"Helvetica,sans-Serif\" font-size=\"14.00\" fill=\"#000000\">value = 2.902</text>\n</g>\n<!-- 39&#45;&gt;43 -->\n<g id=\"edge43\" class=\"edge\">\n<title>39&#45;&gt;43</title>\n<path fill=\"none\" stroke=\"#000000\" d=\"M2440.0845,-192.9465C2451.4873,-183.6088 2463.9647,-173.3911 2475.7743,-163.7203\"/>\n<polygon fill=\"#000000\" stroke=\"#000000\" points=\"2478.3026,-166.1736 2483.822,-157.13 2473.8676,-160.7578 2478.3026,-166.1736\"/>\n</g>\n<!-- 41 -->\n<g id=\"node42\" class=\"node\">\n<title>41</title>\n<path fill=\"#fefcfa\" stroke=\"#000000\" d=\"M2251.5,-53C2251.5,-53 2171.5,-53 2171.5,-53 2165.5,-53 2159.5,-47 2159.5,-41 2159.5,-41 2159.5,-12 2159.5,-12 2159.5,-6 2165.5,0 2171.5,0 2171.5,0 2251.5,0 2251.5,0 2257.5,0 2263.5,-6 2263.5,-12 2263.5,-12 2263.5,-41 2263.5,-41 2263.5,-47 2257.5,-53 2251.5,-53\"/>\n<text text-anchor=\"start\" x=\"2171\" y=\"-37.8\" font-family=\"Helvetica,sans-Serif\" font-size=\"14.00\" fill=\"#000000\">mse = 5.474</text>\n<text text-anchor=\"start\" x=\"2167.5\" y=\"-22.8\" font-family=\"Helvetica,sans-Serif\" font-size=\"14.00\" fill=\"#000000\">samples = 53</text>\n<text text-anchor=\"start\" x=\"2167.5\" y=\"-7.8\" font-family=\"Helvetica,sans-Serif\" font-size=\"14.00\" fill=\"#000000\">value = 3.811</text>\n</g>\n<!-- 40&#45;&gt;41 -->\n<g id=\"edge41\" class=\"edge\">\n<title>40&#45;&gt;41</title>\n<path fill=\"none\" stroke=\"#000000\" d=\"M2250.3462,-88.9777C2244.8805,-80.187 2238.9846,-70.7044 2233.4778,-61.8477\"/>\n<polygon fill=\"#000000\" stroke=\"#000000\" points=\"2236.3837,-59.8927 2228.1312,-53.2485 2230.4391,-63.5889 2236.3837,-59.8927\"/>\n</g>\n<!-- 42 -->\n<g id=\"node43\" class=\"node\">\n<title>42</title>\n<path fill=\"#fcefe6\" stroke=\"#000000\" d=\"M2365.5,-53C2365.5,-53 2293.5,-53 2293.5,-53 2287.5,-53 2281.5,-47 2281.5,-41 2281.5,-41 2281.5,-12 2281.5,-12 2281.5,-6 2287.5,0 2293.5,0 2293.5,0 2365.5,0 2365.5,0 2371.5,0 2377.5,-6 2377.5,-12 2377.5,-12 2377.5,-41 2377.5,-41 2377.5,-47 2371.5,-53 2365.5,-53\"/>\n<text text-anchor=\"start\" x=\"2297.5\" y=\"-37.8\" font-family=\"Helvetica,sans-Serif\" font-size=\"14.00\" fill=\"#000000\">mse = 0.0</text>\n<text text-anchor=\"start\" x=\"2290\" y=\"-22.8\" font-family=\"Helvetica,sans-Serif\" font-size=\"14.00\" fill=\"#000000\">samples = 1</text>\n<text text-anchor=\"start\" x=\"2289.5\" y=\"-7.8\" font-family=\"Helvetica,sans-Serif\" font-size=\"14.00\" fill=\"#000000\">value = 16.0</text>\n</g>\n<!-- 40&#45;&gt;42 -->\n<g id=\"edge42\" class=\"edge\">\n<title>40&#45;&gt;42</title>\n<path fill=\"none\" stroke=\"#000000\" d=\"M2291.9486,-88.9777C2297.2322,-80.187 2302.9316,-70.7044 2308.2548,-61.8477\"/>\n<polygon fill=\"#000000\" stroke=\"#000000\" points=\"2311.2715,-63.6225 2313.4232,-53.2485 2305.2718,-60.0165 2311.2715,-63.6225\"/>\n</g>\n<!-- 44 -->\n<g id=\"node45\" class=\"node\">\n<title>44</title>\n<path fill=\"#fffdfb\" stroke=\"#000000\" d=\"M2501.5,-53C2501.5,-53 2413.5,-53 2413.5,-53 2407.5,-53 2401.5,-47 2401.5,-41 2401.5,-41 2401.5,-12 2401.5,-12 2401.5,-6 2407.5,0 2413.5,0 2413.5,0 2501.5,0 2501.5,0 2507.5,0 2513.5,-6 2513.5,-12 2513.5,-12 2513.5,-41 2513.5,-41 2513.5,-47 2507.5,-53 2501.5,-53\"/>\n<text text-anchor=\"start\" x=\"2417\" y=\"-37.8\" font-family=\"Helvetica,sans-Serif\" font-size=\"14.00\" fill=\"#000000\">mse = 5.517</text>\n<text text-anchor=\"start\" x=\"2409.5\" y=\"-22.8\" font-family=\"Helvetica,sans-Serif\" font-size=\"14.00\" fill=\"#000000\">samples = 166</text>\n<text text-anchor=\"start\" x=\"2413.5\" y=\"-7.8\" font-family=\"Helvetica,sans-Serif\" font-size=\"14.00\" fill=\"#000000\">value = 3.235</text>\n</g>\n<!-- 43&#45;&gt;44 -->\n<g id=\"edge44\" class=\"edge\">\n<title>43&#45;&gt;44</title>\n<path fill=\"none\" stroke=\"#000000\" d=\"M2501.5257,-88.9777C2495.2667,-80.0954 2488.5099,-70.5067 2482.2133,-61.5711\"/>\n<polygon fill=\"#000000\" stroke=\"#000000\" points=\"2484.9699,-59.4068 2476.3487,-53.2485 2479.2479,-63.4389 2484.9699,-59.4068\"/>\n</g>\n<!-- 45 -->\n<g id=\"node46\" class=\"node\">\n<title>45</title>\n<path fill=\"#fffefd\" stroke=\"#000000\" d=\"M2623.5,-53C2623.5,-53 2543.5,-53 2543.5,-53 2537.5,-53 2531.5,-47 2531.5,-41 2531.5,-41 2531.5,-12 2531.5,-12 2531.5,-6 2537.5,0 2543.5,0 2543.5,0 2623.5,0 2623.5,0 2629.5,0 2635.5,-6 2635.5,-12 2635.5,-12 2635.5,-41 2635.5,-41 2635.5,-47 2629.5,-53 2623.5,-53\"/>\n<text text-anchor=\"start\" x=\"2543\" y=\"-37.8\" font-family=\"Helvetica,sans-Serif\" font-size=\"14.00\" fill=\"#000000\">mse = 1.424</text>\n<text text-anchor=\"start\" x=\"2539.5\" y=\"-22.8\" font-family=\"Helvetica,sans-Serif\" font-size=\"14.00\" fill=\"#000000\">samples = 69</text>\n<text text-anchor=\"start\" x=\"2539.5\" y=\"-7.8\" font-family=\"Helvetica,sans-Serif\" font-size=\"14.00\" fill=\"#000000\">value = 2.101</text>\n</g>\n<!-- 43&#45;&gt;45 -->\n<g id=\"edge45\" class=\"edge\">\n<title>43&#45;&gt;45</title>\n<path fill=\"none\" stroke=\"#000000\" d=\"M2545.9486,-88.9777C2551.2322,-80.187 2556.9316,-70.7044 2562.2548,-61.8477\"/>\n<polygon fill=\"#000000\" stroke=\"#000000\" points=\"2565.2715,-63.6225 2567.4232,-53.2485 2559.2718,-60.0165 2565.2715,-63.6225\"/>\n</g>\n<!-- 47 -->\n<g id=\"node48\" class=\"node\">\n<title>47</title>\n<path fill=\"#fffefd\" stroke=\"#000000\" d=\"M2849.5,-157C2849.5,-157 2673.5,-157 2673.5,-157 2667.5,-157 2661.5,-151 2661.5,-145 2661.5,-145 2661.5,-101 2661.5,-101 2661.5,-95 2667.5,-89 2673.5,-89 2673.5,-89 2849.5,-89 2849.5,-89 2855.5,-89 2861.5,-95 2861.5,-101 2861.5,-101 2861.5,-145 2861.5,-145 2861.5,-151 2855.5,-157 2849.5,-157\"/>\n<text text-anchor=\"start\" x=\"2669.5\" y=\"-141.8\" font-family=\"Helvetica,sans-Serif\" font-size=\"14.00\" fill=\"#000000\">Reason for absence ≤ 0.852</text>\n<text text-anchor=\"start\" x=\"2725\" y=\"-126.8\" font-family=\"Helvetica,sans-Serif\" font-size=\"14.00\" fill=\"#000000\">mse = 5.44</text>\n<text text-anchor=\"start\" x=\"2722\" y=\"-111.8\" font-family=\"Helvetica,sans-Serif\" font-size=\"14.00\" fill=\"#000000\">samples = 5</text>\n<text text-anchor=\"start\" x=\"2725.5\" y=\"-96.8\" font-family=\"Helvetica,sans-Serif\" font-size=\"14.00\" fill=\"#000000\">value = 2.4</text>\n</g>\n<!-- 46&#45;&gt;47 -->\n<g id=\"edge47\" class=\"edge\">\n<title>46&#45;&gt;47</title>\n<path fill=\"none\" stroke=\"#000000\" d=\"M2761.5,-192.9465C2761.5,-184.776 2761.5,-175.9318 2761.5,-167.3697\"/>\n<polygon fill=\"#000000\" stroke=\"#000000\" points=\"2765.0001,-167.13 2761.5,-157.13 2758.0001,-167.13 2765.0001,-167.13\"/>\n</g>\n<!-- 50 -->\n<g id=\"node51\" class=\"node\">\n<title>50</title>\n<path fill=\"#fef8f4\" stroke=\"#000000\" d=\"M2993.5,-157C2993.5,-157 2891.5,-157 2891.5,-157 2885.5,-157 2879.5,-151 2879.5,-145 2879.5,-145 2879.5,-101 2879.5,-101 2879.5,-95 2885.5,-89 2891.5,-89 2891.5,-89 2993.5,-89 2993.5,-89 2999.5,-89 3005.5,-95 3005.5,-101 3005.5,-101 3005.5,-145 3005.5,-145 3005.5,-151 2999.5,-157 2993.5,-157\"/>\n<text text-anchor=\"start\" x=\"2887.5\" y=\"-141.8\" font-family=\"Helvetica,sans-Serif\" font-size=\"14.00\" fill=\"#000000\">Seasons ≤ 0.167</text>\n<text text-anchor=\"start\" x=\"2898\" y=\"-126.8\" font-family=\"Helvetica,sans-Serif\" font-size=\"14.00\" fill=\"#000000\">mse = 12.389</text>\n<text text-anchor=\"start\" x=\"2898.5\" y=\"-111.8\" font-family=\"Helvetica,sans-Serif\" font-size=\"14.00\" fill=\"#000000\">samples = 12</text>\n<text text-anchor=\"start\" x=\"2898.5\" y=\"-96.8\" font-family=\"Helvetica,sans-Serif\" font-size=\"14.00\" fill=\"#000000\">value = 7.333</text>\n</g>\n<!-- 46&#45;&gt;50 -->\n<g id=\"edge50\" class=\"edge\">\n<title>46&#45;&gt;50</title>\n<path fill=\"none\" stroke=\"#000000\" d=\"M2820.7662,-192.9465C2837.7986,-183.1599 2856.5134,-172.4066 2874.0517,-162.3294\"/>\n<polygon fill=\"#000000\" stroke=\"#000000\" points=\"2876.1738,-165.1468 2883.1007,-157.13 2872.6863,-159.0773 2876.1738,-165.1468\"/>\n</g>\n<!-- 48 -->\n<g id=\"node49\" class=\"node\">\n<title>48</title>\n<path fill=\"#ffffff\" stroke=\"#000000\" d=\"M2740,-53C2740,-53 2669,-53 2669,-53 2663,-53 2657,-47 2657,-41 2657,-41 2657,-12 2657,-12 2657,-6 2663,0 2669,0 2669,0 2740,0 2740,0 2746,0 2752,-6 2752,-12 2752,-12 2752,-41 2752,-41 2752,-47 2746,-53 2740,-53\"/>\n<text text-anchor=\"start\" x=\"2672.5\" y=\"-37.8\" font-family=\"Helvetica,sans-Serif\" font-size=\"14.00\" fill=\"#000000\">mse = 0.0</text>\n<text text-anchor=\"start\" x=\"2665\" y=\"-22.8\" font-family=\"Helvetica,sans-Serif\" font-size=\"14.00\" fill=\"#000000\">samples = 3</text>\n<text text-anchor=\"start\" x=\"2668.5\" y=\"-7.8\" font-family=\"Helvetica,sans-Serif\" font-size=\"14.00\" fill=\"#000000\">value = 1.0</text>\n</g>\n<!-- 47&#45;&gt;48 -->\n<g id=\"edge48\" class=\"edge\">\n<title>47&#45;&gt;48</title>\n<path fill=\"none\" stroke=\"#000000\" d=\"M2741.4039,-88.9777C2736.2656,-80.2786 2730.727,-70.9018 2725.5425,-62.1247\"/>\n<polygon fill=\"#000000\" stroke=\"#000000\" points=\"2728.399,-60.0786 2720.2996,-53.2485 2722.3719,-63.6387 2728.399,-60.0786\"/>\n</g>\n<!-- 49 -->\n<g id=\"node50\" class=\"node\">\n<title>49</title>\n<path fill=\"#fefbf9\" stroke=\"#000000\" d=\"M2853,-53C2853,-53 2782,-53 2782,-53 2776,-53 2770,-47 2770,-41 2770,-41 2770,-12 2770,-12 2770,-6 2776,0 2782,0 2782,0 2853,0 2853,0 2859,0 2865,-6 2865,-12 2865,-12 2865,-41 2865,-41 2865,-47 2859,-53 2853,-53\"/>\n<text text-anchor=\"start\" x=\"2781\" y=\"-37.8\" font-family=\"Helvetica,sans-Serif\" font-size=\"14.00\" fill=\"#000000\">mse = 6.25</text>\n<text text-anchor=\"start\" x=\"2778\" y=\"-22.8\" font-family=\"Helvetica,sans-Serif\" font-size=\"14.00\" fill=\"#000000\">samples = 2</text>\n<text text-anchor=\"start\" x=\"2781.5\" y=\"-7.8\" font-family=\"Helvetica,sans-Serif\" font-size=\"14.00\" fill=\"#000000\">value = 4.5</text>\n</g>\n<!-- 47&#45;&gt;49 -->\n<g id=\"edge49\" class=\"edge\">\n<title>47&#45;&gt;49</title>\n<path fill=\"none\" stroke=\"#000000\" d=\"M2781.2435,-88.9777C2786.2917,-80.2786 2791.7331,-70.9018 2796.8266,-62.1247\"/>\n<polygon fill=\"#000000\" stroke=\"#000000\" points=\"2799.9855,-63.6544 2801.9776,-53.2485 2793.9311,-60.1409 2799.9855,-63.6544\"/>\n</g>\n<!-- 51 -->\n<g id=\"node52\" class=\"node\">\n<title>51</title>\n<path fill=\"#fdf5ef\" stroke=\"#000000\" d=\"M2986,-53C2986,-53 2897,-53 2897,-53 2891,-53 2885,-47 2885,-41 2885,-41 2885,-12 2885,-12 2885,-6 2891,0 2897,0 2897,0 2986,0 2986,0 2992,0 2998,-6 2998,-12 2998,-12 2998,-41 2998,-41 2998,-47 2992,-53 2986,-53\"/>\n<text text-anchor=\"start\" x=\"2897\" y=\"-37.8\" font-family=\"Helvetica,sans-Serif\" font-size=\"14.00\" fill=\"#000000\">mse = 14.222</text>\n<text text-anchor=\"start\" x=\"2902\" y=\"-22.8\" font-family=\"Helvetica,sans-Serif\" font-size=\"14.00\" fill=\"#000000\">samples = 3</text>\n<text text-anchor=\"start\" x=\"2893\" y=\"-7.8\" font-family=\"Helvetica,sans-Serif\" font-size=\"14.00\" fill=\"#000000\">value = 10.667</text>\n</g>\n<!-- 50&#45;&gt;51 -->\n<g id=\"edge51\" class=\"edge\">\n<title>50&#45;&gt;51</title>\n<path fill=\"none\" stroke=\"#000000\" d=\"M2942.1474,-88.9777C2942.062,-80.7364 2941.9703,-71.887 2941.8836,-63.5153\"/>\n<polygon fill=\"#000000\" stroke=\"#000000\" points=\"2945.3807,-63.2116 2941.7772,-53.2485 2938.3811,-63.2842 2945.3807,-63.2116\"/>\n</g>\n<!-- 52 -->\n<g id=\"node53\" class=\"node\">\n<title>52</title>\n<path fill=\"#fef9f6\" stroke=\"#000000\" d=\"M3108.5,-53C3108.5,-53 3028.5,-53 3028.5,-53 3022.5,-53 3016.5,-47 3016.5,-41 3016.5,-41 3016.5,-12 3016.5,-12 3016.5,-6 3022.5,0 3028.5,0 3028.5,0 3108.5,0 3108.5,0 3114.5,0 3120.5,-6 3120.5,-12 3120.5,-12 3120.5,-41 3120.5,-41 3120.5,-47 3114.5,-53 3108.5,-53\"/>\n<text text-anchor=\"start\" x=\"3032\" y=\"-37.8\" font-family=\"Helvetica,sans-Serif\" font-size=\"14.00\" fill=\"#000000\">mse = 6.84</text>\n<text text-anchor=\"start\" x=\"3029\" y=\"-22.8\" font-family=\"Helvetica,sans-Serif\" font-size=\"14.00\" fill=\"#000000\">samples = 9</text>\n<text text-anchor=\"start\" x=\"3024.5\" y=\"-7.8\" font-family=\"Helvetica,sans-Serif\" font-size=\"14.00\" fill=\"#000000\">value = 6.222</text>\n</g>\n<!-- 50&#45;&gt;52 -->\n<g id=\"edge52\" class=\"edge\">\n<title>50&#45;&gt;52</title>\n<path fill=\"none\" stroke=\"#000000\" d=\"M2986.9229,-88.9777C2999.477,-79.3629 3013.1119,-68.9203 3025.576,-59.3743\"/>\n<polygon fill=\"#000000\" stroke=\"#000000\" points=\"3027.7635,-62.1076 3033.5745,-53.2485 3023.5073,-56.5502 3027.7635,-62.1076\"/>\n</g>\n</g>\n</svg>\n"
          },
          "metadata": {
            "tags": []
          },
          "execution_count": 203
        }
      ]
    }
  ]
}