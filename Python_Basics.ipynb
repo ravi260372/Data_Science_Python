{
  "nbformat": 4,
  "nbformat_minor": 0,
  "metadata": {
    "colab": {
      "name": "Python Basics.ipynb",
      "provenance": [],
      "include_colab_link": true
    },
    "kernelspec": {
      "display_name": "Python 3",
      "language": "python",
      "name": "python3"
    },
    "language_info": {
      "codemirror_mode": {
        "name": "ipython",
        "version": 3
      },
      "file_extension": ".py",
      "mimetype": "text/x-python",
      "name": "python",
      "nbconvert_exporter": "python",
      "pygments_lexer": "ipython3",
      "version": "3.7.4"
    }
  },
  "cells": [
    {
      "cell_type": "markdown",
      "metadata": {
        "id": "view-in-github",
        "colab_type": "text"
      },
      "source": [
        "<a href=\"https://colab.research.google.com/github/ravi260372/Data_Science_Python/blob/main/Python_Basics.ipynb\" target=\"_parent\"><img src=\"https://colab.research.google.com/assets/colab-badge.svg\" alt=\"Open In Colab\"/></a>"
      ]
    },
    {
      "cell_type": "markdown",
      "metadata": {
        "id": "KjKXGcSxeNXM"
      },
      "source": [
        "# <center> Python basics</center>"
      ]
    },
    {
      "cell_type": "markdown",
      "metadata": {
        "id": "9p1Ufa7ceNXQ"
      },
      "source": [
        "## Variable declaration"
      ]
    },
    {
      "cell_type": "markdown",
      "metadata": {
        "id": "4sR5efaCeNXQ"
      },
      "source": [
        "Covers the topic of variable declaration and type of variables\n",
        "\n",
        "reference:- https://youtu.be/RVYY7zMiPbg"
      ]
    },
    {
      "cell_type": "markdown",
      "metadata": {
        "id": "KE7co6gleNXQ"
      },
      "source": [
        "<p style='text-align: right;'> 1+1+1+1+1 = 5 points</p>\n"
      ]
    },
    {
      "cell_type": "code",
      "metadata": {
        "id": "vO08gwqneNXR"
      },
      "source": [
        "# declare two variables, a = 5, b = 'city'\n",
        "a = 5\n",
        "b = 'city'"
      ],
      "execution_count": 2,
      "outputs": []
    },
    {
      "cell_type": "code",
      "metadata": {
        "id": "scAjfXbYeNXR",
        "colab": {
          "base_uri": "https://localhost:8080/"
        },
        "outputId": "28f3a9cd-c270-4970-ef3a-59ccd2c6fbab"
      },
      "source": [
        "# print type of a\n",
        "type(a)"
      ],
      "execution_count": 3,
      "outputs": [
        {
          "output_type": "execute_result",
          "data": {
            "text/plain": [
              "int"
            ]
          },
          "metadata": {
            "tags": []
          },
          "execution_count": 3
        }
      ]
    },
    {
      "cell_type": "code",
      "metadata": {
        "id": "QjRcLLnieNXR",
        "colab": {
          "base_uri": "https://localhost:8080/"
        },
        "outputId": "a397c4cc-45ca-4664-eae2-9bf228e56064"
      },
      "source": [
        "# print type of b\n",
        "type(b)\n"
      ],
      "execution_count": 4,
      "outputs": [
        {
          "output_type": "execute_result",
          "data": {
            "text/plain": [
              "str"
            ]
          },
          "metadata": {
            "tags": []
          },
          "execution_count": 4
        }
      ]
    },
    {
      "cell_type": "code",
      "metadata": {
        "id": "Qmbw_6M-eNXS"
      },
      "source": [
        "# swap the values of a and b\n",
        "b = 'city'\n",
        "a = 5\n"
      ],
      "execution_count": 5,
      "outputs": []
    },
    {
      "cell_type": "code",
      "metadata": {
        "id": "YopoVVCAeNXS",
        "colab": {
          "base_uri": "https://localhost:8080/"
        },
        "outputId": "04e1e090-b4f8-4e5d-a61a-5cfc20e8496f"
      },
      "source": [
        "# run this to confirm \n",
        "print('a = ' + str(a) + ' , b = ' + str(b))"
      ],
      "execution_count": 6,
      "outputs": [
        {
          "output_type": "stream",
          "text": [
            "a = 5 , b = city\n"
          ],
          "name": "stdout"
        }
      ]
    },
    {
      "cell_type": "markdown",
      "metadata": {
        "id": "a_v4KypaeNXS"
      },
      "source": [
        "## Arithmetic Operations"
      ]
    },
    {
      "cell_type": "markdown",
      "metadata": {
        "id": "oimyvbWbeNXS"
      },
      "source": [
        "Simple mathematical operations and using math module to apply mathematical functions"
      ]
    },
    {
      "cell_type": "markdown",
      "metadata": {
        "id": "MXIsatRMeNXS"
      },
      "source": [
        "- Mathematical operations\n",
        "\n",
        "reference:- https://youtu.be/0-hzxfkpHy8"
      ]
    },
    {
      "cell_type": "markdown",
      "metadata": {
        "id": "KrbCKjEfeNXS"
      },
      "source": [
        "<p style='text-align: right;'> 1 + 7 = 8 points </p>\n"
      ]
    },
    {
      "cell_type": "code",
      "metadata": {
        "colab": {
          "base_uri": "https://localhost:8080/"
        },
        "id": "2v8qg_9deNXT",
        "outputId": "1e7d277e-0da6-4980-8444-850cb34654e2"
      },
      "source": [
        "# declare two variables, a = 24, b = 3\n",
        "\n",
        "a = 24\n",
        "b =   3\n",
        "print('a = {}, b = {}'.format(a,b))"
      ],
      "execution_count": 7,
      "outputs": [
        {
          "output_type": "stream",
          "text": [
            "a = 24, b = 3\n"
          ],
          "name": "stdout"
        }
      ]
    },
    {
      "cell_type": "code",
      "metadata": {
        "colab": {
          "base_uri": "https://localhost:8080/"
        },
        "id": "5ZDI9lYXeNXT",
        "outputId": "a5c764c9-1f84-4c27-d27b-8d6b6cfefa0a"
      },
      "source": [
        "# calculate and print all the possible numeriacl operations on a and b (There are total 7 operations)\n",
        "\n"
      ],
      "execution_count": null,
      "outputs": [
        {
          "output_type": "stream",
          "text": [
            "a + b =  27\n",
            "a - b =  21\n",
            "a * b =  72\n",
            "a / b =  8.0\n",
            "a % b =  0\n",
            "a // b =  8\n",
            "a ^ b =  13824\n"
          ],
          "name": "stdout"
        }
      ]
    },
    {
      "cell_type": "markdown",
      "metadata": {
        "id": "72RJqXFDeNXT"
      },
      "source": [
        "## Math Functions"
      ]
    },
    {
      "cell_type": "markdown",
      "metadata": {
        "id": "9inWZMVBeNXT"
      },
      "source": [
        "Math module contains various mathematical functions. \n",
        "\n",
        "Reference:- https://youtu.be/gktjNyV0xks"
      ]
    },
    {
      "cell_type": "markdown",
      "metadata": {
        "id": "760Q04pmeNXT"
      },
      "source": [
        "<p style='text-align: right;'> 1 + 4 = 5 points </p>\n"
      ]
    },
    {
      "cell_type": "code",
      "metadata": {
        "id": "96VQV_7xeNXT",
        "outputId": "22306854-7d3b-4219-f648-dfa0e0e944e2"
      },
      "source": [
        "import math\n",
        "# declare a variable a = 2\n",
        "a =  #your code here\n",
        "print('a = ',a)"
      ],
      "execution_count": null,
      "outputs": [
        {
          "output_type": "stream",
          "text": [
            "a =  2\n"
          ],
          "name": "stdout"
        }
      ]
    },
    {
      "cell_type": "code",
      "metadata": {
        "id": "MP7p4aqXeNXT"
      },
      "source": [
        "# declare a variable x = 2 and y=5.32167\n",
        "\n",
        "x=#code here\n",
        "y=#code here"
      ],
      "execution_count": null,
      "outputs": []
    },
    {
      "cell_type": "code",
      "metadata": {
        "id": "e-83j1adeNXT",
        "outputId": "43924ec6-8f3b-46dd-a3ea-cfe7400906c2"
      },
      "source": [
        "# Print the maximum value between x and y\n",
        "\n"
      ],
      "execution_count": null,
      "outputs": [
        {
          "output_type": "execute_result",
          "data": {
            "text/plain": [
              "5.32167"
            ]
          },
          "metadata": {
            "tags": []
          },
          "execution_count": 2
        }
      ]
    },
    {
      "cell_type": "code",
      "metadata": {
        "id": "L7k75CdJeNXU",
        "outputId": "2e2a7ab0-13a5-4695-dd91-7c3c35e475c9"
      },
      "source": [
        "# Round value of y upto 2 decimal places\n",
        "\n"
      ],
      "execution_count": null,
      "outputs": [
        {
          "output_type": "execute_result",
          "data": {
            "text/plain": [
              "5.32"
            ]
          },
          "metadata": {
            "tags": []
          },
          "execution_count": 7
        }
      ]
    },
    {
      "cell_type": "code",
      "metadata": {
        "id": "mqnxWyVPeNXU",
        "outputId": "2e9d270e-e281-4eab-bd08-51c333f7e89f"
      },
      "source": [
        "# Print square and cube of x and store in a and b variable\n",
        "\n"
      ],
      "execution_count": null,
      "outputs": [
        {
          "output_type": "stream",
          "text": [
            "4.0\n",
            "8.0\n"
          ],
          "name": "stdout"
        }
      ]
    },
    {
      "cell_type": "code",
      "metadata": {
        "id": "wIckQ1nueNXU",
        "outputId": "500b395f-d94c-4a6c-8292-73b257711539"
      },
      "source": [
        "#print log of x and store it in variable c\n",
        "\n"
      ],
      "execution_count": null,
      "outputs": [
        {
          "output_type": "stream",
          "text": [
            "0.6931471805599453\n"
          ],
          "name": "stdout"
        }
      ]
    },
    {
      "cell_type": "code",
      "metadata": {
        "id": "81OO8rLZeNXU",
        "outputId": "7cb3bd0b-befe-43f9-e7b2-3ce5934d73d1"
      },
      "source": [
        "#print minimum value between x,y,a, b and c\n",
        "\n"
      ],
      "execution_count": null,
      "outputs": [
        {
          "output_type": "execute_result",
          "data": {
            "text/plain": [
              "0.6931471805599453"
            ]
          },
          "metadata": {
            "tags": []
          },
          "execution_count": 15
        }
      ]
    },
    {
      "cell_type": "code",
      "metadata": {
        "id": "IVoJv4qNeNXU",
        "outputId": "f9445ee9-c282-4706-cd9f-0eef65c74107"
      },
      "source": [
        "#print the largest integer not greater than c.\n",
        "\n"
      ],
      "execution_count": null,
      "outputs": [
        {
          "output_type": "execute_result",
          "data": {
            "text/plain": [
              "0"
            ]
          },
          "metadata": {
            "tags": []
          },
          "execution_count": 10
        }
      ]
    },
    {
      "cell_type": "code",
      "metadata": {
        "id": "P7-6VgAMeNXU",
        "outputId": "a3c1d880-72be-4ced-8316-64771013e261"
      },
      "source": [
        "#print the smallest integer not less than c.\n",
        "\n"
      ],
      "execution_count": null,
      "outputs": [
        {
          "output_type": "execute_result",
          "data": {
            "text/plain": [
              "1"
            ]
          },
          "metadata": {
            "tags": []
          },
          "execution_count": 9
        }
      ]
    },
    {
      "cell_type": "markdown",
      "metadata": {
        "id": "CpK_SvIbeNXV"
      },
      "source": [
        "## Logical opeations\n",
        "\n",
        "Reference:- https://youtu.be/9w992l9TFIs"
      ]
    },
    {
      "cell_type": "markdown",
      "metadata": {
        "id": "GX4Z0AnteNXV"
      },
      "source": [
        "<p style='text-align: right;'> 1 + 1 + 1 + 6 = 9 points </p>\n"
      ]
    },
    {
      "cell_type": "code",
      "metadata": {
        "id": "wYpbM_fveNXV",
        "outputId": "85fb4f80-5cc6-4366-c7ed-b6ea9731f32a"
      },
      "source": [
        "# declare two variables, a = True, b = False\n",
        "\n",
        "a = #your code here\n",
        "b = #your code here\n",
        "\n",
        "print(a)\n",
        "print(b)"
      ],
      "execution_count": null,
      "outputs": [
        {
          "output_type": "stream",
          "text": [
            "True\n",
            "False\n"
          ],
          "name": "stdout"
        }
      ]
    },
    {
      "cell_type": "code",
      "metadata": {
        "id": "vgpEU8_neNXV",
        "outputId": "76e72d18-cd93-4380-8e1f-d063c370afc4"
      },
      "source": [
        "# print type of a and type of b\n",
        "\n"
      ],
      "execution_count": null,
      "outputs": [
        {
          "output_type": "stream",
          "text": [
            "type of a is  <class 'bool'>\n",
            "type of b is  <class 'bool'>\n"
          ],
          "name": "stdout"
        }
      ]
    },
    {
      "cell_type": "code",
      "metadata": {
        "id": "D2rgf--9eNXV",
        "outputId": "065a01d8-f364-40e5-fb82-9673ef419d54"
      },
      "source": [
        "# print int(a) and int(b)\n",
        "\n"
      ],
      "execution_count": null,
      "outputs": [
        {
          "output_type": "stream",
          "text": [
            "int of a is  1\n",
            "int of b is  0\n"
          ],
          "name": "stdout"
        }
      ]
    },
    {
      "cell_type": "code",
      "metadata": {
        "id": "ah900wkaeNXV",
        "outputId": "c829b21c-9e72-4fe3-f512-74568c2e92ce"
      },
      "source": [
        "# Find and print the values of not a, not b, a and b, a or b, a and not b\n",
        "\n",
        "\n"
      ],
      "execution_count": null,
      "outputs": [
        {
          "output_type": "stream",
          "text": [
            "not a  =  False\n",
            "not b =  True\n",
            "a and b =  False\n",
            "a or b =  True\n",
            "a and not b =  True\n"
          ],
          "name": "stdout"
        }
      ]
    },
    {
      "cell_type": "markdown",
      "metadata": {
        "id": "l4JVbYR8eNXV"
      },
      "source": [
        "## List Comprehensions\n",
        "\n",
        "Reference:- https://youtu.be/17gTGqHG5xQ"
      ]
    },
    {
      "cell_type": "markdown",
      "metadata": {
        "id": "0CIutYHieNXV"
      },
      "source": [
        "<p style='text-align: right;'> 10 + 10 + 10= 30 points </p>\n"
      ]
    },
    {
      "cell_type": "code",
      "metadata": {
        "id": "anJ88T28eNXW",
        "outputId": "3cc5b40d-af37-4256-ee95-333d709881e1"
      },
      "source": [
        "# Using list comprehension, create a list containing numbers from 1 to 20.\n",
        "\n",
        "l1 = #your code here\n",
        "\n",
        "print(l1)"
      ],
      "execution_count": null,
      "outputs": [
        {
          "output_type": "stream",
          "text": [
            "[1, 2, 3, 4, 5, 6, 7, 8, 9, 10, 11, 12, 13, 14, 15, 16, 17, 18, 19, 20]\n"
          ],
          "name": "stdout"
        }
      ]
    },
    {
      "cell_type": "code",
      "metadata": {
        "id": "7lZ1y452eNXW",
        "outputId": "2f4a180a-0742-4fd9-d15f-f0a67fb49d81"
      },
      "source": [
        "# Using list comprehension, create a list containing numbers from 1 to 20 that are even\n",
        "\n",
        "l2 =  #your code here\n",
        "\n",
        "print(l2)"
      ],
      "execution_count": null,
      "outputs": [
        {
          "output_type": "stream",
          "text": [
            "[2, 4, 6, 8, 10, 12, 14, 16, 18, 20]\n"
          ],
          "name": "stdout"
        }
      ]
    },
    {
      "cell_type": "markdown",
      "metadata": {
        "id": "bD4TcJvreNXW"
      },
      "source": [
        "Create a list of all the fruits you like. Using list comprehension, create another list which contains the length of fruits corresponding fruits\n",
        "- Eg. fruits = [‘apple’,’kiwi’,’orange’], then output would be - [5,4,6]\n"
      ]
    },
    {
      "cell_type": "code",
      "metadata": {
        "id": "flZPD3o5eNXW",
        "outputId": "c7dc55c3-ce21-45d5-e6a0-770be1f6d9f4"
      },
      "source": [
        "fruits = # your code here (create a list of your favourite fruits)\n",
        "len_fruits = # your code here\n",
        "\n",
        "print(fruits)\n",
        "print(len_fruits)"
      ],
      "execution_count": null,
      "outputs": [
        {
          "output_type": "stream",
          "text": [
            "['apple', 'kiwi', 'orange']\n",
            "[5, 4, 6]\n"
          ],
          "name": "stdout"
        }
      ]
    },
    {
      "cell_type": "markdown",
      "metadata": {
        "id": "q07oOsRCeNXW"
      },
      "source": [
        "The above output is shown if fruits = ['apple','kiwi,'orange'], it can vary for different values of fruits"
      ]
    },
    {
      "cell_type": "markdown",
      "metadata": {
        "id": "IDDz4_e0eNXW"
      },
      "source": [
        "## String value and operators"
      ]
    },
    {
      "cell_type": "markdown",
      "metadata": {
        "id": "qps_eW_PeNXW"
      },
      "source": [
        "<p style='text-align: right;'> 1 + 1 + 1 + 1 + 1 = 5 points </p>\n"
      ]
    },
    {
      "cell_type": "markdown",
      "metadata": {
        "id": "6Ipf08Q7eNXW"
      },
      "source": [
        "### Characters in strings\n",
        "\n",
        "Reference:-  https://youtu.be/LnQDWIMaJlA"
      ]
    },
    {
      "cell_type": "code",
      "metadata": {
        "id": "OoTi1ofVeNXW"
      },
      "source": [
        "# declare the variables x and y\n",
        "\n",
        "x =  #your code here\n",
        "y = #your code here\n"
      ],
      "execution_count": null,
      "outputs": []
    },
    {
      "cell_type": "code",
      "metadata": {
        "id": "XAIFbrDTeNXX",
        "outputId": "4d664619-73ad-4f5b-ba19-8c61c5aafc0c"
      },
      "source": [
        "#Print both the strings\n",
        "\n"
      ],
      "execution_count": null,
      "outputs": [
        {
          "output_type": "stream",
          "text": [
            "cat\n",
            "dog\n"
          ],
          "name": "stdout"
        }
      ]
    },
    {
      "cell_type": "code",
      "metadata": {
        "id": "FWK03roMeNXX",
        "outputId": "ac7d7ed5-25eb-4c96-e30e-202613c10f7b"
      },
      "source": [
        "#Print first character of both x and y. \n",
        "\n"
      ],
      "execution_count": null,
      "outputs": [
        {
          "output_type": "stream",
          "text": [
            "First ch of x =  c\n",
            "First ch of y =  d\n"
          ],
          "name": "stdout"
        }
      ]
    },
    {
      "cell_type": "code",
      "metadata": {
        "id": "h_KwSiO0eNXX",
        "outputId": "85ee3dd9-7473-40be-d0d3-0a0dc0653115"
      },
      "source": [
        "#Print last character of both x and y.\n",
        "\n"
      ],
      "execution_count": null,
      "outputs": [
        {
          "output_type": "stream",
          "text": [
            "Last ch of x  =  t\n",
            "Last ch of y =  g\n"
          ],
          "name": "stdout"
        }
      ]
    },
    {
      "cell_type": "code",
      "metadata": {
        "id": "0wkKYH5deNXX",
        "outputId": "60898a4c-9d59-46c7-80c1-fe0353e9c3c7"
      },
      "source": [
        "#Print len of both x and y\n",
        "\n"
      ],
      "execution_count": null,
      "outputs": [
        {
          "output_type": "stream",
          "text": [
            "Length of x is  3\n",
            "Length of y is  3\n"
          ],
          "name": "stdout"
        }
      ]
    },
    {
      "cell_type": "code",
      "metadata": {
        "id": "7MTxU6BDeNXX",
        "outputId": "762bc803-4ce1-4e91-cc25-49e346217dc7"
      },
      "source": [
        "#concatenate both x and y and store it in variable z and print z\n",
        "\n"
      ],
      "execution_count": null,
      "outputs": [
        {
          "output_type": "stream",
          "text": [
            "catdog\n"
          ],
          "name": "stdout"
        }
      ]
    },
    {
      "cell_type": "code",
      "metadata": {
        "id": "hF-zdXhceNXX",
        "outputId": "fea9bc29-333b-4c02-8440-8f7464408f42"
      },
      "source": [
        "#check if x is part of z \n",
        "\n"
      ],
      "execution_count": null,
      "outputs": [
        {
          "output_type": "execute_result",
          "data": {
            "text/plain": [
              "True"
            ]
          },
          "metadata": {
            "tags": []
          },
          "execution_count": 22
        }
      ]
    },
    {
      "cell_type": "markdown",
      "metadata": {
        "id": "clm-IjeGeNXX"
      },
      "source": [
        "### String slicing"
      ]
    },
    {
      "cell_type": "markdown",
      "metadata": {
        "id": "mewIf8iTeNXX"
      },
      "source": [
        "<p style='text-align: right;'> 2 points </p>"
      ]
    },
    {
      "cell_type": "code",
      "metadata": {
        "id": "bsCJMXk6eNXX",
        "outputId": "e47cdc1a-d07e-4e8b-c0f4-99e686c70b04"
      },
      "source": [
        "#Create variable a = “pineapple”\n",
        "a = # your code here\n",
        "\n",
        "print(a)"
      ],
      "execution_count": null,
      "outputs": [
        {
          "output_type": "stream",
          "text": [
            "pineapple\n"
          ],
          "name": "stdout"
        }
      ]
    },
    {
      "cell_type": "code",
      "metadata": {
        "id": "Gx1aw_kieNXY",
        "outputId": "837b8823-e1ee-4a1c-d734-91debba21939"
      },
      "source": [
        "# Using index slicing, print the words ‘pine’ and “apple”.\n",
        "# HINT - a[:]\n",
        "\n"
      ],
      "execution_count": null,
      "outputs": [
        {
          "output_type": "stream",
          "text": [
            "pine\n",
            "apple\n"
          ],
          "name": "stdout"
        }
      ]
    },
    {
      "cell_type": "code",
      "metadata": {
        "id": "k-rs1GYmeNXY",
        "outputId": "f4ca4b61-d856-4769-e483-32e947fe1555"
      },
      "source": [
        "#Convert a into upper case\n",
        "\n"
      ],
      "execution_count": null,
      "outputs": [
        {
          "output_type": "execute_result",
          "data": {
            "text/plain": [
              "'PINEAPPLE'"
            ]
          },
          "metadata": {
            "tags": []
          },
          "execution_count": 47
        }
      ]
    },
    {
      "cell_type": "markdown",
      "metadata": {
        "id": "Z8XcOd5-eNXY"
      },
      "source": [
        "## Sentences"
      ]
    },
    {
      "cell_type": "markdown",
      "metadata": {
        "id": "ReZ5tbFAeNXY"
      },
      "source": [
        "<p style='text-align: right;'> 1+1+1+1+1+1 = 6 points </p>\n"
      ]
    },
    {
      "cell_type": "code",
      "metadata": {
        "id": "dL4G-RTteNXY",
        "outputId": "86ac570f-c524-4220-9a7a-ab745619b37e"
      },
      "source": [
        "# Declare a sentence of ‘I am flying to London’\n",
        "sent = # your code here\n",
        "\n",
        "print(sent)"
      ],
      "execution_count": null,
      "outputs": [
        {
          "output_type": "stream",
          "text": [
            "I am flying to london\n"
          ],
          "name": "stdout"
        }
      ]
    },
    {
      "cell_type": "code",
      "metadata": {
        "id": "LA-HL-kaeNXY",
        "outputId": "f378fc8c-2994-448a-80ec-7706d574d1d9"
      },
      "source": [
        "#Print len of the sentence\n",
        "\n"
      ],
      "execution_count": null,
      "outputs": [
        {
          "output_type": "stream",
          "text": [
            "Len of sentence is  21\n"
          ],
          "name": "stdout"
        }
      ]
    },
    {
      "cell_type": "code",
      "metadata": {
        "id": "fe-uTW_9eNXY",
        "outputId": "e019a40a-87c6-404e-e35f-a0d98a8d1954"
      },
      "source": [
        "#Using list comprehension, print the word London\n"
      ],
      "execution_count": null,
      "outputs": [
        {
          "output_type": "execute_result",
          "data": {
            "text/plain": [
              "'london'"
            ]
          },
          "metadata": {
            "tags": []
          },
          "execution_count": 50
        }
      ]
    },
    {
      "cell_type": "code",
      "metadata": {
        "id": "HIekhMtXeNXY",
        "outputId": "c37f8d3e-0fde-4a8a-a00e-84a496b103b7"
      },
      "source": [
        "# Use .split to get list of individual words in the sentence\n",
        "\n"
      ],
      "execution_count": null,
      "outputs": [
        {
          "output_type": "execute_result",
          "data": {
            "text/plain": [
              "['I', 'am', 'flying', 'to', 'london']"
            ]
          },
          "metadata": {
            "tags": []
          },
          "execution_count": 51
        }
      ]
    },
    {
      "cell_type": "code",
      "metadata": {
        "id": "pZdbgHX3eNXZ",
        "outputId": "6a0cd05e-da7a-427d-e6a2-d7c6a027c86c"
      },
      "source": [
        "# Convert sentence in lower case \n",
        "\n"
      ],
      "execution_count": null,
      "outputs": [
        {
          "output_type": "execute_result",
          "data": {
            "text/plain": [
              "'i am flying to london'"
            ]
          },
          "metadata": {
            "tags": []
          },
          "execution_count": 52
        }
      ]
    },
    {
      "cell_type": "code",
      "metadata": {
        "id": "J2zWMRxTeNXZ",
        "outputId": "7ff9eb47-63f9-47ff-b35a-c448eabe890c"
      },
      "source": [
        "# Convert sentence in upper case .\n",
        "\n"
      ],
      "execution_count": null,
      "outputs": [
        {
          "output_type": "execute_result",
          "data": {
            "text/plain": [
              "'I AM FLYING TO LONDON'"
            ]
          },
          "metadata": {
            "tags": []
          },
          "execution_count": 53
        }
      ]
    },
    {
      "cell_type": "markdown",
      "metadata": {
        "id": "OIX_zec1eNXZ"
      },
      "source": [
        "## Functions"
      ]
    },
    {
      "cell_type": "markdown",
      "metadata": {
        "id": "L0vLAhsKeNXZ"
      },
      "source": [
        "### Declare a function which  takes input as x, and returns the square of x. \n",
        "Reference:- https://youtu.be/Rpq9MC67M08"
      ]
    },
    {
      "cell_type": "markdown",
      "metadata": {
        "id": "arAkBy9SeNXZ"
      },
      "source": [
        "<p style='text-align: right;'> 5 + 3 = 8 points </p>\n"
      ]
    },
    {
      "cell_type": "code",
      "metadata": {
        "id": "hSiSaciReNXZ"
      },
      "source": [
        "def square(x):\n",
        "    '''\n",
        "    add your code\n",
        "    '''\n",
        "    \n",
        "    return x"
      ],
      "execution_count": null,
      "outputs": []
    },
    {
      "cell_type": "markdown",
      "metadata": {
        "id": "h-gWhymNeNXZ"
      },
      "source": [
        "Call the function to find the value of square of 9."
      ]
    },
    {
      "cell_type": "code",
      "metadata": {
        "id": "n39wXazoeNXZ",
        "outputId": "7c26f386-dacc-453c-bd93-b59e0ccdf2e8"
      },
      "source": [
        "# find the value of square of 9 using the function square\n",
        "\n"
      ],
      "execution_count": null,
      "outputs": [
        {
          "output_type": "stream",
          "text": [
            "Square of 9 is 81\n"
          ],
          "name": "stdout"
        }
      ]
    },
    {
      "cell_type": "markdown",
      "metadata": {
        "id": "kbMd0a5OeNXZ"
      },
      "source": [
        "### Define another function which checks whether a given number if odd or even, for a given input, it should print whether the given number is odd or even. "
      ]
    },
    {
      "cell_type": "markdown",
      "metadata": {
        "id": "GlFY1uvReNXZ"
      },
      "source": [
        "<p style='text-align: right;'> 5 + 3 = 8 points </p>\n"
      ]
    },
    {
      "cell_type": "code",
      "metadata": {
        "id": "Oja7v27TeNXa"
      },
      "source": [
        "# your code here\n",
        "def check_odd_even(x):\n",
        "    pass "
      ],
      "execution_count": null,
      "outputs": []
    },
    {
      "cell_type": "markdown",
      "metadata": {
        "id": "qePe7xTqeNXa"
      },
      "source": [
        "Using both the functions to check whether the square of 3,6,21 is odd or even.\n"
      ]
    },
    {
      "cell_type": "code",
      "metadata": {
        "id": "SvPD7KIReNXa",
        "outputId": "9174364d-40ef-4773-bcec-307edf052754"
      },
      "source": [
        " # your code here\n",
        "\n"
      ],
      "execution_count": null,
      "outputs": [
        {
          "output_type": "stream",
          "text": [
            "3 if odd\n",
            "6 is even\n",
            "21 if odd\n"
          ],
          "name": "stdout"
        }
      ]
    },
    {
      "cell_type": "markdown",
      "metadata": {
        "id": "jq3_yMKzeNXa"
      },
      "source": [
        "# Loops and Iterations\n",
        "Reference:- https://youtu.be/6iF8Xb7Z3wQ"
      ]
    },
    {
      "cell_type": "markdown",
      "metadata": {
        "id": "PkaQt5bFeNXa"
      },
      "source": [
        "## If statement"
      ]
    },
    {
      "cell_type": "markdown",
      "metadata": {
        "id": "OvyolCD9eNXa"
      },
      "source": [
        "<p style='text-align: right;'> 1 + 2 + 3 = 6 points </p>\n"
      ]
    },
    {
      "cell_type": "code",
      "metadata": {
        "id": "TFWHRdSIeNXa",
        "outputId": "ab7c53ad-7c0d-44ca-eaed-80bb750eab14"
      },
      "source": [
        "#Declare a variable x equal to a number of your choice.\n",
        "#your code here\n",
        "x = # add a number of your choice (mine is 3 :) )\n",
        "print(x)"
      ],
      "execution_count": null,
      "outputs": [
        {
          "output_type": "stream",
          "text": [
            "3\n"
          ],
          "name": "stdout"
        }
      ]
    },
    {
      "cell_type": "code",
      "metadata": {
        "id": "5zdIP9qkeNXa",
        "outputId": "689c59e3-066d-4964-9d62-4a2f3b8e9712"
      },
      "source": [
        "#Using an if statement, print whether the number is 0, positive or negative.\n",
        "\n"
      ],
      "execution_count": null,
      "outputs": [
        {
          "output_type": "stream",
          "text": [
            "3 is positive\n"
          ],
          "name": "stdout"
        }
      ]
    },
    {
      "cell_type": "code",
      "metadata": {
        "id": "l5LgRlqpeNXa",
        "outputId": "7f3d7a5d-5e37-460e-9ad5-ebce0d84c213"
      },
      "source": [
        "# Define a function, which takes input from the user and prints whether the given input is 0,positive or negative.\n",
        "\n",
        "def check_num(x):\n",
        "    pass \n",
        "\n",
        "\n",
        "check_num(10)\n",
        "check_num(-2)\n",
        "check_num(0)"
      ],
      "execution_count": null,
      "outputs": [
        {
          "output_type": "stream",
          "text": [
            "10 is positive\n",
            "-2 is negative\n",
            "0 is zero\n"
          ],
          "name": "stdout"
        }
      ]
    },
    {
      "cell_type": "markdown",
      "metadata": {
        "id": "t_Wm6qQteNXa"
      },
      "source": [
        "## For loop"
      ]
    },
    {
      "cell_type": "markdown",
      "metadata": {
        "id": "5WW-_3D2eNXb"
      },
      "source": [
        "<p style='text-align: right;'> 2 points </p>\n"
      ]
    },
    {
      "cell_type": "code",
      "metadata": {
        "id": "1kfN4juZeNXb"
      },
      "source": [
        "#Create a list x, such that it contains the elements - ‘India’, ‘Israel’,’Canada’.\n",
        "\n"
      ],
      "execution_count": null,
      "outputs": []
    },
    {
      "cell_type": "code",
      "metadata": {
        "id": "pCpvEYO4eNXb",
        "outputId": "9242b3c1-ffce-45ae-f251-c0aa4fe42ee0"
      },
      "source": [
        "#Using For loop, iterate over the list and print the elements.\n",
        "\n"
      ],
      "execution_count": null,
      "outputs": [
        {
          "output_type": "stream",
          "text": [
            "India\n",
            "Israel\n",
            "Canada\n"
          ],
          "name": "stdout"
        }
      ]
    },
    {
      "cell_type": "markdown",
      "metadata": {
        "id": "Rim9K3pceNXb"
      },
      "source": [
        "<p style='text-align: right;'> 2 points </p>\n"
      ]
    },
    {
      "cell_type": "code",
      "metadata": {
        "id": "rx3tbYM9eNXb",
        "outputId": "253a7108-4d0f-4e1e-98a3-3ce1d9b27a2f"
      },
      "source": [
        "# Using For loop, print the table of 2.\n",
        "\n"
      ],
      "execution_count": null,
      "outputs": [
        {
          "output_type": "stream",
          "text": [
            "2 * 1 = 2\n",
            "2 * 2 = 4\n",
            "2 * 3 = 6\n",
            "2 * 4 = 8\n",
            "2 * 5 = 10\n",
            "2 * 6 = 12\n",
            "2 * 7 = 14\n",
            "2 * 8 = 16\n",
            "2 * 9 = 18\n",
            "2 * 10 = 20\n"
          ],
          "name": "stdout"
        }
      ]
    },
    {
      "cell_type": "markdown",
      "metadata": {
        "id": "TYlQTnLeeNXb"
      },
      "source": [
        "For a given list, x = [21, ‘hello,’cream’, 20,19,’village’], using for loop to iterate over the items and using - if statement print the items that are of type int"
      ]
    },
    {
      "cell_type": "code",
      "metadata": {
        "id": "zPb6Xn4PeNXb",
        "outputId": "a2ba55e2-b5bb-46f7-8e50-73d90f577d97"
      },
      "source": [
        "#code here\n",
        "\n"
      ],
      "execution_count": null,
      "outputs": [
        {
          "output_type": "stream",
          "text": [
            "[21, 20, 19]\n"
          ],
          "name": "stdout"
        }
      ]
    },
    {
      "cell_type": "markdown",
      "metadata": {
        "id": "KBkudqyteNXb"
      },
      "source": [
        "Using For loop, create the following pattern. "
      ]
    },
    {
      "cell_type": "markdown",
      "metadata": {
        "id": "zp2ASyFFeNXb"
      },
      "source": [
        "<p style='text-align: right;'> 10 points </p>\n"
      ]
    },
    {
      "cell_type": "code",
      "metadata": {
        "id": "SUuCztSneNXb",
        "outputId": "905d6112-67b4-48ce-ae76-fedb8876cf3f"
      },
      "source": [
        "# print the following pattern"
      ],
      "execution_count": null,
      "outputs": [
        {
          "output_type": "stream",
          "text": [
            "* \r\n",
            "* * \r\n",
            "* * * \r\n",
            "* * * * \r\n",
            "* * * * * \r\n"
          ],
          "name": "stdout"
        }
      ]
    },
    {
      "cell_type": "code",
      "metadata": {
        "id": "1f5mhGWWeNXc"
      },
      "source": [
        "#your code here\n",
        "\n",
        "\n"
      ],
      "execution_count": null,
      "outputs": []
    },
    {
      "cell_type": "markdown",
      "metadata": {
        "id": "jE2Yqu-1eNXc"
      },
      "source": [
        "## While loop"
      ]
    },
    {
      "cell_type": "markdown",
      "metadata": {
        "id": "7F80GCJxeNXc"
      },
      "source": [
        "- Using while loop make a function that prints all the values between 1 to n. "
      ]
    },
    {
      "cell_type": "markdown",
      "metadata": {
        "id": "eYnlKrJeeNXc"
      },
      "source": [
        "<p style='text-align: right;'> 10 points </p>\n"
      ]
    },
    {
      "cell_type": "code",
      "metadata": {
        "id": "hmhgUZ9ReNXc"
      },
      "source": [
        "def counter(n):\n",
        "    # add your code here\n",
        "    "
      ],
      "execution_count": null,
      "outputs": []
    },
    {
      "cell_type": "code",
      "metadata": {
        "id": "SHWDY_QyeNXc",
        "outputId": "4c25d9ca-9169-4f82-e10f-1af34d6920a0"
      },
      "source": [
        "counter(10) #this should print numbers from 1 to 10"
      ],
      "execution_count": null,
      "outputs": [
        {
          "output_type": "stream",
          "text": [
            "1\n",
            "2\n",
            "3\n",
            "4\n",
            "5\n",
            "6\n",
            "7\n",
            "8\n",
            "9\n"
          ],
          "name": "stdout"
        }
      ]
    },
    {
      "cell_type": "markdown",
      "metadata": {
        "id": "6VhKFcUUeNXc"
      },
      "source": [
        "### Write the code for the following, what is the output obtained?\n",
        "- Set a variable flag = True, num = 5\n",
        "- Run a while loop till flag = True\n",
        "- Inside the while loop - \n",
        "    - Increment the value of num by 5\n",
        "    - If value of num is greater then 50, set flag to be False"
      ]
    },
    {
      "cell_type": "code",
      "metadata": {
        "id": "tbaduSb4eNXc",
        "outputId": "e0d64484-ece4-4176-9914-a266827d95ad"
      },
      "source": [
        "# your code here\n",
        "\n",
        "\n",
        "\n"
      ],
      "execution_count": null,
      "outputs": [
        {
          "output_type": "stream",
          "text": [
            "5\n",
            "10\n",
            "15\n",
            "20\n",
            "25\n",
            "30\n",
            "35\n",
            "40\n",
            "45\n",
            "50\n"
          ],
          "name": "stdout"
        }
      ]
    },
    {
      "cell_type": "markdown",
      "metadata": {
        "id": "ceWwq4PgeNXd"
      },
      "source": [
        "----------------------------------------------------------------------"
      ]
    },
    {
      "cell_type": "markdown",
      "metadata": {
        "id": "52T19XOpeNXd"
      },
      "source": [
        "# Smile, you completed the first milestone :)!! "
      ]
    },
    {
      "cell_type": "markdown",
      "metadata": {
        "id": "CG6h_jBBkqhy"
      },
      "source": [
        "# FeedBack\n",
        "We hope you’ve enjoyed this course so far. We’re committed to help you use \"AI for All\" course to its full potential, so that you have a great learning experience. And that’s why we need your help in form of a feedback here.\n",
        "\n",
        "**Please fill this feedback form**\n",
        "https://docs.google.com/forms/d/e/1FAIpQLSfjBmH0yJSSA34IhSVx4h2eDMgOAeG4Dk-yHid__NMTk3Hq5g/viewform"
      ]
    },
    {
      "cell_type": "code",
      "metadata": {
        "id": "Ix42o1VMOy4g"
      },
      "source": [
        ""
      ],
      "execution_count": null,
      "outputs": []
    }
  ]
}