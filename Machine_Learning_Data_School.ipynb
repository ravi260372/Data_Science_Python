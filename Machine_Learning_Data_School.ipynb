{
  "nbformat": 4,
  "nbformat_minor": 0,
  "metadata": {
    "colab": {
      "name": "Machine_Learning_Data_School.ipynb",
      "provenance": [],
      "toc_visible": true,
      "authorship_tag": "ABX9TyM1Bt+KFy3f/yEZrAFhK5FV",
      "include_colab_link": true
    },
    "kernelspec": {
      "name": "python3",
      "display_name": "Python 3"
    }
  },
  "cells": [
    {
      "cell_type": "markdown",
      "metadata": {
        "id": "view-in-github",
        "colab_type": "text"
      },
      "source": [
        "<a href=\"https://colab.research.google.com/github/ravi260372/Data_Science_Python/blob/main/Machine_Learning_Data_School.ipynb\" target=\"_parent\"><img src=\"https://colab.research.google.com/assets/colab-badge.svg\" alt=\"Open In Colab\"/></a>"
      ]
    },
    {
      "cell_type": "markdown",
      "metadata": {
        "id": "NlDDfSFySMo1"
      },
      "source": [
        "**Training a Machine Learning model with scikit-learn**"
      ]
    },
    {
      "cell_type": "markdown",
      "metadata": {
        "id": "8I-T72cVSTgE"
      },
      "source": [
        "## Reviewing the iris dataset"
      ]
    },
    {
      "cell_type": "code",
      "metadata": {
        "id": "rt-_Zfe3R1YC"
      },
      "source": [
        "# import load_iris function from datasets module\r\n",
        "from sklearn.datasets import load_iris"
      ],
      "execution_count": 43,
      "outputs": []
    },
    {
      "cell_type": "code",
      "metadata": {
        "colab": {
          "base_uri": "https://localhost:8080/"
        },
        "id": "6QBv7l35Smxz",
        "outputId": "59618fe1-7f88-4a0f-e227-7812c05d3351"
      },
      "source": [
        "# save \"bunch\" object containing iris dataset and its attributes\r\n",
        "iris = load_iris()\r\n",
        "type(iris)"
      ],
      "execution_count": 44,
      "outputs": [
        {
          "output_type": "execute_result",
          "data": {
            "text/plain": [
              "sklearn.utils.Bunch"
            ]
          },
          "metadata": {
            "tags": []
          },
          "execution_count": 44
        }
      ]
    },
    {
      "cell_type": "code",
      "metadata": {
        "colab": {
          "base_uri": "https://localhost:8080/"
        },
        "id": "6cdmHIeZSr4h",
        "outputId": "30949df9-ed96-42ab-f807-2330d86c2f20"
      },
      "source": [
        "# print the names of the four features\r\n",
        "print(iris.feature_names)"
      ],
      "execution_count": 45,
      "outputs": [
        {
          "output_type": "stream",
          "text": [
            "['sepal length (cm)', 'sepal width (cm)', 'petal length (cm)', 'petal width (cm)']\n"
          ],
          "name": "stdout"
        }
      ]
    },
    {
      "cell_type": "code",
      "metadata": {
        "colab": {
          "base_uri": "https://localhost:8080/"
        },
        "id": "nnSfSPx9SwLV",
        "outputId": "cfac5043-af8b-4cb6-8e7b-e4918689a477"
      },
      "source": [
        "# print integers representing the species of each observation\r\n",
        "print(iris.target)"
      ],
      "execution_count": 46,
      "outputs": [
        {
          "output_type": "stream",
          "text": [
            "[0 0 0 0 0 0 0 0 0 0 0 0 0 0 0 0 0 0 0 0 0 0 0 0 0 0 0 0 0 0 0 0 0 0 0 0 0\n",
            " 0 0 0 0 0 0 0 0 0 0 0 0 0 1 1 1 1 1 1 1 1 1 1 1 1 1 1 1 1 1 1 1 1 1 1 1 1\n",
            " 1 1 1 1 1 1 1 1 1 1 1 1 1 1 1 1 1 1 1 1 1 1 1 1 1 1 2 2 2 2 2 2 2 2 2 2 2\n",
            " 2 2 2 2 2 2 2 2 2 2 2 2 2 2 2 2 2 2 2 2 2 2 2 2 2 2 2 2 2 2 2 2 2 2 2 2 2\n",
            " 2 2]\n"
          ],
          "name": "stdout"
        }
      ]
    },
    {
      "cell_type": "code",
      "metadata": {
        "colab": {
          "base_uri": "https://localhost:8080/"
        },
        "id": "dPZxuPEmS09i",
        "outputId": "4837564a-8a5d-42be-8514-841a995e192f"
      },
      "source": [
        "# print the encoding scheme for species: 0 = setosa, 1 = versicolor, 2 = virginica\r\n",
        "print(iris.target_names)"
      ],
      "execution_count": 47,
      "outputs": [
        {
          "output_type": "stream",
          "text": [
            "['setosa' 'versicolor' 'virginica']\n"
          ],
          "name": "stdout"
        }
      ]
    },
    {
      "cell_type": "markdown",
      "metadata": {
        "id": "dQHASE2xTKQB"
      },
      "source": [
        "# Requirements for scikit-learn\r\n",
        "**Requirements for working with data in scikit-learn**\r\n",
        "1. Features and response are separate objects\r\n",
        "2. Features should always be numeric, and response should be numeric for regression problems\r\n",
        "3. Features and response should be NumPy arrays\r\n",
        "4. Features and response should have specific shapes\r\n"
      ]
    },
    {
      "cell_type": "code",
      "metadata": {
        "colab": {
          "base_uri": "https://localhost:8080/"
        },
        "id": "RJfp6_77TFvW",
        "outputId": "6152a051-a3fe-456e-8fd7-0efafaf46765"
      },
      "source": [
        "# check the types of the features and response\r\n",
        "print(type(iris.data))\r\n",
        "print(type(iris.target))"
      ],
      "execution_count": 48,
      "outputs": [
        {
          "output_type": "stream",
          "text": [
            "<class 'numpy.ndarray'>\n",
            "<class 'numpy.ndarray'>\n"
          ],
          "name": "stdout"
        }
      ]
    },
    {
      "cell_type": "code",
      "metadata": {
        "colab": {
          "base_uri": "https://localhost:8080/"
        },
        "id": "LSInHkhwTVTJ",
        "outputId": "a71183e3-60f0-4d47-c381-7db467717b3c"
      },
      "source": [
        "# check the shape of the features (first dimension = number of observations, second dimensions = number of features)\r\n",
        "print(iris.data.shape)"
      ],
      "execution_count": 49,
      "outputs": [
        {
          "output_type": "stream",
          "text": [
            "(150, 4)\n"
          ],
          "name": "stdout"
        }
      ]
    },
    {
      "cell_type": "code",
      "metadata": {
        "colab": {
          "base_uri": "https://localhost:8080/"
        },
        "id": "67srCpfYTXGE",
        "outputId": "bce4f75c-78d7-4352-feb6-811c5f7e19f2"
      },
      "source": [
        "# check the shape of the response (single dimension matching the number of observations)\r\n",
        "print(iris.target.shape)"
      ],
      "execution_count": 50,
      "outputs": [
        {
          "output_type": "stream",
          "text": [
            "(150,)\n"
          ],
          "name": "stdout"
        }
      ]
    },
    {
      "cell_type": "markdown",
      "metadata": {
        "id": "Z4dq5n1jUSHI"
      },
      "source": [
        "1. 150 observations\r\n",
        "2. 4 features (sepal length, sepal width, petal length, petal width)\r\n",
        "3. Response variable is the iris species\r\n",
        "4. Classification problem since response is categorical"
      ]
    },
    {
      "cell_type": "markdown",
      "metadata": {
        "id": "jBs5dnMCToZ2"
      },
      "source": [
        "# Create Features and Target Arrays\r\n"
      ]
    },
    {
      "cell_type": "code",
      "metadata": {
        "id": "XpIFQj1HS9Vn"
      },
      "source": [
        "# store feature matrix in \"X\"\r\n",
        "X = iris.data\r\n",
        "\r\n",
        "# store response vector in \"y\"\r\n",
        "y = iris.target"
      ],
      "execution_count": 51,
      "outputs": []
    },
    {
      "cell_type": "code",
      "metadata": {
        "colab": {
          "base_uri": "https://localhost:8080/"
        },
        "id": "VnPjN46LThcg",
        "outputId": "c08c223e-7897-42b5-cb98-1def2353b5c4"
      },
      "source": [
        "# print the shapes of X and y\r\n",
        "print(X.shape)\r\n",
        "print(y.shape)"
      ],
      "execution_count": 52,
      "outputs": [
        {
          "output_type": "stream",
          "text": [
            "(150, 4)\n",
            "(150,)\n"
          ],
          "name": "stdout"
        }
      ]
    },
    {
      "cell_type": "markdown",
      "metadata": {
        "id": "nY8gNAbuUltH"
      },
      "source": [
        "# 4-step modeling pattern  \r\n",
        "Step 1: Import the class you plan to use  \r\n",
        "Step 2: \"Instantiate\" the \"estimator\" / \"model\"  \r\n",
        "Step 3: Fit the model with data (aka \"model training\")  \r\n",
        "Step 4: Predict the response for a new observation"
      ]
    },
    {
      "cell_type": "code",
      "metadata": {
        "id": "W6yMkaIFU3pG"
      },
      "source": [
        "# Import the class from scikit learn.In our case KNN classifier\r\n",
        "from sklearn.neighbors import KNeighborsClassifier"
      ],
      "execution_count": 53,
      "outputs": []
    },
    {
      "cell_type": "code",
      "metadata": {
        "colab": {
          "base_uri": "https://localhost:8080/"
        },
        "id": "M7vP6RZsVEkQ",
        "outputId": "aefc3b31-ea0d-47bf-fad5-1fdbb2ecd3ee"
      },
      "source": [
        "# Instantiate the model. In our case 'knn' is the classifier object.\r\n",
        "# Instantiate the model with \"n=1\"\r\n",
        "knn = KNeighborsClassifier(n_neighbors=1)\r\n",
        "print(knn)"
      ],
      "execution_count": 54,
      "outputs": [
        {
          "output_type": "stream",
          "text": [
            "KNeighborsClassifier(algorithm='auto', leaf_size=30, metric='minkowski',\n",
            "                     metric_params=None, n_jobs=None, n_neighbors=1, p=2,\n",
            "                     weights='uniform')\n"
          ],
          "name": "stdout"
        }
      ]
    },
    {
      "cell_type": "code",
      "metadata": {
        "colab": {
          "base_uri": "https://localhost:8080/"
        },
        "id": "ZTYb24hpVSIu",
        "outputId": "1c7dfd3e-0661-46c0-8a65-1e734dbf6c4f"
      },
      "source": [
        "# Fit the model on feature and target arrays\r\n",
        "knn.fit(X,y)"
      ],
      "execution_count": 55,
      "outputs": [
        {
          "output_type": "execute_result",
          "data": {
            "text/plain": [
              "KNeighborsClassifier(algorithm='auto', leaf_size=30, metric='minkowski',\n",
              "                     metric_params=None, n_jobs=None, n_neighbors=1, p=2,\n",
              "                     weights='uniform')"
            ]
          },
          "metadata": {
            "tags": []
          },
          "execution_count": 55
        }
      ]
    },
    {
      "cell_type": "code",
      "metadata": {
        "colab": {
          "base_uri": "https://localhost:8080/"
        },
        "id": "dAlFkPdhWxAY",
        "outputId": "13337455-4393-4300-81ab-1531fd846b32"
      },
      "source": [
        "# Predict with unknown X values\r\n",
        "knn.predict([[3, 5, 4, 2]])\r\n",
        "# returns a numpy array of predicted y with model run on given X"
      ],
      "execution_count": 56,
      "outputs": [
        {
          "output_type": "execute_result",
          "data": {
            "text/plain": [
              "array([2])"
            ]
          },
          "metadata": {
            "tags": []
          },
          "execution_count": 56
        }
      ]
    },
    {
      "cell_type": "code",
      "metadata": {
        "colab": {
          "base_uri": "https://localhost:8080/"
        },
        "id": "LaRaI3H9XC-B",
        "outputId": "13e3546e-464b-4812-f1f7-4c7e2cddc791"
      },
      "source": [
        "# Predict on \"Multiple Values of Feature Vecors\" \r\n",
        "# In pour case 2 Arrays of X's\r\n",
        "X_new = [[3, 5, 4, 2], [5, 4, 3, 2]]\r\n",
        "knn.predict(X_new)\r\n",
        "# returns an array of predicted y for given arrays of Xs"
      ],
      "execution_count": 57,
      "outputs": [
        {
          "output_type": "execute_result",
          "data": {
            "text/plain": [
              "array([2, 1])"
            ]
          },
          "metadata": {
            "tags": []
          },
          "execution_count": 57
        }
      ]
    },
    {
      "cell_type": "markdown",
      "metadata": {
        "id": "wfyTsvnqXzXX"
      },
      "source": [
        "# Modeling with different K values"
      ]
    },
    {
      "cell_type": "code",
      "metadata": {
        "colab": {
          "base_uri": "https://localhost:8080/"
        },
        "id": "YBoJ9B1dXaef",
        "outputId": "0d8f598d-8100-4085-f7cd-bee2dd7e5bb0"
      },
      "source": [
        "# instantiate the model (using the value K=5)\r\n",
        "knn_5 = KNeighborsClassifier(n_neighbors=5)\r\n",
        "\r\n",
        "# fit the model with data\r\n",
        "knn_5.fit(X, y)\r\n",
        "\r\n",
        "# predict the response for new observations\r\n",
        "knn_5.predict(X_new)"
      ],
      "execution_count": 58,
      "outputs": [
        {
          "output_type": "execute_result",
          "data": {
            "text/plain": [
              "array([1, 1])"
            ]
          },
          "metadata": {
            "tags": []
          },
          "execution_count": 58
        }
      ]
    },
    {
      "cell_type": "markdown",
      "metadata": {
        "id": "6PXMs2ahX8SP"
      },
      "source": [
        "# Using a different classifier : Logistic Regression"
      ]
    },
    {
      "cell_type": "code",
      "metadata": {
        "id": "JLMSM8GAX_9M"
      },
      "source": [
        "# import the class\r\n",
        "from sklearn.linear_model import LogisticRegression"
      ],
      "execution_count": 59,
      "outputs": []
    },
    {
      "cell_type": "code",
      "metadata": {
        "id": "o4yLSPNzYGE7"
      },
      "source": [
        "# instantiate the model\r\n",
        "logreg = LogisticRegression(solver='liblinear')"
      ],
      "execution_count": 60,
      "outputs": []
    },
    {
      "cell_type": "code",
      "metadata": {
        "colab": {
          "base_uri": "https://localhost:8080/"
        },
        "id": "VfEts4mLYK26",
        "outputId": "484d0a40-1e7f-4eaa-9276-f2f670861696"
      },
      "source": [
        "# fit the model with data\r\n",
        "logreg.fit(X, y)"
      ],
      "execution_count": 61,
      "outputs": [
        {
          "output_type": "execute_result",
          "data": {
            "text/plain": [
              "LogisticRegression(C=1.0, class_weight=None, dual=False, fit_intercept=True,\n",
              "                   intercept_scaling=1, l1_ratio=None, max_iter=100,\n",
              "                   multi_class='auto', n_jobs=None, penalty='l2',\n",
              "                   random_state=None, solver='liblinear', tol=0.0001, verbose=0,\n",
              "                   warm_start=False)"
            ]
          },
          "metadata": {
            "tags": []
          },
          "execution_count": 61
        }
      ]
    },
    {
      "cell_type": "code",
      "metadata": {
        "id": "V7d5w2pKYRUi",
        "colab": {
          "base_uri": "https://localhost:8080/"
        },
        "outputId": "2cc2f44b-1a2e-4695-bad2-300983fe9ad2"
      },
      "source": [
        "# predict the response for new observations\r\n",
        "logreg.predict(X_new)"
      ],
      "execution_count": 62,
      "outputs": [
        {
          "output_type": "execute_result",
          "data": {
            "text/plain": [
              "array([2, 0])"
            ]
          },
          "metadata": {
            "tags": []
          },
          "execution_count": 62
        }
      ]
    },
    {
      "cell_type": "markdown",
      "metadata": {
        "id": "zwa5NspimXKf"
      },
      "source": [
        "# Comparing Machine Learning Models"
      ]
    },
    {
      "cell_type": "markdown",
      "metadata": {
        "id": "IJqvIfqjm0Fg"
      },
      "source": [
        "## Train and test on the entire dataset"
      ]
    },
    {
      "cell_type": "markdown",
      "metadata": {
        "id": "6ZBk7jLbm9Ff"
      },
      "source": [
        "### Logistic Regression"
      ]
    },
    {
      "cell_type": "code",
      "metadata": {
        "colab": {
          "base_uri": "https://localhost:8080/"
        },
        "id": "TvRtFwE5m3XK",
        "outputId": "f6d18d41-5f5a-475c-c4c5-82fcb3db56d5"
      },
      "source": [
        "# import the class\r\n",
        "from sklearn.linear_model import LogisticRegression\r\n",
        "\r\n",
        "# instantiate the model\r\n",
        "logreg = LogisticRegression(solver='liblinear')\r\n",
        "\r\n",
        "# fit the model with data\r\n",
        "logreg.fit(X, y)\r\n",
        "\r\n",
        "# predict the response values for the observations in X\r\n",
        "logreg.predict(X)"
      ],
      "execution_count": 63,
      "outputs": [
        {
          "output_type": "execute_result",
          "data": {
            "text/plain": [
              "array([0, 0, 0, 0, 0, 0, 0, 0, 0, 0, 0, 0, 0, 0, 0, 0, 0, 0, 0, 0, 0, 0,\n",
              "       0, 0, 0, 0, 0, 0, 0, 0, 0, 0, 0, 0, 0, 0, 0, 0, 0, 0, 0, 0, 0, 0,\n",
              "       0, 0, 0, 0, 0, 0, 1, 1, 1, 1, 1, 1, 1, 1, 1, 1, 1, 1, 1, 1, 1, 1,\n",
              "       2, 1, 1, 1, 2, 1, 1, 1, 1, 1, 1, 1, 1, 1, 1, 1, 1, 2, 2, 2, 1, 1,\n",
              "       1, 1, 1, 1, 1, 1, 1, 1, 1, 1, 1, 1, 2, 2, 2, 2, 2, 2, 2, 2, 2, 2,\n",
              "       2, 2, 2, 2, 2, 2, 2, 2, 2, 2, 2, 2, 2, 2, 2, 2, 2, 2, 2, 1, 2, 2,\n",
              "       2, 2, 2, 2, 2, 2, 2, 2, 2, 2, 2, 2, 2, 2, 2, 2, 2, 2])"
            ]
          },
          "metadata": {
            "tags": []
          },
          "execution_count": 63
        }
      ]
    },
    {
      "cell_type": "code",
      "metadata": {
        "colab": {
          "base_uri": "https://localhost:8080/"
        },
        "id": "lX5U9QpknLHh",
        "outputId": "f58547cf-fefb-4142-d3d5-d7bc810cd38f"
      },
      "source": [
        "# store the predicted response values\r\n",
        "y_pred = logreg.predict(X)\r\n",
        "\r\n",
        "# check how many predictions were generated\r\n",
        "len(y_pred)"
      ],
      "execution_count": 64,
      "outputs": [
        {
          "output_type": "execute_result",
          "data": {
            "text/plain": [
              "150"
            ]
          },
          "metadata": {
            "tags": []
          },
          "execution_count": 64
        }
      ]
    },
    {
      "cell_type": "code",
      "metadata": {
        "colab": {
          "base_uri": "https://localhost:8080/"
        },
        "id": "UC8YSxDlnP0F",
        "outputId": "e116b9bd-f806-42df-a9e9-e80501b80409"
      },
      "source": [
        "# compute classification accuracy for the logistic regression model\r\n",
        "from sklearn import metrics\r\n",
        "print(metrics.accuracy_score(y, y_pred))"
      ],
      "execution_count": 65,
      "outputs": [
        {
          "output_type": "stream",
          "text": [
            "0.96\n"
          ],
          "name": "stdout"
        }
      ]
    },
    {
      "cell_type": "markdown",
      "metadata": {
        "id": "av3wQrnanWd1"
      },
      "source": [
        "### KNN with K=5"
      ]
    },
    {
      "cell_type": "code",
      "metadata": {
        "colab": {
          "base_uri": "https://localhost:8080/"
        },
        "id": "D0fsXrobnYZj",
        "outputId": "0ce259b2-393b-42d0-a833-03dc5d9e3504"
      },
      "source": [
        "# import the class\r\n",
        "from sklearn.neighbors import KNeighborsClassifier\r\n",
        "\r\n",
        "# instantiate the model\r\n",
        "knn5 = KNeighborsClassifier(n_neighbors=5)\r\n",
        "\r\n",
        "# fit the model with data\r\n",
        "knn5.fit(X, y)\r\n",
        "\r\n",
        "# predict the response values for the observations in X\r\n",
        "knn5.predict(X)"
      ],
      "execution_count": 66,
      "outputs": [
        {
          "output_type": "execute_result",
          "data": {
            "text/plain": [
              "array([0, 0, 0, 0, 0, 0, 0, 0, 0, 0, 0, 0, 0, 0, 0, 0, 0, 0, 0, 0, 0, 0,\n",
              "       0, 0, 0, 0, 0, 0, 0, 0, 0, 0, 0, 0, 0, 0, 0, 0, 0, 0, 0, 0, 0, 0,\n",
              "       0, 0, 0, 0, 0, 0, 1, 1, 1, 1, 1, 1, 1, 1, 1, 1, 1, 1, 1, 1, 1, 1,\n",
              "       1, 1, 1, 1, 2, 1, 2, 1, 1, 1, 1, 1, 1, 1, 1, 1, 1, 2, 1, 1, 1, 1,\n",
              "       1, 1, 1, 1, 1, 1, 1, 1, 1, 1, 1, 1, 2, 2, 2, 2, 2, 2, 1, 2, 2, 2,\n",
              "       2, 2, 2, 2, 2, 2, 2, 2, 2, 1, 2, 2, 2, 2, 2, 2, 2, 2, 2, 2, 2, 2,\n",
              "       2, 2, 2, 2, 2, 2, 2, 2, 2, 2, 2, 2, 2, 2, 2, 2, 2, 2])"
            ]
          },
          "metadata": {
            "tags": []
          },
          "execution_count": 66
        }
      ]
    },
    {
      "cell_type": "code",
      "metadata": {
        "colab": {
          "base_uri": "https://localhost:8080/"
        },
        "id": "Qy48Z5GTnrY5",
        "outputId": "dcbe93dd-b09a-4fdc-dec2-4d7263e25663"
      },
      "source": [
        "# store the predicted response values\r\n",
        "y_pred_knn = logreg.predict(X)\r\n",
        "\r\n",
        "# check how many predictions were generated\r\n",
        "len(y_pred_knn)"
      ],
      "execution_count": 67,
      "outputs": [
        {
          "output_type": "execute_result",
          "data": {
            "text/plain": [
              "150"
            ]
          },
          "metadata": {
            "tags": []
          },
          "execution_count": 67
        }
      ]
    },
    {
      "cell_type": "code",
      "metadata": {
        "colab": {
          "base_uri": "https://localhost:8080/"
        },
        "id": "1guqvVEHnwUs",
        "outputId": "2e8355e5-3b9c-49a6-d83d-8f946f13661b"
      },
      "source": [
        "# compute classification accuracy for the knn model\r\n",
        "from sklearn import metrics\r\n",
        "print(metrics.accuracy_score(y, y_pred_knn))"
      ],
      "execution_count": 68,
      "outputs": [
        {
          "output_type": "stream",
          "text": [
            "0.96\n"
          ],
          "name": "stdout"
        }
      ]
    },
    {
      "cell_type": "markdown",
      "metadata": {
        "id": "RKxOsA8cn9J5"
      },
      "source": [
        "## Train/test split"
      ]
    },
    {
      "cell_type": "code",
      "metadata": {
        "colab": {
          "base_uri": "https://localhost:8080/"
        },
        "id": "IxgyR-5JoBSA",
        "outputId": "b9b8c872-8a1a-483d-f317-f5650a9f7196"
      },
      "source": [
        "# print the shapes of X and y\r\n",
        "print(X.shape)\r\n",
        "print(y.shape)"
      ],
      "execution_count": 69,
      "outputs": [
        {
          "output_type": "stream",
          "text": [
            "(150, 4)\n",
            "(150,)\n"
          ],
          "name": "stdout"
        }
      ]
    },
    {
      "cell_type": "code",
      "metadata": {
        "colab": {
          "base_uri": "https://localhost:8080/"
        },
        "id": "IZUL4Y-foIAK",
        "outputId": "faf120fd-353a-4b3a-f9cb-61fa84cfa1e7"
      },
      "source": [
        "# STEP 1: split X and y into training and testing sets\r\n",
        "from sklearn.model_selection import train_test_split\r\n",
        "X_train, X_test, y_train, y_test = train_test_split(X, y, test_size=0.4, random_state=4)\r\n",
        "\r\n",
        "# print the shapes of the new X objects\r\n",
        "print(X_train.shape)\r\n",
        "print(X_test.shape)\r\n",
        "\r\n",
        "# print the shapes of the new y objects\r\n",
        "print(y_train.shape)\r\n",
        "print(y_test.shape)"
      ],
      "execution_count": 71,
      "outputs": [
        {
          "output_type": "stream",
          "text": [
            "(90, 4)\n",
            "(60, 4)\n",
            "(90,)\n",
            "(60,)\n"
          ],
          "name": "stdout"
        }
      ]
    },
    {
      "cell_type": "markdown",
      "metadata": {
        "id": "Gb_WSPAAoiJK"
      },
      "source": [
        "### Logistic Regression"
      ]
    },
    {
      "cell_type": "code",
      "metadata": {
        "colab": {
          "base_uri": "https://localhost:8080/"
        },
        "id": "liI3snPooXYR",
        "outputId": "ec9b7f2f-4bd5-4e68-aa6b-410eb62cac8a"
      },
      "source": [
        "# STEP 2: train the model on the training set\r\n",
        "logreg2 = LogisticRegression(solver='liblinear')\r\n",
        "logreg2.fit(X_train, y_train)"
      ],
      "execution_count": 72,
      "outputs": [
        {
          "output_type": "execute_result",
          "data": {
            "text/plain": [
              "LogisticRegression(C=1.0, class_weight=None, dual=False, fit_intercept=True,\n",
              "                   intercept_scaling=1, l1_ratio=None, max_iter=100,\n",
              "                   multi_class='auto', n_jobs=None, penalty='l2',\n",
              "                   random_state=None, solver='liblinear', tol=0.0001, verbose=0,\n",
              "                   warm_start=False)"
            ]
          },
          "metadata": {
            "tags": []
          },
          "execution_count": 72
        }
      ]
    },
    {
      "cell_type": "code",
      "metadata": {
        "colab": {
          "base_uri": "https://localhost:8080/"
        },
        "id": "VMKehzciomg_",
        "outputId": "34691079-1cbe-4b54-8094-45102a5e6d3d"
      },
      "source": [
        "# STEP 3: make predictions on the testing set\r\n",
        "y_predlogreg = logreg2.predict(X_test)\r\n",
        "\r\n",
        "# compare actual response values (y_test) with predicted response values (y_pred)\r\n",
        "print(metrics.accuracy_score(y_test, y_predlogreg))"
      ],
      "execution_count": 73,
      "outputs": [
        {
          "output_type": "stream",
          "text": [
            "0.9333333333333333\n"
          ],
          "name": "stdout"
        }
      ]
    },
    {
      "cell_type": "markdown",
      "metadata": {
        "id": "HyTxzGnuoxKs"
      },
      "source": [
        "### KNN with K=5"
      ]
    },
    {
      "cell_type": "code",
      "metadata": {
        "colab": {
          "base_uri": "https://localhost:8080/"
        },
        "id": "HIenz7DKo0D0",
        "outputId": "d194bb71-bc7a-4a46-e15a-fafa5516dc13"
      },
      "source": [
        "# STEP 2: train the model on the training set\r\n",
        "knn_5 = KNeighborsClassifier(n_neighbors=5)\r\n",
        "knn_5.fit(X_train, y_train)"
      ],
      "execution_count": 74,
      "outputs": [
        {
          "output_type": "execute_result",
          "data": {
            "text/plain": [
              "KNeighborsClassifier(algorithm='auto', leaf_size=30, metric='minkowski',\n",
              "                     metric_params=None, n_jobs=None, n_neighbors=5, p=2,\n",
              "                     weights='uniform')"
            ]
          },
          "metadata": {
            "tags": []
          },
          "execution_count": 74
        }
      ]
    },
    {
      "cell_type": "code",
      "metadata": {
        "colab": {
          "base_uri": "https://localhost:8080/"
        },
        "id": "ZHBBI1yWpB1D",
        "outputId": "f0004c60-203b-4d6c-9ca7-3ef9720df9f8"
      },
      "source": [
        "# STEP 3: make predictions on the testing set\r\n",
        "y_predknn_5 = knn_5.predict(X_test)\r\n",
        "\r\n",
        "# compare actual response values (y_test) with predicted response values (y_pred)\r\n",
        "print(metrics.accuracy_score(y_test, y_predknn_5))"
      ],
      "execution_count": 75,
      "outputs": [
        {
          "output_type": "stream",
          "text": [
            "0.9666666666666667\n"
          ],
          "name": "stdout"
        }
      ]
    },
    {
      "cell_type": "markdown",
      "metadata": {
        "id": "-pgqxstGpOtI"
      },
      "source": [
        "### Optimized K"
      ]
    },
    {
      "cell_type": "code",
      "metadata": {
        "colab": {
          "base_uri": "https://localhost:8080/"
        },
        "id": "jokSThjzpQ_V",
        "outputId": "15f52b93-f4e4-4f95-90a5-b239b233f564"
      },
      "source": [
        "# try K=1 through K=25 and record testing accuracy\r\n",
        "k_range = list(range(1, 26))\r\n",
        "scores = []\r\n",
        "for k in k_range:\r\n",
        "    knn_range = KNeighborsClassifier(n_neighbors=k)\r\n",
        "    knn_range.fit(X_train, y_train)\r\n",
        "    y_pred = knn_range.predict(X_test)\r\n",
        "    scores.append(metrics.accuracy_score(y_test, y_pred))\r\n",
        "\r\n",
        "print(scores)"
      ],
      "execution_count": 78,
      "outputs": [
        {
          "output_type": "stream",
          "text": [
            "[0.95, 0.95, 0.9666666666666667, 0.9666666666666667, 0.9666666666666667, 0.9833333333333333, 0.9833333333333333, 0.9833333333333333, 0.9833333333333333, 0.9833333333333333, 0.9833333333333333, 0.9833333333333333, 0.9833333333333333, 0.9833333333333333, 0.9833333333333333, 0.9833333333333333, 0.9833333333333333, 0.9666666666666667, 0.9833333333333333, 0.9666666666666667, 0.9666666666666667, 0.9666666666666667, 0.9666666666666667, 0.95, 0.95]\n"
          ],
          "name": "stdout"
        }
      ]
    },
    {
      "cell_type": "code",
      "metadata": {
        "colab": {
          "base_uri": "https://localhost:8080/",
          "height": 283
        },
        "id": "Wrs1pI7Qpl5b",
        "outputId": "c97a7663-0b1b-4f89-ee9e-06d372b198b0"
      },
      "source": [
        "# import Matplotlib (scientific plotting library)\r\n",
        "import matplotlib.pyplot as plt\r\n",
        "\r\n",
        "# allow plots to appear within the notebook\r\n",
        "%matplotlib inline\r\n",
        "\r\n",
        "# plot the relationship between K and testing accuracy\r\n",
        "plt.plot(k_range, scores);\r\n",
        "plt.xlabel('Value of K for KNN');\r\n",
        "plt.ylabel('Testing Accuracy');"
      ],
      "execution_count": 80,
      "outputs": [
        {
          "output_type": "display_data",
          "data": {
            "image/png": "[encoded data removed]",
            "text/plain": [
              "<Figure size 432x288 with 1 Axes>"
            ]
          },
          "metadata": {
            "tags": [],
            "needs_background": "light"
          }
        }
      ]
    },
    {
      "cell_type": "markdown",
      "metadata": {
        "id": "h6pANjSoqBFv"
      },
      "source": [
        "* Training accuracy rises as model complexity increases\r\n",
        "* Testing accuracy penalizes models that are too complex or not complex enough"
      ]
    },
    {
      "cell_type": "code",
      "metadata": {
        "colab": {
          "base_uri": "https://localhost:8080/"
        },
        "id": "muDObfBfqTlO",
        "outputId": "2f761aed-f66c-405d-c8ab-f76edf7bb390"
      },
      "source": [
        "# KNN with K=6\r\n",
        "# STEP 2: train the model on the training set\r\n",
        "knn_6 = KNeighborsClassifier(n_neighbors=6)\r\n",
        "knn_6.fit(X_train, y_train)\r\n",
        "\r\n",
        "# STEP 3: make predictions on the testing set\r\n",
        "y_predknn_6 = knn_6.predict(X_test)\r\n",
        "\r\n",
        "# compare actual response values (y_test) with predicted response values (y_pred)\r\n",
        "print(metrics.accuracy_score(y_test, y_predknn_6))\r\n"
      ],
      "execution_count": 81,
      "outputs": [
        {
          "output_type": "stream",
          "text": [
            "0.9833333333333333\n"
          ],
          "name": "stdout"
        }
      ]
    },
    {
      "cell_type": "markdown",
      "metadata": {
        "id": "LJy9Vc4BqmMe"
      },
      "source": [
        "* LOGISTIC REGRESSION ACCURACY : 96.67%  \r\n",
        "* KNN WITH K=6 ACCURACY : 98.33%  \r\n",
        "\r\n",
        "KNN WITH K=6 IS THE BETTER MODEL"
      ]
    }
  ]
}