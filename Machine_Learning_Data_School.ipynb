{
  "nbformat": 4,
  "nbformat_minor": 0,
  "metadata": {
    "colab": {
      "name": "Machine_Learning_Data_School.ipynb",
      "provenance": [],
      "toc_visible": true,
      "authorship_tag": "ABX9TyPjVv6X3cq9PwMOt4L1UvD+",
      "include_colab_link": true
    },
    "kernelspec": {
      "name": "python3",
      "display_name": "Python 3"
    }
  },
  "cells": [
    {
      "cell_type": "markdown",
      "metadata": {
        "id": "view-in-github",
        "colab_type": "text"
      },
      "source": [
        "<a href=\"https://colab.research.google.com/github/ravi260372/Data_Science_Python/blob/main/Machine_Learning_Data_School.ipynb\" target=\"_parent\"><img src=\"https://colab.research.google.com/assets/colab-badge.svg\" alt=\"Open In Colab\"/></a>"
      ]
    },
    {
      "cell_type": "markdown",
      "metadata": {
        "id": "NlDDfSFySMo1"
      },
      "source": [
        "**Training a Machine Learning model with scikit-learn**"
      ]
    },
    {
      "cell_type": "markdown",
      "metadata": {
        "id": "8I-T72cVSTgE"
      },
      "source": [
        "## Reviewing the iris dataset"
      ]
    },
    {
      "cell_type": "code",
      "metadata": {
        "id": "rt-_Zfe3R1YC"
      },
      "source": [
        "# import load_iris function from datasets module\r\n",
        "from sklearn.datasets import load_iris"
      ],
      "execution_count": 2,
      "outputs": []
    },
    {
      "cell_type": "code",
      "metadata": {
        "colab": {
          "base_uri": "https://localhost:8080/"
        },
        "id": "6QBv7l35Smxz",
        "outputId": "c2b99980-9ea5-4178-c6e9-6c1332119669"
      },
      "source": [
        "# save \"bunch\" object containing iris dataset and its attributes\r\n",
        "iris = load_iris()\r\n",
        "type(iris)"
      ],
      "execution_count": 3,
      "outputs": [
        {
          "output_type": "execute_result",
          "data": {
            "text/plain": [
              "sklearn.utils.Bunch"
            ]
          },
          "metadata": {
            "tags": []
          },
          "execution_count": 3
        }
      ]
    },
    {
      "cell_type": "code",
      "metadata": {
        "colab": {
          "base_uri": "https://localhost:8080/"
        },
        "id": "6cdmHIeZSr4h",
        "outputId": "0bb7af1c-46df-4419-ffdf-892065a10b3f"
      },
      "source": [
        "# print the names of the four features\r\n",
        "print(iris.feature_names)"
      ],
      "execution_count": 4,
      "outputs": [
        {
          "output_type": "stream",
          "text": [
            "['sepal length (cm)', 'sepal width (cm)', 'petal length (cm)', 'petal width (cm)']\n"
          ],
          "name": "stdout"
        }
      ]
    },
    {
      "cell_type": "code",
      "metadata": {
        "colab": {
          "base_uri": "https://localhost:8080/"
        },
        "id": "nnSfSPx9SwLV",
        "outputId": "238d0a11-6086-427d-dedc-1dcdc6fb5e28"
      },
      "source": [
        "# print integers representing the species of each observation\r\n",
        "print(iris.target)"
      ],
      "execution_count": 5,
      "outputs": [
        {
          "output_type": "stream",
          "text": [
            "[0 0 0 0 0 0 0 0 0 0 0 0 0 0 0 0 0 0 0 0 0 0 0 0 0 0 0 0 0 0 0 0 0 0 0 0 0\n",
            " 0 0 0 0 0 0 0 0 0 0 0 0 0 1 1 1 1 1 1 1 1 1 1 1 1 1 1 1 1 1 1 1 1 1 1 1 1\n",
            " 1 1 1 1 1 1 1 1 1 1 1 1 1 1 1 1 1 1 1 1 1 1 1 1 1 1 2 2 2 2 2 2 2 2 2 2 2\n",
            " 2 2 2 2 2 2 2 2 2 2 2 2 2 2 2 2 2 2 2 2 2 2 2 2 2 2 2 2 2 2 2 2 2 2 2 2 2\n",
            " 2 2]\n"
          ],
          "name": "stdout"
        }
      ]
    },
    {
      "cell_type": "code",
      "metadata": {
        "colab": {
          "base_uri": "https://localhost:8080/"
        },
        "id": "dPZxuPEmS09i",
        "outputId": "2cbc2b24-7290-44e3-e2d4-9cf0cc495d9f"
      },
      "source": [
        "# print the encoding scheme for species: 0 = setosa, 1 = versicolor, 2 = virginica\r\n",
        "print(iris.target_names)"
      ],
      "execution_count": 6,
      "outputs": [
        {
          "output_type": "stream",
          "text": [
            "['setosa' 'versicolor' 'virginica']\n"
          ],
          "name": "stdout"
        }
      ]
    },
    {
      "cell_type": "markdown",
      "metadata": {
        "id": "dQHASE2xTKQB"
      },
      "source": [
        "# Requirements for scikit-learn\r\n",
        "**Requirements for working with data in scikit-learn**\r\n",
        "1. Features and response are separate objects\r\n",
        "2. Features should always be numeric, and response should be numeric for regression problems\r\n",
        "3. Features and response should be NumPy arrays\r\n",
        "4. Features and response should have specific shapes\r\n"
      ]
    },
    {
      "cell_type": "code",
      "metadata": {
        "colab": {
          "base_uri": "https://localhost:8080/"
        },
        "id": "RJfp6_77TFvW",
        "outputId": "92f04c24-0e2c-4319-e287-93227417d793"
      },
      "source": [
        "# check the types of the features and response\r\n",
        "print(type(iris.data))\r\n",
        "print(type(iris.target))"
      ],
      "execution_count": 8,
      "outputs": [
        {
          "output_type": "stream",
          "text": [
            "<class 'numpy.ndarray'>\n",
            "<class 'numpy.ndarray'>\n"
          ],
          "name": "stdout"
        }
      ]
    },
    {
      "cell_type": "code",
      "metadata": {
        "colab": {
          "base_uri": "https://localhost:8080/"
        },
        "id": "LSInHkhwTVTJ",
        "outputId": "da9c50d5-525d-42d9-a9ec-f04bebea3d95"
      },
      "source": [
        "# check the shape of the features (first dimension = number of observations, second dimensions = number of features)\r\n",
        "print(iris.data.shape)"
      ],
      "execution_count": 9,
      "outputs": [
        {
          "output_type": "stream",
          "text": [
            "(150, 4)\n"
          ],
          "name": "stdout"
        }
      ]
    },
    {
      "cell_type": "code",
      "metadata": {
        "colab": {
          "base_uri": "https://localhost:8080/"
        },
        "id": "67srCpfYTXGE",
        "outputId": "c7f4b0f2-c557-4af4-9238-b496c80b6269"
      },
      "source": [
        "# check the shape of the response (single dimension matching the number of observations)\r\n",
        "print(iris.target.shape)"
      ],
      "execution_count": 10,
      "outputs": [
        {
          "output_type": "stream",
          "text": [
            "(150,)\n"
          ],
          "name": "stdout"
        }
      ]
    },
    {
      "cell_type": "markdown",
      "metadata": {
        "id": "Z4dq5n1jUSHI"
      },
      "source": [
        "1. 150 observations\r\n",
        "2. 4 features (sepal length, sepal width, petal length, petal width)\r\n",
        "3. Response variable is the iris species\r\n",
        "4. Classification problem since response is categorical"
      ]
    },
    {
      "cell_type": "markdown",
      "metadata": {
        "id": "jBs5dnMCToZ2"
      },
      "source": [
        "# Create Features and Target Arrays\r\n"
      ]
    },
    {
      "cell_type": "code",
      "metadata": {
        "id": "XpIFQj1HS9Vn"
      },
      "source": [
        "# store feature matrix in \"X\"\r\n",
        "X = iris.data\r\n",
        "\r\n",
        "# store response vector in \"y\"\r\n",
        "y = iris.target"
      ],
      "execution_count": 7,
      "outputs": []
    },
    {
      "cell_type": "code",
      "metadata": {
        "colab": {
          "base_uri": "https://localhost:8080/"
        },
        "id": "VnPjN46LThcg",
        "outputId": "63a15f73-f031-4306-8e5f-5dd1f09f81f4"
      },
      "source": [
        "# print the shapes of X and y\r\n",
        "print(X.shape)\r\n",
        "print(y.shape)"
      ],
      "execution_count": 11,
      "outputs": [
        {
          "output_type": "stream",
          "text": [
            "(150, 4)\n",
            "(150,)\n"
          ],
          "name": "stdout"
        }
      ]
    },
    {
      "cell_type": "markdown",
      "metadata": {
        "id": "nY8gNAbuUltH"
      },
      "source": [
        "# 4-step modeling pattern  \r\n",
        "Step 1: Import the class you plan to use  \r\n",
        "Step 2: \"Instantiate\" the \"estimator\" / \"model\"  \r\n",
        "Step 3: Fit the model with data (aka \"model training\")  \r\n",
        "Step 4: Predict the response for a new observation"
      ]
    },
    {
      "cell_type": "code",
      "metadata": {
        "id": "W6yMkaIFU3pG"
      },
      "source": [
        "# Import the class from scikit learn.In our case KNN classifier\r\n",
        "from sklearn.neighbors import KNeighborsClassifier"
      ],
      "execution_count": 32,
      "outputs": []
    },
    {
      "cell_type": "code",
      "metadata": {
        "colab": {
          "base_uri": "https://localhost:8080/"
        },
        "id": "M7vP6RZsVEkQ",
        "outputId": "489c7baa-4e73-4606-8c12-4c93366dc2a9"
      },
      "source": [
        "# Instantiate the model. In our case 'knn' is the classifier object.\r\n",
        "# Instantiate the model with \"n=1\"\r\n",
        "knn = KNeighborsClassifier(n_neighbors=1)\r\n",
        "print(knn)"
      ],
      "execution_count": 33,
      "outputs": [
        {
          "output_type": "stream",
          "text": [
            "KNeighborsClassifier(algorithm='auto', leaf_size=30, metric='minkowski',\n",
            "                     metric_params=None, n_jobs=None, n_neighbors=1, p=2,\n",
            "                     weights='uniform')\n"
          ],
          "name": "stdout"
        }
      ]
    },
    {
      "cell_type": "code",
      "metadata": {
        "colab": {
          "base_uri": "https://localhost:8080/"
        },
        "id": "ZTYb24hpVSIu",
        "outputId": "e8af2008-63e1-412a-f1a7-7019389fca9f"
      },
      "source": [
        "# Fit the model on feature and target arrays\r\n",
        "knn.fit(X,y)"
      ],
      "execution_count": 34,
      "outputs": [
        {
          "output_type": "execute_result",
          "data": {
            "text/plain": [
              "KNeighborsClassifier(algorithm='auto', leaf_size=30, metric='minkowski',\n",
              "                     metric_params=None, n_jobs=None, n_neighbors=1, p=2,\n",
              "                     weights='uniform')"
            ]
          },
          "metadata": {
            "tags": []
          },
          "execution_count": 34
        }
      ]
    },
    {
      "cell_type": "code",
      "metadata": {
        "colab": {
          "base_uri": "https://localhost:8080/"
        },
        "id": "dAlFkPdhWxAY",
        "outputId": "3d3a3a77-2e18-4f56-a8a3-ada1476d20c3"
      },
      "source": [
        "# Predict with unknown X values\r\n",
        "knn.predict([[3, 5, 4, 2]])\r\n",
        "# returns a numpy array of predicted y with model run on given X"
      ],
      "execution_count": 35,
      "outputs": [
        {
          "output_type": "execute_result",
          "data": {
            "text/plain": [
              "array([2])"
            ]
          },
          "metadata": {
            "tags": []
          },
          "execution_count": 35
        }
      ]
    },
    {
      "cell_type": "code",
      "metadata": {
        "colab": {
          "base_uri": "https://localhost:8080/"
        },
        "id": "LaRaI3H9XC-B",
        "outputId": "8e2db7f4-0c41-4565-9405-84848b268aa3"
      },
      "source": [
        "# Predict on \"Multiple Values of Feature Vecors\" \r\n",
        "# In pour case 2 Arrays of X's\r\n",
        "X_new = [[3, 5, 4, 2], [5, 4, 3, 2]]\r\n",
        "knn.predict(X_new)\r\n",
        "# returns an array of predicted y for given arrays of Xs"
      ],
      "execution_count": 36,
      "outputs": [
        {
          "output_type": "execute_result",
          "data": {
            "text/plain": [
              "array([2, 1])"
            ]
          },
          "metadata": {
            "tags": []
          },
          "execution_count": 36
        }
      ]
    },
    {
      "cell_type": "markdown",
      "metadata": {
        "id": "wfyTsvnqXzXX"
      },
      "source": [
        "# Modeling with different K values"
      ]
    },
    {
      "cell_type": "code",
      "metadata": {
        "colab": {
          "base_uri": "https://localhost:8080/"
        },
        "id": "YBoJ9B1dXaef",
        "outputId": "529bf658-071c-4918-a0f1-6bf7232b4a48"
      },
      "source": [
        "# instantiate the model (using the value K=5)\r\n",
        "knn_5 = KNeighborsClassifier(n_neighbors=5)\r\n",
        "\r\n",
        "# fit the model with data\r\n",
        "knn_5.fit(X, y)\r\n",
        "\r\n",
        "# predict the response for new observations\r\n",
        "knn_5.predict(X_new)"
      ],
      "execution_count": 31,
      "outputs": [
        {
          "output_type": "execute_result",
          "data": {
            "text/plain": [
              "array([1, 1])"
            ]
          },
          "metadata": {
            "tags": []
          },
          "execution_count": 31
        }
      ]
    },
    {
      "cell_type": "markdown",
      "metadata": {
        "id": "6PXMs2ahX8SP"
      },
      "source": [
        "# Using a different classifier : Logistic Regression"
      ]
    },
    {
      "cell_type": "code",
      "metadata": {
        "id": "JLMSM8GAX_9M"
      },
      "source": [
        "# import the class\r\n",
        "from sklearn.linear_model import LogisticRegression"
      ],
      "execution_count": 37,
      "outputs": []
    },
    {
      "cell_type": "code",
      "metadata": {
        "id": "o4yLSPNzYGE7"
      },
      "source": [
        "# instantiate the model\r\n",
        "logreg = LogisticRegression(solver='liblinear')"
      ],
      "execution_count": 40,
      "outputs": []
    },
    {
      "cell_type": "code",
      "metadata": {
        "colab": {
          "base_uri": "https://localhost:8080/"
        },
        "id": "VfEts4mLYK26",
        "outputId": "0e51f062-6a6c-447f-ead0-45518aa55152"
      },
      "source": [
        "# fit the model with data\r\n",
        "logreg.fit(X, y)"
      ],
      "execution_count": 41,
      "outputs": [
        {
          "output_type": "execute_result",
          "data": {
            "text/plain": [
              "LogisticRegression(C=1.0, class_weight=None, dual=False, fit_intercept=True,\n",
              "                   intercept_scaling=1, l1_ratio=None, max_iter=100,\n",
              "                   multi_class='auto', n_jobs=None, penalty='l2',\n",
              "                   random_state=None, solver='liblinear', tol=0.0001, verbose=0,\n",
              "                   warm_start=False)"
            ]
          },
          "metadata": {
            "tags": []
          },
          "execution_count": 41
        }
      ]
    },
    {
      "cell_type": "code",
      "metadata": {
        "colab": {
          "base_uri": "https://localhost:8080/"
        },
        "id": "V7d5w2pKYRUi",
        "outputId": "6edd3b9c-7922-47d8-c0df-4cf11083f92b"
      },
      "source": [
        "# predict the response for new observations\r\n",
        "logreg.predict(X_new)"
      ],
      "execution_count": 42,
      "outputs": [
        {
          "output_type": "execute_result",
          "data": {
            "text/plain": [
              "array([2, 0])"
            ]
          },
          "metadata": {
            "tags": []
          },
          "execution_count": 42
        }
      ]
    }
  ]
}